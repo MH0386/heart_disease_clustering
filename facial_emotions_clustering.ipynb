{
 "cells": [
  {
   "cell_type": "code",
   "execution_count": 1,
   "id": "c8d2c2fd",
   "metadata": {
    "ExecuteTime": {
     "end_time": "2023-12-18T19:43:22.427550Z",
     "start_time": "2023-12-18T19:43:08.435376300Z"
    },
    "execution": {
     "iopub.execute_input": "2023-12-19T18:28:56.868636Z",
     "iopub.status.busy": "2023-12-19T18:28:56.868295Z",
     "iopub.status.idle": "2023-12-19T18:28:57.601652Z",
     "shell.execute_reply": "2023-12-19T18:28:57.600843Z"
    },
    "papermill": {
     "duration": 0.754508,
     "end_time": "2023-12-19T18:28:57.604021",
     "exception": false,
     "start_time": "2023-12-19T18:28:56.849513",
     "status": "completed"
    },
    "tags": []
   },
   "outputs": [],
   "source": [
    "import os\n",
    "import matplotlib.pyplot as plt\n",
    "import numpy as np\n",
    "import pandas as pd"
   ]
  },
  {
   "cell_type": "code",
   "execution_count": 2,
   "id": "c9febdae",
   "metadata": {
    "ExecuteTime": {
     "end_time": "2023-12-18T19:43:22.433021800Z",
     "start_time": "2023-12-18T19:43:12.465694900Z"
    },
    "collapsed": false,
    "execution": {
     "iopub.execute_input": "2023-12-19T18:28:57.640602Z",
     "iopub.status.busy": "2023-12-19T18:28:57.639804Z",
     "iopub.status.idle": "2023-12-19T18:28:57.644438Z",
     "shell.execute_reply": "2023-12-19T18:28:57.643616Z"
    },
    "jupyter": {
     "outputs_hidden": false
    },
    "papermill": {
     "duration": 0.024829,
     "end_time": "2023-12-19T18:28:57.646379",
     "exception": false,
     "start_time": "2023-12-19T18:28:57.621550",
     "status": "completed"
    },
    "tags": []
   },
   "outputs": [],
   "source": [
    "PathToLocal = \"heart_2020_cleaned.csv\"\n",
    "PathToKaggle = \"/kaggle/input/personal-key-indicators-of-heart-disease/2020/heart_2020_cleaned.csv\"\n",
    "\n",
    "Path = PathToLocal if os.path.exists(PathToLocal) else PathToKaggle"
   ]
  },
  {
   "cell_type": "code",
   "execution_count": 3,
   "id": "b6227173",
   "metadata": {
    "ExecuteTime": {
     "end_time": "2023-12-18T19:43:22.796980700Z",
     "start_time": "2023-12-18T19:43:12.477782800Z"
    },
    "collapsed": false,
    "execution": {
     "iopub.execute_input": "2023-12-19T18:28:57.682259Z",
     "iopub.status.busy": "2023-12-19T18:28:57.681935Z",
     "iopub.status.idle": "2023-12-19T18:28:58.913987Z",
     "shell.execute_reply": "2023-12-19T18:28:58.913111Z"
    },
    "jupyter": {
     "outputs_hidden": false
    },
    "papermill": {
     "duration": 1.252264,
     "end_time": "2023-12-19T18:28:58.916391",
     "exception": false,
     "start_time": "2023-12-19T18:28:57.664127",
     "status": "completed"
    },
    "tags": []
   },
   "outputs": [
    {
     "data": {
      "text/html": [
       "<div>\n",
       "<style scoped>\n",
       "    .dataframe tbody tr th:only-of-type {\n",
       "        vertical-align: middle;\n",
       "    }\n",
       "\n",
       "    .dataframe tbody tr th {\n",
       "        vertical-align: top;\n",
       "    }\n",
       "\n",
       "    .dataframe thead th {\n",
       "        text-align: right;\n",
       "    }\n",
       "</style>\n",
       "<table border=\"1\" class=\"dataframe\">\n",
       "  <thead>\n",
       "    <tr style=\"text-align: right;\">\n",
       "      <th></th>\n",
       "      <th>HeartDisease</th>\n",
       "      <th>BMI</th>\n",
       "      <th>Smoking</th>\n",
       "      <th>AlcoholDrinking</th>\n",
       "      <th>Stroke</th>\n",
       "      <th>PhysicalHealth</th>\n",
       "      <th>MentalHealth</th>\n",
       "      <th>DiffWalking</th>\n",
       "      <th>Sex</th>\n",
       "      <th>AgeCategory</th>\n",
       "      <th>Race</th>\n",
       "      <th>Diabetic</th>\n",
       "      <th>PhysicalActivity</th>\n",
       "      <th>GenHealth</th>\n",
       "      <th>SleepTime</th>\n",
       "      <th>Asthma</th>\n",
       "      <th>KidneyDisease</th>\n",
       "      <th>SkinCancer</th>\n",
       "    </tr>\n",
       "  </thead>\n",
       "  <tbody>\n",
       "    <tr>\n",
       "      <th>0</th>\n",
       "      <td>No</td>\n",
       "      <td>16.60</td>\n",
       "      <td>Yes</td>\n",
       "      <td>No</td>\n",
       "      <td>No</td>\n",
       "      <td>3.0</td>\n",
       "      <td>30.0</td>\n",
       "      <td>No</td>\n",
       "      <td>Female</td>\n",
       "      <td>55-59</td>\n",
       "      <td>White</td>\n",
       "      <td>Yes</td>\n",
       "      <td>Yes</td>\n",
       "      <td>Very good</td>\n",
       "      <td>5.0</td>\n",
       "      <td>Yes</td>\n",
       "      <td>No</td>\n",
       "      <td>Yes</td>\n",
       "    </tr>\n",
       "    <tr>\n",
       "      <th>1</th>\n",
       "      <td>No</td>\n",
       "      <td>20.34</td>\n",
       "      <td>No</td>\n",
       "      <td>No</td>\n",
       "      <td>Yes</td>\n",
       "      <td>0.0</td>\n",
       "      <td>0.0</td>\n",
       "      <td>No</td>\n",
       "      <td>Female</td>\n",
       "      <td>80 or older</td>\n",
       "      <td>White</td>\n",
       "      <td>No</td>\n",
       "      <td>Yes</td>\n",
       "      <td>Very good</td>\n",
       "      <td>7.0</td>\n",
       "      <td>No</td>\n",
       "      <td>No</td>\n",
       "      <td>No</td>\n",
       "    </tr>\n",
       "    <tr>\n",
       "      <th>2</th>\n",
       "      <td>No</td>\n",
       "      <td>26.58</td>\n",
       "      <td>Yes</td>\n",
       "      <td>No</td>\n",
       "      <td>No</td>\n",
       "      <td>20.0</td>\n",
       "      <td>30.0</td>\n",
       "      <td>No</td>\n",
       "      <td>Male</td>\n",
       "      <td>65-69</td>\n",
       "      <td>White</td>\n",
       "      <td>Yes</td>\n",
       "      <td>Yes</td>\n",
       "      <td>Fair</td>\n",
       "      <td>8.0</td>\n",
       "      <td>Yes</td>\n",
       "      <td>No</td>\n",
       "      <td>No</td>\n",
       "    </tr>\n",
       "    <tr>\n",
       "      <th>3</th>\n",
       "      <td>No</td>\n",
       "      <td>24.21</td>\n",
       "      <td>No</td>\n",
       "      <td>No</td>\n",
       "      <td>No</td>\n",
       "      <td>0.0</td>\n",
       "      <td>0.0</td>\n",
       "      <td>No</td>\n",
       "      <td>Female</td>\n",
       "      <td>75-79</td>\n",
       "      <td>White</td>\n",
       "      <td>No</td>\n",
       "      <td>No</td>\n",
       "      <td>Good</td>\n",
       "      <td>6.0</td>\n",
       "      <td>No</td>\n",
       "      <td>No</td>\n",
       "      <td>Yes</td>\n",
       "    </tr>\n",
       "    <tr>\n",
       "      <th>4</th>\n",
       "      <td>No</td>\n",
       "      <td>23.71</td>\n",
       "      <td>No</td>\n",
       "      <td>No</td>\n",
       "      <td>No</td>\n",
       "      <td>28.0</td>\n",
       "      <td>0.0</td>\n",
       "      <td>Yes</td>\n",
       "      <td>Female</td>\n",
       "      <td>40-44</td>\n",
       "      <td>White</td>\n",
       "      <td>No</td>\n",
       "      <td>Yes</td>\n",
       "      <td>Very good</td>\n",
       "      <td>8.0</td>\n",
       "      <td>No</td>\n",
       "      <td>No</td>\n",
       "      <td>No</td>\n",
       "    </tr>\n",
       "    <tr>\n",
       "      <th>...</th>\n",
       "      <td>...</td>\n",
       "      <td>...</td>\n",
       "      <td>...</td>\n",
       "      <td>...</td>\n",
       "      <td>...</td>\n",
       "      <td>...</td>\n",
       "      <td>...</td>\n",
       "      <td>...</td>\n",
       "      <td>...</td>\n",
       "      <td>...</td>\n",
       "      <td>...</td>\n",
       "      <td>...</td>\n",
       "      <td>...</td>\n",
       "      <td>...</td>\n",
       "      <td>...</td>\n",
       "      <td>...</td>\n",
       "      <td>...</td>\n",
       "      <td>...</td>\n",
       "    </tr>\n",
       "    <tr>\n",
       "      <th>319790</th>\n",
       "      <td>Yes</td>\n",
       "      <td>27.41</td>\n",
       "      <td>Yes</td>\n",
       "      <td>No</td>\n",
       "      <td>No</td>\n",
       "      <td>7.0</td>\n",
       "      <td>0.0</td>\n",
       "      <td>Yes</td>\n",
       "      <td>Male</td>\n",
       "      <td>60-64</td>\n",
       "      <td>Hispanic</td>\n",
       "      <td>Yes</td>\n",
       "      <td>No</td>\n",
       "      <td>Fair</td>\n",
       "      <td>6.0</td>\n",
       "      <td>Yes</td>\n",
       "      <td>No</td>\n",
       "      <td>No</td>\n",
       "    </tr>\n",
       "    <tr>\n",
       "      <th>319791</th>\n",
       "      <td>No</td>\n",
       "      <td>29.84</td>\n",
       "      <td>Yes</td>\n",
       "      <td>No</td>\n",
       "      <td>No</td>\n",
       "      <td>0.0</td>\n",
       "      <td>0.0</td>\n",
       "      <td>No</td>\n",
       "      <td>Male</td>\n",
       "      <td>35-39</td>\n",
       "      <td>Hispanic</td>\n",
       "      <td>No</td>\n",
       "      <td>Yes</td>\n",
       "      <td>Very good</td>\n",
       "      <td>5.0</td>\n",
       "      <td>Yes</td>\n",
       "      <td>No</td>\n",
       "      <td>No</td>\n",
       "    </tr>\n",
       "    <tr>\n",
       "      <th>319792</th>\n",
       "      <td>No</td>\n",
       "      <td>24.24</td>\n",
       "      <td>No</td>\n",
       "      <td>No</td>\n",
       "      <td>No</td>\n",
       "      <td>0.0</td>\n",
       "      <td>0.0</td>\n",
       "      <td>No</td>\n",
       "      <td>Female</td>\n",
       "      <td>45-49</td>\n",
       "      <td>Hispanic</td>\n",
       "      <td>No</td>\n",
       "      <td>Yes</td>\n",
       "      <td>Good</td>\n",
       "      <td>6.0</td>\n",
       "      <td>No</td>\n",
       "      <td>No</td>\n",
       "      <td>No</td>\n",
       "    </tr>\n",
       "    <tr>\n",
       "      <th>319793</th>\n",
       "      <td>No</td>\n",
       "      <td>32.81</td>\n",
       "      <td>No</td>\n",
       "      <td>No</td>\n",
       "      <td>No</td>\n",
       "      <td>0.0</td>\n",
       "      <td>0.0</td>\n",
       "      <td>No</td>\n",
       "      <td>Female</td>\n",
       "      <td>25-29</td>\n",
       "      <td>Hispanic</td>\n",
       "      <td>No</td>\n",
       "      <td>No</td>\n",
       "      <td>Good</td>\n",
       "      <td>12.0</td>\n",
       "      <td>No</td>\n",
       "      <td>No</td>\n",
       "      <td>No</td>\n",
       "    </tr>\n",
       "    <tr>\n",
       "      <th>319794</th>\n",
       "      <td>No</td>\n",
       "      <td>46.56</td>\n",
       "      <td>No</td>\n",
       "      <td>No</td>\n",
       "      <td>No</td>\n",
       "      <td>0.0</td>\n",
       "      <td>0.0</td>\n",
       "      <td>No</td>\n",
       "      <td>Female</td>\n",
       "      <td>80 or older</td>\n",
       "      <td>Hispanic</td>\n",
       "      <td>No</td>\n",
       "      <td>Yes</td>\n",
       "      <td>Good</td>\n",
       "      <td>8.0</td>\n",
       "      <td>No</td>\n",
       "      <td>No</td>\n",
       "      <td>No</td>\n",
       "    </tr>\n",
       "  </tbody>\n",
       "</table>\n",
       "<p>319795 rows × 18 columns</p>\n",
       "</div>"
      ],
      "text/plain": [
       "       HeartDisease    BMI Smoking AlcoholDrinking Stroke  PhysicalHealth  \\\n",
       "0                No  16.60     Yes              No     No             3.0   \n",
       "1                No  20.34      No              No    Yes             0.0   \n",
       "2                No  26.58     Yes              No     No            20.0   \n",
       "3                No  24.21      No              No     No             0.0   \n",
       "4                No  23.71      No              No     No            28.0   \n",
       "...             ...    ...     ...             ...    ...             ...   \n",
       "319790          Yes  27.41     Yes              No     No             7.0   \n",
       "319791           No  29.84     Yes              No     No             0.0   \n",
       "319792           No  24.24      No              No     No             0.0   \n",
       "319793           No  32.81      No              No     No             0.0   \n",
       "319794           No  46.56      No              No     No             0.0   \n",
       "\n",
       "        MentalHealth DiffWalking     Sex  AgeCategory      Race Diabetic  \\\n",
       "0               30.0          No  Female        55-59     White      Yes   \n",
       "1                0.0          No  Female  80 or older     White       No   \n",
       "2               30.0          No    Male        65-69     White      Yes   \n",
       "3                0.0          No  Female        75-79     White       No   \n",
       "4                0.0         Yes  Female        40-44     White       No   \n",
       "...              ...         ...     ...          ...       ...      ...   \n",
       "319790           0.0         Yes    Male        60-64  Hispanic      Yes   \n",
       "319791           0.0          No    Male        35-39  Hispanic       No   \n",
       "319792           0.0          No  Female        45-49  Hispanic       No   \n",
       "319793           0.0          No  Female        25-29  Hispanic       No   \n",
       "319794           0.0          No  Female  80 or older  Hispanic       No   \n",
       "\n",
       "       PhysicalActivity  GenHealth  SleepTime Asthma KidneyDisease SkinCancer  \n",
       "0                   Yes  Very good        5.0    Yes            No        Yes  \n",
       "1                   Yes  Very good        7.0     No            No         No  \n",
       "2                   Yes       Fair        8.0    Yes            No         No  \n",
       "3                    No       Good        6.0     No            No        Yes  \n",
       "4                   Yes  Very good        8.0     No            No         No  \n",
       "...                 ...        ...        ...    ...           ...        ...  \n",
       "319790               No       Fair        6.0    Yes            No         No  \n",
       "319791              Yes  Very good        5.0    Yes            No         No  \n",
       "319792              Yes       Good        6.0     No            No         No  \n",
       "319793               No       Good       12.0     No            No         No  \n",
       "319794              Yes       Good        8.0     No            No         No  \n",
       "\n",
       "[319795 rows x 18 columns]"
      ]
     },
     "execution_count": 3,
     "metadata": {},
     "output_type": "execute_result"
    }
   ],
   "source": [
    "data = pd.read_csv(Path)\n",
    "data"
   ]
  },
  {
   "cell_type": "code",
   "execution_count": 4,
   "id": "08cfe08e",
   "metadata": {
    "ExecuteTime": {
     "end_time": "2023-12-18T19:43:22.800983200Z",
     "start_time": "2023-12-18T19:43:14.585905200Z"
    },
    "collapsed": false,
    "execution": {
     "iopub.execute_input": "2023-12-19T18:28:58.952778Z",
     "iopub.status.busy": "2023-12-19T18:28:58.952472Z",
     "iopub.status.idle": "2023-12-19T18:28:58.996503Z",
     "shell.execute_reply": "2023-12-19T18:28:58.995769Z"
    },
    "jupyter": {
     "outputs_hidden": false
    },
    "papermill": {
     "duration": 0.06446,
     "end_time": "2023-12-19T18:28:58.998530",
     "exception": false,
     "start_time": "2023-12-19T18:28:58.934070",
     "status": "completed"
    },
    "tags": []
   },
   "outputs": [],
   "source": [
    "data.Sex = data.Sex.map(\n",
    "    {\n",
    "        'Male': 1,\n",
    "        'Female': 0\n",
    "    }\n",
    ")"
   ]
  },
  {
   "cell_type": "code",
   "execution_count": 5,
   "id": "4553421b",
   "metadata": {
    "ExecuteTime": {
     "end_time": "2023-12-18T19:43:22.804532800Z",
     "start_time": "2023-12-18T19:43:14.696203200Z"
    },
    "collapsed": false,
    "execution": {
     "iopub.execute_input": "2023-12-19T18:28:59.035373Z",
     "iopub.status.busy": "2023-12-19T18:28:59.035028Z",
     "iopub.status.idle": "2023-12-19T18:28:59.082264Z",
     "shell.execute_reply": "2023-12-19T18:28:59.081498Z"
    },
    "jupyter": {
     "outputs_hidden": false
    },
    "papermill": {
     "duration": 0.067674,
     "end_time": "2023-12-19T18:28:59.084314",
     "exception": false,
     "start_time": "2023-12-19T18:28:59.016640",
     "status": "completed"
    },
    "tags": []
   },
   "outputs": [],
   "source": [
    "data.AgeCategory = data.AgeCategory.map(\n",
    "    {\n",
    "        '18-24': 1,\n",
    "        '40-44': 2,\n",
    "        '45-49': 3,\n",
    "        '50-54': 4,\n",
    "        '55-59': 5,\n",
    "        '60-64': 6,\n",
    "        '65-69': 7,\n",
    "        '70-74': 8,\n",
    "        '75-79': 9,\n",
    "        '80 or older': 10,\n",
    "    }\n",
    ")"
   ]
  },
  {
   "cell_type": "code",
   "execution_count": 6,
   "id": "23d92b63",
   "metadata": {
    "ExecuteTime": {
     "end_time": "2023-12-18T19:43:22.811030200Z",
     "start_time": "2023-12-18T19:43:14.717808200Z"
    },
    "collapsed": false,
    "execution": {
     "iopub.execute_input": "2023-12-19T18:28:59.120711Z",
     "iopub.status.busy": "2023-12-19T18:28:59.120372Z",
     "iopub.status.idle": "2023-12-19T18:28:59.356337Z",
     "shell.execute_reply": "2023-12-19T18:28:59.355556Z"
    },
    "jupyter": {
     "outputs_hidden": false
    },
    "papermill": {
     "duration": 0.256786,
     "end_time": "2023-12-19T18:28:59.358669",
     "exception": false,
     "start_time": "2023-12-19T18:28:59.101883",
     "status": "completed"
    },
    "tags": []
   },
   "outputs": [],
   "source": [
    "data = pd.get_dummies(data, columns=['Race'])"
   ]
  },
  {
   "cell_type": "code",
   "execution_count": 7,
   "id": "c07cdcc2",
   "metadata": {
    "ExecuteTime": {
     "end_time": "2023-12-18T19:43:22.812042700Z",
     "start_time": "2023-12-18T19:43:15.235092400Z"
    },
    "collapsed": false,
    "execution": {
     "iopub.execute_input": "2023-12-19T18:28:59.395568Z",
     "iopub.status.busy": "2023-12-19T18:28:59.395222Z",
     "iopub.status.idle": "2023-12-19T18:28:59.430348Z",
     "shell.execute_reply": "2023-12-19T18:28:59.429557Z"
    },
    "jupyter": {
     "outputs_hidden": false
    },
    "papermill": {
     "duration": 0.0559,
     "end_time": "2023-12-19T18:28:59.432422",
     "exception": false,
     "start_time": "2023-12-19T18:28:59.376522",
     "status": "completed"
    },
    "tags": []
   },
   "outputs": [],
   "source": [
    "data.Diabetic = data.Diabetic.map(\n",
    "    {\n",
    "        'Yes': 1,\n",
    "        'Yes (during pregnancy)': 1,\n",
    "        'No': 0,\n",
    "        'No, borderline diabetes': 0,\n",
    "    }\n",
    ")"
   ]
  },
  {
   "cell_type": "code",
   "execution_count": 8,
   "id": "5ad65431",
   "metadata": {
    "ExecuteTime": {
     "end_time": "2023-12-18T19:43:22.813061400Z",
     "start_time": "2023-12-18T19:43:15.290301500Z"
    },
    "collapsed": false,
    "execution": {
     "iopub.execute_input": "2023-12-19T18:28:59.519314Z",
     "iopub.status.busy": "2023-12-19T18:28:59.518939Z",
     "iopub.status.idle": "2023-12-19T18:28:59.553519Z",
     "shell.execute_reply": "2023-12-19T18:28:59.552721Z"
    },
    "jupyter": {
     "outputs_hidden": false
    },
    "papermill": {
     "duration": 0.105486,
     "end_time": "2023-12-19T18:28:59.555607",
     "exception": false,
     "start_time": "2023-12-19T18:28:59.450121",
     "status": "completed"
    },
    "tags": []
   },
   "outputs": [],
   "source": [
    "data.GenHealth = data.GenHealth.map(\n",
    "    {\n",
    "        'Excellent': 5,\n",
    "        'Very good': 4,\n",
    "        'Good': 3,\n",
    "        'Fair': 2,\n",
    "        'Poor': 1,\n",
    "    }\n",
    ")"
   ]
  },
  {
   "cell_type": "code",
   "execution_count": 9,
   "id": "b36080e4",
   "metadata": {
    "ExecuteTime": {
     "end_time": "2023-12-18T19:43:22.816052400Z",
     "start_time": "2023-12-18T19:43:15.305958200Z"
    },
    "collapsed": false,
    "execution": {
     "iopub.execute_input": "2023-12-19T18:28:59.591995Z",
     "iopub.status.busy": "2023-12-19T18:28:59.591679Z",
     "iopub.status.idle": "2023-12-19T18:28:59.625487Z",
     "shell.execute_reply": "2023-12-19T18:28:59.624492Z"
    },
    "jupyter": {
     "outputs_hidden": false
    },
    "papermill": {
     "duration": 0.054291,
     "end_time": "2023-12-19T18:28:59.627541",
     "exception": false,
     "start_time": "2023-12-19T18:28:59.573250",
     "status": "completed"
    },
    "tags": []
   },
   "outputs": [],
   "source": [
    "data.HeartDisease = data.HeartDisease.map(\n",
    "    {\n",
    "        'Yes': 1,\n",
    "        'No': 0,\n",
    "    }\n",
    ")"
   ]
  },
  {
   "cell_type": "code",
   "execution_count": 10,
   "id": "eb64f847",
   "metadata": {
    "ExecuteTime": {
     "end_time": "2023-12-18T19:43:22.816052400Z",
     "start_time": "2023-12-18T19:43:15.361764600Z"
    },
    "collapsed": false,
    "execution": {
     "iopub.execute_input": "2023-12-19T18:28:59.664276Z",
     "iopub.status.busy": "2023-12-19T18:28:59.663917Z",
     "iopub.status.idle": "2023-12-19T18:28:59.697060Z",
     "shell.execute_reply": "2023-12-19T18:28:59.696162Z"
    },
    "jupyter": {
     "outputs_hidden": false
    },
    "papermill": {
     "duration": 0.05374,
     "end_time": "2023-12-19T18:28:59.699119",
     "exception": false,
     "start_time": "2023-12-19T18:28:59.645379",
     "status": "completed"
    },
    "tags": []
   },
   "outputs": [],
   "source": [
    "data.Smoking = data.Smoking.map(\n",
    "    {\n",
    "        'Yes': 1,\n",
    "        'No': 0,\n",
    "    }\n",
    ")"
   ]
  },
  {
   "cell_type": "code",
   "execution_count": 11,
   "id": "3ac66b6a",
   "metadata": {
    "ExecuteTime": {
     "end_time": "2023-12-18T19:43:22.817054200Z",
     "start_time": "2023-12-18T19:43:15.487335Z"
    },
    "collapsed": false,
    "execution": {
     "iopub.execute_input": "2023-12-19T18:28:59.735568Z",
     "iopub.status.busy": "2023-12-19T18:28:59.735257Z",
     "iopub.status.idle": "2023-12-19T18:28:59.770249Z",
     "shell.execute_reply": "2023-12-19T18:28:59.769504Z"
    },
    "jupyter": {
     "outputs_hidden": false
    },
    "papermill": {
     "duration": 0.05558,
     "end_time": "2023-12-19T18:28:59.772267",
     "exception": false,
     "start_time": "2023-12-19T18:28:59.716687",
     "status": "completed"
    },
    "tags": []
   },
   "outputs": [],
   "source": [
    "data.AlcoholDrinking = data.AlcoholDrinking.map(\n",
    "    {\n",
    "        'Yes': 1,\n",
    "        'No': 0,\n",
    "    }\n",
    ")"
   ]
  },
  {
   "cell_type": "code",
   "execution_count": 12,
   "id": "177f1e67",
   "metadata": {
    "ExecuteTime": {
     "end_time": "2023-12-18T19:43:22.818055400Z",
     "start_time": "2023-12-18T19:43:15.537813800Z"
    },
    "collapsed": false,
    "execution": {
     "iopub.execute_input": "2023-12-19T18:28:59.809861Z",
     "iopub.status.busy": "2023-12-19T18:28:59.809558Z",
     "iopub.status.idle": "2023-12-19T18:28:59.843089Z",
     "shell.execute_reply": "2023-12-19T18:28:59.842355Z"
    },
    "jupyter": {
     "outputs_hidden": false
    },
    "papermill": {
     "duration": 0.055152,
     "end_time": "2023-12-19T18:28:59.845365",
     "exception": false,
     "start_time": "2023-12-19T18:28:59.790213",
     "status": "completed"
    },
    "tags": []
   },
   "outputs": [],
   "source": [
    "data.Stroke = data.Stroke.map(\n",
    "    {\n",
    "        'Yes': 1,\n",
    "        'No': 0,\n",
    "    }\n",
    ")"
   ]
  },
  {
   "cell_type": "code",
   "execution_count": 13,
   "id": "3036b6e2",
   "metadata": {
    "ExecuteTime": {
     "end_time": "2023-12-18T19:43:22.820054Z",
     "start_time": "2023-12-18T19:43:15.552902500Z"
    },
    "collapsed": false,
    "execution": {
     "iopub.execute_input": "2023-12-19T18:28:59.881893Z",
     "iopub.status.busy": "2023-12-19T18:28:59.881603Z",
     "iopub.status.idle": "2023-12-19T18:28:59.915750Z",
     "shell.execute_reply": "2023-12-19T18:28:59.915055Z"
    },
    "jupyter": {
     "outputs_hidden": false
    },
    "papermill": {
     "duration": 0.054532,
     "end_time": "2023-12-19T18:28:59.917735",
     "exception": false,
     "start_time": "2023-12-19T18:28:59.863203",
     "status": "completed"
    },
    "tags": []
   },
   "outputs": [],
   "source": [
    "data.DiffWalking = data.DiffWalking.map(\n",
    "    {\n",
    "        'Yes': 1,\n",
    "        'No': 0,\n",
    "    }\n",
    ")"
   ]
  },
  {
   "cell_type": "code",
   "execution_count": 14,
   "id": "51a1a32f",
   "metadata": {
    "ExecuteTime": {
     "end_time": "2023-12-18T19:43:22.821053100Z",
     "start_time": "2023-12-18T19:43:15.693029Z"
    },
    "collapsed": false,
    "execution": {
     "iopub.execute_input": "2023-12-19T18:28:59.955557Z",
     "iopub.status.busy": "2023-12-19T18:28:59.955224Z",
     "iopub.status.idle": "2023-12-19T18:28:59.988358Z",
     "shell.execute_reply": "2023-12-19T18:28:59.987620Z"
    },
    "jupyter": {
     "outputs_hidden": false
    },
    "papermill": {
     "duration": 0.053856,
     "end_time": "2023-12-19T18:28:59.990332",
     "exception": false,
     "start_time": "2023-12-19T18:28:59.936476",
     "status": "completed"
    },
    "tags": []
   },
   "outputs": [],
   "source": [
    "data.PhysicalActivity = data.PhysicalActivity.map(\n",
    "    {\n",
    "        'Yes': 1,\n",
    "        'No': 0,\n",
    "    }\n",
    ")"
   ]
  },
  {
   "cell_type": "code",
   "execution_count": 15,
   "id": "49cd6a6b",
   "metadata": {
    "ExecuteTime": {
     "end_time": "2023-12-18T19:43:22.822055900Z",
     "start_time": "2023-12-18T19:43:15.720632700Z"
    },
    "collapsed": false,
    "execution": {
     "iopub.execute_input": "2023-12-19T18:29:00.027111Z",
     "iopub.status.busy": "2023-12-19T18:29:00.026780Z",
     "iopub.status.idle": "2023-12-19T18:29:00.060232Z",
     "shell.execute_reply": "2023-12-19T18:29:00.059525Z"
    },
    "jupyter": {
     "outputs_hidden": false
    },
    "papermill": {
     "duration": 0.054325,
     "end_time": "2023-12-19T18:29:00.062251",
     "exception": false,
     "start_time": "2023-12-19T18:29:00.007926",
     "status": "completed"
    },
    "tags": []
   },
   "outputs": [],
   "source": [
    "data.Asthma = data.Asthma.map(\n",
    "    {\n",
    "        'Yes': 1,\n",
    "        'No': 0,\n",
    "    }\n",
    ")"
   ]
  },
  {
   "cell_type": "code",
   "execution_count": 16,
   "id": "7d6d614f",
   "metadata": {
    "ExecuteTime": {
     "end_time": "2023-12-18T19:43:22.823583800Z",
     "start_time": "2023-12-18T19:43:15.780049200Z"
    },
    "collapsed": false,
    "execution": {
     "iopub.execute_input": "2023-12-19T18:29:00.098879Z",
     "iopub.status.busy": "2023-12-19T18:29:00.098585Z",
     "iopub.status.idle": "2023-12-19T18:29:00.131509Z",
     "shell.execute_reply": "2023-12-19T18:29:00.130734Z"
    },
    "jupyter": {
     "outputs_hidden": false
    },
    "papermill": {
     "duration": 0.053353,
     "end_time": "2023-12-19T18:29:00.133586",
     "exception": false,
     "start_time": "2023-12-19T18:29:00.080233",
     "status": "completed"
    },
    "tags": []
   },
   "outputs": [],
   "source": [
    "data.KidneyDisease = data.KidneyDisease.map(\n",
    "    {\n",
    "        'Yes': 1,\n",
    "        'No': 0,\n",
    "    }\n",
    ")"
   ]
  },
  {
   "cell_type": "code",
   "execution_count": 17,
   "id": "feeefc9f",
   "metadata": {
    "ExecuteTime": {
     "end_time": "2023-12-18T19:43:22.830598500Z",
     "start_time": "2023-12-18T19:43:15.817291500Z"
    },
    "collapsed": false,
    "execution": {
     "iopub.execute_input": "2023-12-19T18:29:00.169982Z",
     "iopub.status.busy": "2023-12-19T18:29:00.169660Z",
     "iopub.status.idle": "2023-12-19T18:29:00.214960Z",
     "shell.execute_reply": "2023-12-19T18:29:00.214229Z"
    },
    "jupyter": {
     "outputs_hidden": false
    },
    "papermill": {
     "duration": 0.065648,
     "end_time": "2023-12-19T18:29:00.217030",
     "exception": false,
     "start_time": "2023-12-19T18:29:00.151382",
     "status": "completed"
    },
    "tags": []
   },
   "outputs": [],
   "source": [
    "data.SkinCancer = data.SkinCancer.map(\n",
    "    {\n",
    "        'Yes': 1,\n",
    "        'No': 0,\n",
    "    }\n",
    ")"
   ]
  },
  {
   "cell_type": "code",
   "execution_count": 18,
   "id": "9928d2ab",
   "metadata": {
    "ExecuteTime": {
     "end_time": "2023-12-18T19:43:22.838151400Z",
     "start_time": "2023-12-18T19:43:15.846495300Z"
    },
    "collapsed": false,
    "execution": {
     "iopub.execute_input": "2023-12-19T18:29:00.253910Z",
     "iopub.status.busy": "2023-12-19T18:29:00.253129Z",
     "iopub.status.idle": "2023-12-19T18:29:00.267567Z",
     "shell.execute_reply": "2023-12-19T18:29:00.266702Z"
    },
    "jupyter": {
     "outputs_hidden": false
    },
    "papermill": {
     "duration": 0.034836,
     "end_time": "2023-12-19T18:29:00.269537",
     "exception": false,
     "start_time": "2023-12-19T18:29:00.234701",
     "status": "completed"
    },
    "tags": []
   },
   "outputs": [
    {
     "data": {
      "text/plain": [
       "HeartDisease                               0\n",
       "BMI                                        0\n",
       "Smoking                                    0\n",
       "AlcoholDrinking                            0\n",
       "Stroke                                     0\n",
       "PhysicalHealth                             0\n",
       "MentalHealth                               0\n",
       "DiffWalking                                0\n",
       "Sex                                        0\n",
       "AgeCategory                            56258\n",
       "Diabetic                                   0\n",
       "PhysicalActivity                           0\n",
       "GenHealth                                  0\n",
       "SleepTime                                  0\n",
       "Asthma                                     0\n",
       "KidneyDisease                              0\n",
       "SkinCancer                                 0\n",
       "Race_American Indian/Alaskan Native        0\n",
       "Race_Asian                                 0\n",
       "Race_Black                                 0\n",
       "Race_Hispanic                              0\n",
       "Race_Other                                 0\n",
       "Race_White                                 0\n",
       "dtype: int64"
      ]
     },
     "execution_count": 18,
     "metadata": {},
     "output_type": "execute_result"
    }
   ],
   "source": [
    "data.isnull().sum()"
   ]
  },
  {
   "cell_type": "code",
   "execution_count": 19,
   "id": "4e5a466d",
   "metadata": {
    "ExecuteTime": {
     "end_time": "2023-12-18T19:43:22.839153200Z",
     "start_time": "2023-12-18T19:43:15.880276100Z"
    },
    "collapsed": false,
    "execution": {
     "iopub.execute_input": "2023-12-19T18:29:00.308649Z",
     "iopub.status.busy": "2023-12-19T18:29:00.308332Z",
     "iopub.status.idle": "2023-12-19T18:29:00.320508Z",
     "shell.execute_reply": "2023-12-19T18:29:00.319795Z"
    },
    "jupyter": {
     "outputs_hidden": false
    },
    "papermill": {
     "duration": 0.035139,
     "end_time": "2023-12-19T18:29:00.322490",
     "exception": false,
     "start_time": "2023-12-19T18:29:00.287351",
     "status": "completed"
    },
    "tags": []
   },
   "outputs": [],
   "source": [
    "data = data.astype(np.float32)"
   ]
  },
  {
   "cell_type": "code",
   "execution_count": 20,
   "id": "ded5bb8a",
   "metadata": {
    "ExecuteTime": {
     "end_time": "2023-12-18T19:43:22.841149900Z",
     "start_time": "2023-12-18T19:43:15.952951200Z"
    },
    "collapsed": false,
    "execution": {
     "iopub.execute_input": "2023-12-19T18:29:00.359398Z",
     "iopub.status.busy": "2023-12-19T18:29:00.359034Z",
     "iopub.status.idle": "2023-12-19T18:29:00.390656Z",
     "shell.execute_reply": "2023-12-19T18:29:00.389699Z"
    },
    "jupyter": {
     "outputs_hidden": false
    },
    "papermill": {
     "duration": 0.052668,
     "end_time": "2023-12-19T18:29:00.393021",
     "exception": false,
     "start_time": "2023-12-19T18:29:00.340353",
     "status": "completed"
    },
    "tags": []
   },
   "outputs": [],
   "source": [
    "data.dropna(inplace=True)"
   ]
  },
  {
   "cell_type": "code",
   "execution_count": 21,
   "id": "0e4d139d",
   "metadata": {
    "ExecuteTime": {
     "end_time": "2023-12-18T19:43:22.842151400Z",
     "start_time": "2023-12-18T19:43:15.998935200Z"
    },
    "collapsed": false,
    "execution": {
     "iopub.execute_input": "2023-12-19T18:29:00.430345Z",
     "iopub.status.busy": "2023-12-19T18:29:00.429676Z",
     "iopub.status.idle": "2023-12-19T18:29:00.433910Z",
     "shell.execute_reply": "2023-12-19T18:29:00.433086Z"
    },
    "jupyter": {
     "outputs_hidden": false
    },
    "papermill": {
     "duration": 0.024733,
     "end_time": "2023-12-19T18:29:00.435792",
     "exception": false,
     "start_time": "2023-12-19T18:29:00.411059",
     "status": "completed"
    },
    "tags": []
   },
   "outputs": [],
   "source": [
    "y = data['HeartDisease']"
   ]
  },
  {
   "cell_type": "code",
   "execution_count": 22,
   "id": "0b63d782",
   "metadata": {
    "ExecuteTime": {
     "end_time": "2023-12-18T19:43:22.842663200Z",
     "start_time": "2023-12-18T19:43:16.048972100Z"
    },
    "collapsed": false,
    "execution": {
     "iopub.execute_input": "2023-12-19T18:29:00.472430Z",
     "iopub.status.busy": "2023-12-19T18:29:00.472116Z",
     "iopub.status.idle": "2023-12-19T18:29:00.486310Z",
     "shell.execute_reply": "2023-12-19T18:29:00.485460Z"
    },
    "jupyter": {
     "outputs_hidden": false
    },
    "papermill": {
     "duration": 0.034838,
     "end_time": "2023-12-19T18:29:00.488309",
     "exception": false,
     "start_time": "2023-12-19T18:29:00.453471",
     "status": "completed"
    },
    "tags": []
   },
   "outputs": [],
   "source": [
    "data = data.drop(columns=['HeartDisease'])"
   ]
  },
  {
   "cell_type": "code",
   "execution_count": 23,
   "id": "ac7ed208",
   "metadata": {
    "ExecuteTime": {
     "end_time": "2023-12-18T19:43:22.844688800Z",
     "start_time": "2023-12-18T19:43:16.055521300Z"
    },
    "collapsed": false,
    "execution": {
     "iopub.execute_input": "2023-12-19T18:29:00.524691Z",
     "iopub.status.busy": "2023-12-19T18:29:00.524378Z",
     "iopub.status.idle": "2023-12-19T18:29:00.546936Z",
     "shell.execute_reply": "2023-12-19T18:29:00.546098Z"
    },
    "jupyter": {
     "outputs_hidden": false
    },
    "papermill": {
     "duration": 0.043123,
     "end_time": "2023-12-19T18:29:00.548909",
     "exception": false,
     "start_time": "2023-12-19T18:29:00.505786",
     "status": "completed"
    },
    "tags": []
   },
   "outputs": [
    {
     "data": {
      "text/plain": [
       "array([[16.6 ,  1.  ,  0.  , ...,  0.  ,  0.  ,  1.  ],\n",
       "       [20.34,  0.  ,  0.  , ...,  0.  ,  0.  ,  1.  ],\n",
       "       [26.58,  1.  ,  0.  , ...,  0.  ,  0.  ,  1.  ],\n",
       "       ...,\n",
       "       [27.41,  1.  ,  0.  , ...,  1.  ,  0.  ,  0.  ],\n",
       "       [24.24,  0.  ,  0.  , ...,  1.  ,  0.  ,  0.  ],\n",
       "       [46.56,  0.  ,  0.  , ...,  1.  ,  0.  ,  0.  ]], dtype=float32)"
      ]
     },
     "execution_count": 23,
     "metadata": {},
     "output_type": "execute_result"
    }
   ],
   "source": [
    "data = np.array(data)\n",
    "data"
   ]
  },
  {
   "cell_type": "code",
   "execution_count": 24,
   "id": "329965f7",
   "metadata": {
    "ExecuteTime": {
     "end_time": "2023-12-18T19:43:22.846687400Z",
     "start_time": "2023-12-18T19:43:16.090314600Z"
    },
    "collapsed": false,
    "execution": {
     "iopub.execute_input": "2023-12-19T18:29:00.585684Z",
     "iopub.status.busy": "2023-12-19T18:29:00.585364Z",
     "iopub.status.idle": "2023-12-19T18:29:00.589772Z",
     "shell.execute_reply": "2023-12-19T18:29:00.588974Z"
    },
    "jupyter": {
     "outputs_hidden": false
    },
    "papermill": {
     "duration": 0.02501,
     "end_time": "2023-12-19T18:29:00.591671",
     "exception": false,
     "start_time": "2023-12-19T18:29:00.566661",
     "status": "completed"
    },
    "tags": []
   },
   "outputs": [],
   "source": [
    "def preprocess(Data):\n",
    "    return np.array(Data) - np.mean(np.array(Data), axis=0)"
   ]
  },
  {
   "cell_type": "code",
   "execution_count": 25,
   "id": "ded8059d",
   "metadata": {
    "ExecuteTime": {
     "end_time": "2023-12-18T19:43:22.847689100Z",
     "start_time": "2023-12-18T19:43:16.110569300Z"
    },
    "collapsed": false,
    "execution": {
     "iopub.execute_input": "2023-12-19T18:29:00.628150Z",
     "iopub.status.busy": "2023-12-19T18:29:00.627821Z",
     "iopub.status.idle": "2023-12-19T18:29:00.633908Z",
     "shell.execute_reply": "2023-12-19T18:29:00.633105Z"
    },
    "jupyter": {
     "outputs_hidden": false
    },
    "papermill": {
     "duration": 0.026522,
     "end_time": "2023-12-19T18:29:00.635793",
     "exception": false,
     "start_time": "2023-12-19T18:29:00.609271",
     "status": "completed"
    },
    "tags": []
   },
   "outputs": [],
   "source": [
    "def manual_covariance_matrix(data):\n",
    "    X_mean = np.mean(data, axis=0)\n",
    "    x_centered = (data - X_mean)\n",
    "    num_samples = data.shape[0]\n",
    "    num_features = data.shape[1]\n",
    "\n",
    "    covarianceMatrix = np.zeros((num_features, num_features))\n",
    "\n",
    "    for i in range(num_features):\n",
    "        for j in range(num_features):\n",
    "            covarianceMatrix[i, j] = np.sum((data[:, i] - X_mean[i]) * (data[:, j] - X_mean[j])) / (num_samples - 1)\n",
    "\n",
    "    return covarianceMatrix, x_centered"
   ]
  },
  {
   "cell_type": "code",
   "execution_count": 26,
   "id": "6fcc3535",
   "metadata": {
    "ExecuteTime": {
     "end_time": "2023-12-18T19:43:22.848692Z",
     "start_time": "2023-12-18T19:43:16.127249600Z"
    },
    "collapsed": false,
    "execution": {
     "iopub.execute_input": "2023-12-19T18:29:00.672048Z",
     "iopub.status.busy": "2023-12-19T18:29:00.671756Z",
     "iopub.status.idle": "2023-12-19T18:29:00.691020Z",
     "shell.execute_reply": "2023-12-19T18:29:00.690096Z"
    },
    "jupyter": {
     "outputs_hidden": false
    },
    "papermill": {
     "duration": 0.040081,
     "end_time": "2023-12-19T18:29:00.693360",
     "exception": false,
     "start_time": "2023-12-19T18:29:00.653279",
     "status": "completed"
    },
    "tags": []
   },
   "outputs": [],
   "source": [
    "X_centered = preprocess(data)"
   ]
  },
  {
   "cell_type": "code",
   "execution_count": 27,
   "id": "4fa01303",
   "metadata": {
    "ExecuteTime": {
     "end_time": "2023-12-18T19:43:22.848692Z",
     "start_time": "2023-12-18T19:43:16.167413Z"
    },
    "collapsed": false,
    "execution": {
     "iopub.execute_input": "2023-12-19T18:29:00.734749Z",
     "iopub.status.busy": "2023-12-19T18:29:00.733500Z",
     "iopub.status.idle": "2023-12-19T18:29:00.751983Z",
     "shell.execute_reply": "2023-12-19T18:29:00.750945Z"
    },
    "jupyter": {
     "outputs_hidden": false
    },
    "papermill": {
     "duration": 0.043646,
     "end_time": "2023-12-19T18:29:00.754914",
     "exception": false,
     "start_time": "2023-12-19T18:29:00.711268",
     "status": "completed"
    },
    "tags": []
   },
   "outputs": [],
   "source": [
    "covariance_matrix = np.dot(X_centered.T, X_centered) / len(X_centered)"
   ]
  },
  {
   "cell_type": "code",
   "execution_count": 28,
   "id": "ccce1d4c",
   "metadata": {
    "ExecuteTime": {
     "end_time": "2023-12-18T19:43:22.851789300Z",
     "start_time": "2023-12-18T19:43:16.230199500Z"
    },
    "collapsed": false,
    "execution": {
     "iopub.execute_input": "2023-12-19T18:29:00.798492Z",
     "iopub.status.busy": "2023-12-19T18:29:00.797693Z",
     "iopub.status.idle": "2023-12-19T18:29:00.809079Z",
     "shell.execute_reply": "2023-12-19T18:29:00.808233Z"
    },
    "jupyter": {
     "outputs_hidden": false
    },
    "papermill": {
     "duration": 0.032189,
     "end_time": "2023-12-19T18:29:00.810958",
     "exception": false,
     "start_time": "2023-12-19T18:29:00.778769",
     "status": "completed"
    },
    "tags": []
   },
   "outputs": [
    {
     "data": {
      "text/plain": [
       "array([[ 3.91229315e+01,  6.14774065e-02, -6.21108417e-02,\n",
       "         2.65824698e-02,  5.93739020e+00,  2.86719844e+00,\n",
       "         4.53940588e-01,  1.19909848e-01, -7.84786090e-01,\n",
       "         4.88004916e-01, -4.29188163e-01, -1.49787305e+00,\n",
       "        -4.34565343e-01,  1.96747323e-01,  7.13040887e-02,\n",
       "        -7.25992475e-02,  1.88008023e-02, -6.84356955e-02,\n",
       "         1.28636749e-01,  3.59331103e-02,  1.17393244e-02,\n",
       "        -1.26674056e-01],\n",
       "       [ 6.14774065e-02,  2.43754568e-01,  1.26643485e-02,\n",
       "         6.39622739e-03,  4.78442365e-01,  2.98166031e-01,\n",
       "         2.21492762e-02,  2.08815148e-02,  1.55723123e-01,\n",
       "         1.00107282e-02, -2.13078328e-02, -9.19322998e-02,\n",
       "        -1.49331711e-02,  3.48832812e-03,  3.45554098e-03,\n",
       "         4.93978053e-03,  2.06098318e-03, -3.90470940e-03,\n",
       "        -3.96917663e-03, -7.99242074e-03,  1.20617127e-03,\n",
       "         1.25991327e-02],\n",
       "       [-6.21108417e-02,  1.26643485e-02,  5.96942055e-02,\n",
       "        -9.87029197e-04, -3.55791107e-02,  7.68413804e-02,\n",
       "        -3.11587024e-03,  3.52812793e-04, -3.91754800e-02,\n",
       "        -5.24620718e-03,  1.63787346e-03,  8.88415929e-03,\n",
       "        -2.78319480e-04, -3.70640171e-04, -1.43779172e-03,\n",
       "        -1.02631875e-04, -1.97675074e-04, -6.53331881e-04,\n",
       "        -1.68857370e-03, -1.00447608e-03,  9.68883919e-05,\n",
       "         3.44715984e-03],\n",
       "       [ 2.65824698e-02,  6.39622739e-03, -9.87029197e-04,\n",
       "         4.22693589e-02,  2.32075127e-01,  8.92018661e-02,\n",
       "         1.28060599e-02,  8.00071294e-05,  6.83854921e-02,\n",
       "         7.40373211e-03, -7.04609871e-03, -3.72352801e-02,\n",
       "         2.90074538e-03,  2.90643973e-03,  3.64552705e-03,\n",
       "         2.52176819e-03,  4.39775275e-04, -4.05363980e-04,\n",
       "         1.45558693e-03, -1.19636544e-03,  2.99429729e-04,\n",
       "        -5.93061816e-04],\n",
       "       [ 5.93739020e+00,  4.78442365e-01, -3.55791107e-02,\n",
       "         2.32075127e-01,  6.92981403e+01,  1.97241886e+01,\n",
       "         1.31548772e+00, -1.53519359e-01,  1.76750489e+00,\n",
       "         4.53022933e-01, -8.60749926e-01, -4.35608235e+00,\n",
       "        -7.66745277e-01,  3.41938733e-01,  2.39866224e-01,\n",
       "         8.43922132e-02,  2.64142097e-02, -3.76380010e-02,\n",
       "         3.04349108e-02,  3.26265504e-03,  2.54768376e-02,\n",
       "        -4.79506132e-02],\n",
       "       [ 2.86719844e+00,  2.98166031e-01,  7.68413804e-02,\n",
       "         8.92018661e-02,  1.97241886e+01,  6.02942319e+01,\n",
       "         4.97267432e-01, -3.78712981e-01, -3.03279568e+00,\n",
       "         1.13259498e-01, -3.68343232e-01, -2.06246016e+00,\n",
       "        -1.22602685e+00,  2.87770135e-01,  7.15730040e-02,\n",
       "        -6.54172774e-02,  1.96118690e-02, -2.23683902e-02,\n",
       "         2.92035643e-02,  3.67075732e-02,  3.87536680e-02,\n",
       "        -1.01908358e-01],\n",
       "       [ 4.53940588e-01,  2.21492762e-02, -3.11587024e-03,\n",
       "         1.28060599e-02,  1.31548772e+00,  4.97267432e-01,\n",
       "         1.35234287e-01, -1.27107537e-02,  2.06368037e-01,\n",
       "         2.69109082e-02, -4.53835297e-02, -1.65776177e-01,\n",
       "        -1.50830154e-02,  1.39982095e-02,  1.10843357e-02,\n",
       "         5.53512303e-03,  1.31960557e-03, -1.86231037e-03,\n",
       "         4.25252852e-03,  3.91041753e-04,  9.30811493e-04,\n",
       "        -5.03166642e-03],\n",
       "       [ 1.19909848e-01,  2.08815148e-02,  3.52812793e-04,\n",
       "         8.00071294e-05, -1.53519359e-01, -3.78712981e-01,\n",
       "        -1.27107537e-02,  2.48961839e-01, -8.22305371e-02,\n",
       "         2.28597373e-03,  1.01183286e-02,  9.03346066e-03,\n",
       "        -6.13078467e-03, -1.21323560e-02, -5.75471915e-04,\n",
       "         3.40614858e-03, -1.42444131e-04,  7.34399739e-04,\n",
       "        -4.31865725e-03, -1.05938985e-04,  8.21764277e-04,\n",
       "         3.01083595e-03],\n",
       "       [-7.84786090e-01,  1.55723123e-01, -3.91754800e-02,\n",
       "         6.83854921e-02,  1.76750489e+00, -3.03279568e+00,\n",
       "         2.06368037e-01, -8.22305371e-02,  7.22960960e+00,\n",
       "         1.47886270e-01, -1.24997880e-01, -4.60996790e-01,\n",
       "         4.45730106e-01, -5.08473542e-02,  5.97359676e-02,\n",
       "         2.07856546e-01, -9.46948463e-03, -2.76477537e-02,\n",
       "        -2.89196635e-02, -1.07682675e-01, -2.50902417e-02,\n",
       "         1.98809770e-01],\n",
       "       [ 4.88004916e-01,  1.00107282e-02, -5.24620718e-03,\n",
       "         7.40373211e-03,  4.53022933e-01,  1.13259498e-01,\n",
       "         2.69109082e-02,  2.28597373e-03,  1.47886270e-01,\n",
       "         1.31348077e-01, -2.14560976e-02, -1.04938227e-01,\n",
       "        -1.09857236e-03,  6.33698505e-03,  1.07198844e-02,\n",
       "         2.05075017e-03,  1.36624551e-03, -3.78146209e-04,\n",
       "         5.67547630e-03,  1.82829564e-03,  7.13385343e-04,\n",
       "        -9.20525873e-03],\n",
       "       [-4.29188163e-01, -2.13078328e-02,  1.63787346e-03,\n",
       "        -7.04609871e-03, -8.60749926e-01, -3.68343232e-01,\n",
       "        -4.53835297e-02,  1.01183286e-02, -1.24997880e-01,\n",
       "        -2.14560976e-02,  1.81184621e-01,  1.32462706e-01,\n",
       "         4.00365168e-03, -6.89284948e-03, -7.17771603e-03,\n",
       "         1.06316363e-03, -1.10315330e-03,  8.33364019e-04,\n",
       "        -4.57062271e-03, -6.01545715e-03, -1.05089780e-04,\n",
       "         1.09609262e-02],\n",
       "       [-1.49787305e+00, -9.19322998e-02,  8.88415929e-03,\n",
       "        -3.72352801e-02, -4.35608235e+00, -2.06246016e+00,\n",
       "        -1.65776177e-01,  9.03346066e-03, -4.60996790e-01,\n",
       "        -1.04938227e-01,  1.32462706e-01,  1.11197752e+00,\n",
       "         9.78660610e-02, -5.06287201e-02, -3.81738084e-02,\n",
       "        -1.29328544e-02, -5.34416748e-03,  4.09340036e-03,\n",
       "        -1.85907430e-02, -1.11870604e-02, -3.24282685e-03,\n",
       "         3.42713640e-02],\n",
       "       [-4.34565343e-01, -1.49331711e-02, -2.78319480e-04,\n",
       "         2.90074538e-03, -7.66745277e-01, -1.22602685e+00,\n",
       "        -1.50830154e-02, -6.13078467e-03,  4.45730106e-01,\n",
       "        -1.09857236e-03,  4.00365168e-03,  9.78660610e-02,\n",
       "         2.10090068e+00, -2.18769944e-02,  1.13305482e-03,\n",
       "         1.69808917e-02, -8.24864590e-04, -5.42791402e-03,\n",
       "        -6.48007723e-03, -6.13147530e-03, -6.95744410e-03,\n",
       "         2.58217066e-02],\n",
       "       [ 1.96747323e-01,  3.48832812e-03, -3.70640171e-04,\n",
       "         2.90643973e-03,  3.41938733e-01,  2.87770135e-01,\n",
       "         1.39982095e-02, -1.21323560e-02, -5.08473542e-02,\n",
       "         6.33698505e-03, -6.89284948e-03, -5.06287201e-02,\n",
       "        -2.18769944e-02,  1.13156171e-01,  2.99927171e-03,\n",
       "         1.93276441e-04,  6.61525888e-04, -5.68429945e-04,\n",
       "         1.68395479e-03,  7.95939435e-04,  1.55223417e-03,\n",
       "        -4.12522683e-03],\n",
       "       [ 7.13040887e-02,  3.45554098e-03, -1.43779172e-03,\n",
       "         3.64552705e-03,  2.39866224e-01,  7.15730040e-02,\n",
       "         1.10843357e-02, -5.75471915e-04,  5.97359676e-02,\n",
       "         1.07198844e-02, -7.17771603e-03, -3.81738084e-02,\n",
       "         1.13305482e-03,  2.99927171e-03,  4.08453305e-02,\n",
       "         3.48449885e-03,  2.17365760e-04, -4.55414061e-04,\n",
       "         6.16196682e-04, -3.44984484e-04,  2.54819637e-05,\n",
       "        -5.86385889e-05],\n",
       "       [-7.25992475e-02,  4.93978053e-03, -1.02631875e-04,\n",
       "         2.52176819e-03,  8.43922132e-02, -6.54172774e-02,\n",
       "         5.53512303e-03,  3.40614858e-03,  2.07856546e-01,\n",
       "         2.05075017e-03,  1.06316363e-03, -1.29328544e-02,\n",
       "         1.69808917e-02,  1.93276441e-04,  3.48449885e-03,\n",
       "         9.88599250e-02, -1.09092331e-03, -2.19079426e-03,\n",
       "        -7.31343546e-03, -6.70214684e-03, -1.71597256e-03,\n",
       "         1.90132591e-02],\n",
       "       [ 1.88008023e-02,  2.06098318e-03, -1.97675074e-04,\n",
       "         4.39775275e-04,  2.64142097e-02,  1.96118690e-02,\n",
       "         1.31960557e-03, -1.42444131e-04, -9.46948463e-03,\n",
       "         1.36624551e-03, -1.10315330e-03, -5.34416748e-03,\n",
       "        -8.24864590e-04,  6.61525888e-04,  2.17365760e-04,\n",
       "        -1.09092331e-03,  1.52971592e-02, -3.33075411e-04,\n",
       "        -1.08843674e-03, -1.14828275e-03, -4.84076321e-04,\n",
       "        -1.22433267e-02],\n",
       "       [-6.84356955e-02, -3.90470940e-03, -6.53331881e-04,\n",
       "        -4.05363980e-04, -3.76380010e-02, -2.23683902e-02,\n",
       "        -1.86231037e-03,  7.34399739e-04, -2.76477537e-02,\n",
       "        -3.78146209e-04,  8.33364019e-04,  4.09340036e-03,\n",
       "        -5.42791402e-03, -5.68429945e-04, -4.55414061e-04,\n",
       "        -2.19079426e-03, -3.33075411e-04,  2.09758667e-02,\n",
       "        -1.50148390e-03, -1.58403169e-03, -6.67776597e-04,\n",
       "        -1.68894672e-02],\n",
       "       [ 1.28636749e-01, -3.96917663e-03, -1.68857370e-03,\n",
       "         1.45558693e-03,  3.04349108e-02,  2.92035643e-02,\n",
       "         4.25252852e-03, -4.31865725e-03, -2.89196635e-02,\n",
       "         5.67547630e-03, -4.57062271e-03, -1.85907430e-02,\n",
       "        -6.48007723e-03,  1.68395479e-03,  6.16196682e-04,\n",
       "        -7.31343546e-03, -1.08843674e-03, -1.50148390e-03,\n",
       "         6.51403210e-02, -5.17637192e-03, -2.18219009e-03,\n",
       "        -5.51918876e-02],\n",
       "       [ 3.59331103e-02, -7.99242074e-03, -1.00447608e-03,\n",
       "        -1.19636544e-03,  3.26265504e-03,  3.67075732e-02,\n",
       "         3.91041753e-04, -1.05938985e-04, -1.07682675e-01,\n",
       "         1.82829564e-03, -6.01545715e-03, -1.11870604e-02,\n",
       "        -6.13147530e-03,  7.95939435e-04, -3.44984484e-04,\n",
       "        -6.70214684e-03, -1.14828275e-03, -1.58403169e-03,\n",
       "        -5.17637192e-03,  6.84376595e-02, -2.30216905e-03,\n",
       "        -5.82266956e-02],\n",
       "       [ 1.17393244e-02,  1.20617127e-03,  9.68883919e-05,\n",
       "         2.99429729e-04,  2.54768376e-02,  3.87536680e-02,\n",
       "         9.30811493e-04,  8.21764277e-04, -2.50902417e-02,\n",
       "         7.13385343e-04, -1.05089780e-04, -3.24282685e-03,\n",
       "        -6.95744410e-03,  1.55223417e-03,  2.54819637e-05,\n",
       "        -1.71597256e-03, -4.84076321e-04, -6.67776597e-04,\n",
       "        -2.18219009e-03, -2.30216905e-03,  3.01826355e-02,\n",
       "        -2.45463932e-02],\n",
       "       [-1.26674056e-01,  1.25991327e-02,  3.44715984e-03,\n",
       "        -5.93061816e-04, -4.79506132e-02, -1.01908358e-01,\n",
       "        -5.03166642e-03,  3.01083595e-03,  1.98809770e-01,\n",
       "        -9.20525873e-03,  1.09609262e-02,  3.42713640e-02,\n",
       "         2.58217066e-02, -4.12522683e-03, -5.86385889e-05,\n",
       "         1.90132591e-02, -1.22433267e-02, -1.68894672e-02,\n",
       "        -5.51918876e-02, -5.82266956e-02, -2.45463932e-02,\n",
       "         1.67098112e-01]])"
      ]
     },
     "execution_count": 28,
     "metadata": {},
     "output_type": "execute_result"
    }
   ],
   "source": [
    "covariance_matrix"
   ]
  },
  {
   "cell_type": "code",
   "execution_count": 29,
   "id": "051f87ce",
   "metadata": {
    "ExecuteTime": {
     "end_time": "2023-12-18T19:43:22.860764600Z",
     "start_time": "2023-12-18T19:43:16.247Z"
    },
    "collapsed": false,
    "execution": {
     "iopub.execute_input": "2023-12-19T18:29:00.859768Z",
     "iopub.status.busy": "2023-12-19T18:29:00.859189Z",
     "iopub.status.idle": "2023-12-19T18:29:00.865973Z",
     "shell.execute_reply": "2023-12-19T18:29:00.864975Z"
    },
    "jupyter": {
     "outputs_hidden": false
    },
    "papermill": {
     "duration": 0.03441,
     "end_time": "2023-12-19T18:29:00.868211",
     "exception": false,
     "start_time": "2023-12-19T18:29:00.833801",
     "status": "completed"
    },
    "tags": []
   },
   "outputs": [
    {
     "data": {
      "text/plain": [
       "(263537, 22)"
      ]
     },
     "execution_count": 29,
     "metadata": {},
     "output_type": "execute_result"
    }
   ],
   "source": [
    "X_centered.shape"
   ]
  },
  {
   "cell_type": "code",
   "execution_count": 30,
   "id": "53c48784",
   "metadata": {
    "ExecuteTime": {
     "end_time": "2023-12-18T19:43:23.677975700Z",
     "start_time": "2023-12-18T19:43:16.312806800Z"
    },
    "collapsed": false,
    "execution": {
     "iopub.execute_input": "2023-12-19T18:29:00.913263Z",
     "iopub.status.busy": "2023-12-19T18:29:00.912466Z",
     "iopub.status.idle": "2023-12-19T18:29:02.134422Z",
     "shell.execute_reply": "2023-12-19T18:29:02.133531Z"
    },
    "jupyter": {
     "outputs_hidden": false
    },
    "papermill": {
     "duration": 1.245753,
     "end_time": "2023-12-19T18:29:02.136550",
     "exception": false,
     "start_time": "2023-12-19T18:29:00.890797",
     "status": "completed"
    },
    "tags": []
   },
   "outputs": [
    {
     "data": {
      "text/plain": [
       "<matplotlib.collections.PathCollection at 0x78b7acd2add0>"
      ]
     },
     "execution_count": 30,
     "metadata": {},
     "output_type": "execute_result"
    },
    {
     "data": {
      "image/png": "[encoded data removed]",
      "text/plain": [
       "<Figure size 640x480 with 1 Axes>"
      ]
     },
     "metadata": {},
     "output_type": "display_data"
    }
   ],
   "source": [
    "plt.scatter(X_centered[:, 0], X_centered[:, 1])"
   ]
  },
  {
   "cell_type": "code",
   "execution_count": 31,
   "id": "38aaf13e",
   "metadata": {
    "ExecuteTime": {
     "end_time": "2023-12-18T19:43:23.678994Z",
     "start_time": "2023-12-18T19:43:18.271080300Z"
    },
    "collapsed": false,
    "execution": {
     "iopub.execute_input": "2023-12-19T18:29:02.176463Z",
     "iopub.status.busy": "2023-12-19T18:29:02.176154Z",
     "iopub.status.idle": "2023-12-19T18:29:02.182926Z",
     "shell.execute_reply": "2023-12-19T18:29:02.182073Z"
    },
    "jupyter": {
     "outputs_hidden": false
    },
    "papermill": {
     "duration": 0.029335,
     "end_time": "2023-12-19T18:29:02.184853",
     "exception": false,
     "start_time": "2023-12-19T18:29:02.155518",
     "status": "completed"
    },
    "tags": []
   },
   "outputs": [],
   "source": [
    "def calculate_eigenvalues_and_eigenvectors(A, tol=1e-10, max_iter=1000000):\n",
    "    if A.ndim != 2 or A.shape[0] != A.shape[1]: raise ValueError(\"Matrix A must be square.\")\n",
    "    lambdaMax = 0\n",
    "    # Initialize random vector\n",
    "    v = np.ones(A.shape[0])\n",
    "    for _ in range(max_iter):\n",
    "        # Update vector\n",
    "        v = A @ v\n",
    "        # Normalize\n",
    "        v_norm = np.linalg.norm(v)\n",
    "        v /= v_norm\n",
    "        # Calculate eigenvalue\n",
    "        lambda_new = np.dot(A @ v, v)\n",
    "        # Check convergence\n",
    "        if abs(lambda_new - lambdaMax) < tol: break\n",
    "        # Update dominant eigenvalue\n",
    "        lambdaMax = lambda_new\n",
    "    return lambdaMax, v"
   ]
  },
  {
   "cell_type": "code",
   "execution_count": 32,
   "id": "d6697ee7",
   "metadata": {
    "collapsed": false,
    "execution": {
     "iopub.execute_input": "2023-12-19T18:29:02.223361Z",
     "iopub.status.busy": "2023-12-19T18:29:02.222712Z",
     "iopub.status.idle": "2023-12-19T18:29:02.228549Z",
     "shell.execute_reply": "2023-12-19T18:29:02.227692Z"
    },
    "jupyter": {
     "outputs_hidden": false
    },
    "papermill": {
     "duration": 0.02711,
     "end_time": "2023-12-19T18:29:02.230436",
     "exception": false,
     "start_time": "2023-12-19T18:29:02.203326",
     "status": "completed"
    },
    "tags": []
   },
   "outputs": [],
   "source": [
    "def calculate_eigenvalues_and_eigenvectors2(covariance_matrix):\n",
    "    # Step 3: Compute eigenvalues\n",
    "    eigenvalues = np.linalg.eigvalsh(covariance_matrix)\n",
    "\n",
    "    # Step 4: Compute eigenvectors for each eigenvalue\n",
    "    eigenvectors = []\n",
    "    for eigenvalue in eigenvalues:\n",
    "        # Solve the system of equations (C - λI)u = 0\n",
    "        system_matrix = covariance_matrix - eigenvalue * np.eye(covariance_matrix.shape[0])\n",
    "    \n",
    "        # Compute the null space using SVD\n",
    "        _, _, v = np.linalg.svd(system_matrix)\n",
    "        null_space_basis = v.T[:, -1]  # Use the last column of v as the null space basis\n",
    "    \n",
    "        eigenvectors.append(null_space_basis)\n",
    "    return eigenvectors"
   ]
  },
  {
   "cell_type": "code",
   "execution_count": 33,
   "id": "4857c63b",
   "metadata": {
    "ExecuteTime": {
     "end_time": "2023-12-18T19:43:23.918989200Z",
     "start_time": "2023-12-18T19:43:18.282703400Z"
    },
    "collapsed": false,
    "execution": {
     "iopub.execute_input": "2023-12-19T18:29:02.269318Z",
     "iopub.status.busy": "2023-12-19T18:29:02.268625Z",
     "iopub.status.idle": "2023-12-19T18:29:02.274931Z",
     "shell.execute_reply": "2023-12-19T18:29:02.274092Z"
    },
    "jupyter": {
     "outputs_hidden": false
    },
    "papermill": {
     "duration": 0.02835,
     "end_time": "2023-12-19T18:29:02.277320",
     "exception": false,
     "start_time": "2023-12-19T18:29:02.248970",
     "status": "completed"
    },
    "tags": []
   },
   "outputs": [
    {
     "name": "stdout",
     "output_type": "stream",
     "text": [
      "eigenvalue: 86.26289613882635\n",
      "eigenvector: [ 1.37432524e-01  6.59487330e-03  1.22900086e-04  2.78802755e-03\n",
      "  7.76387522e-01  6.11738062e-01  1.62218707e-02 -3.88833123e-03\n",
      " -7.15352702e-03  5.73371645e-03 -1.11574425e-02 -5.70031339e-02\n",
      " -1.68046075e-02  5.48590768e-03  2.80573790e-03  1.69244569e-04\n",
      "  4.12208536e-04 -6.06544577e-04  7.05127062e-04  3.65984902e-04\n",
      "  5.29360702e-04 -1.40613675e-03]\n"
     ]
    }
   ],
   "source": [
    "lambda_max, v_max = calculate_eigenvalues_and_eigenvectors(covariance_matrix)\n",
    "\n",
    "print(f\"eigenvalue: {lambda_max}\")\n",
    "print(f\"eigenvector: {v_max}\")"
   ]
  },
  {
   "cell_type": "code",
   "execution_count": 34,
   "id": "61bf2e12",
   "metadata": {
    "ExecuteTime": {
     "end_time": "2023-12-18T19:43:23.953212500Z",
     "start_time": "2023-12-18T19:43:18.296028300Z"
    },
    "collapsed": false,
    "execution": {
     "iopub.execute_input": "2023-12-19T18:29:02.316159Z",
     "iopub.status.busy": "2023-12-19T18:29:02.315577Z",
     "iopub.status.idle": "2023-12-19T18:29:02.323295Z",
     "shell.execute_reply": "2023-12-19T18:29:02.322418Z"
    },
    "jupyter": {
     "outputs_hidden": false
    },
    "papermill": {
     "duration": 0.029442,
     "end_time": "2023-12-19T18:29:02.325281",
     "exception": false,
     "start_time": "2023-12-19T18:29:02.295839",
     "status": "completed"
    },
    "tags": []
   },
   "outputs": [
    {
     "data": {
      "text/plain": [
       "86.26289613887396"
      ]
     },
     "execution_count": 34,
     "metadata": {},
     "output_type": "execute_result"
    }
   ],
   "source": [
    "eigenvalues, eigenvectors = np.linalg.eig(covariance_matrix)\n",
    "eigenvalues.max()"
   ]
  },
  {
   "cell_type": "code",
   "execution_count": 35,
   "id": "acedec30",
   "metadata": {
    "ExecuteTime": {
     "end_time": "2023-12-18T19:43:23.955217900Z",
     "start_time": "2023-12-18T19:43:18.319817Z"
    },
    "collapsed": false,
    "execution": {
     "iopub.execute_input": "2023-12-19T18:29:02.364526Z",
     "iopub.status.busy": "2023-12-19T18:29:02.363630Z",
     "iopub.status.idle": "2023-12-19T18:29:02.369967Z",
     "shell.execute_reply": "2023-12-19T18:29:02.369144Z"
    },
    "jupyter": {
     "outputs_hidden": false
    },
    "papermill": {
     "duration": 0.028027,
     "end_time": "2023-12-19T18:29:02.371991",
     "exception": false,
     "start_time": "2023-12-19T18:29:02.343964",
     "status": "completed"
    },
    "tags": []
   },
   "outputs": [
    {
     "data": {
      "text/plain": [
       "array([ 1.37432232e-01,  1.95185287e-01, -9.70041509e-01,  2.54975443e-02,\n",
       "       -9.14468795e-03, -3.30725682e-02,  1.68259324e-04,  2.38145473e-03,\n",
       "        3.84306323e-03,  8.16537135e-03,  9.99375009e-03, -6.25683264e-04,\n",
       "        2.87138334e-03,  8.17711885e-04,  1.54167536e-03, -6.11001029e-04,\n",
       "        7.73837206e-04,  1.87193965e-03, -1.55575892e-03,  1.13918523e-03,\n",
       "       -3.42636452e-04, -1.94039887e-09])"
      ]
     },
     "execution_count": 35,
     "metadata": {},
     "output_type": "execute_result"
    }
   ],
   "source": [
    "eigenvectors[eigenvalues.argmax()]"
   ]
  },
  {
   "cell_type": "code",
   "execution_count": 36,
   "id": "666dd538",
   "metadata": {
    "ExecuteTime": {
     "end_time": "2023-12-18T19:43:24.069483900Z",
     "start_time": "2023-12-18T19:43:18.338909500Z"
    },
    "collapsed": false,
    "execution": {
     "iopub.execute_input": "2023-12-19T18:29:02.410945Z",
     "iopub.status.busy": "2023-12-19T18:29:02.410422Z",
     "iopub.status.idle": "2023-12-19T18:29:02.415792Z",
     "shell.execute_reply": "2023-12-19T18:29:02.414953Z"
    },
    "jupyter": {
     "outputs_hidden": false
    },
    "papermill": {
     "duration": 0.027055,
     "end_time": "2023-12-19T18:29:02.417750",
     "exception": false,
     "start_time": "2023-12-19T18:29:02.390695",
     "status": "completed"
    },
    "tags": []
   },
   "outputs": [
    {
     "name": "stdout",
     "output_type": "stream",
     "text": [
      "Matrix Q:\n",
      "(22, 22)\n"
     ]
    }
   ],
   "source": [
    "# Normalize eigenvectors\n",
    "#normalized_eigenvectors = eigenvectors / np.linalg.norm(eigenvectors, axis=0)\n",
    "normalized_eigenvectors = eigenvectors / np.sqrt(np.sum(eigenvectors ** 2, axis=0))\n",
    "\n",
    "# Construct matrix Q\n",
    "Q = normalized_eigenvectors\n",
    "\n",
    "# Print the resulting matrix Q\n",
    "print(f\"Matrix Q:\\n{Q.shape}\")"
   ]
  },
  {
   "cell_type": "code",
   "execution_count": 37,
   "id": "23a8165b",
   "metadata": {
    "ExecuteTime": {
     "end_time": "2023-12-18T19:43:24.071931100Z",
     "start_time": "2023-12-18T19:43:18.363581Z"
    },
    "collapsed": false,
    "execution": {
     "iopub.execute_input": "2023-12-19T18:29:02.457007Z",
     "iopub.status.busy": "2023-12-19T18:29:02.456687Z",
     "iopub.status.idle": "2023-12-19T18:29:02.460928Z",
     "shell.execute_reply": "2023-12-19T18:29:02.460110Z"
    },
    "jupyter": {
     "outputs_hidden": false
    },
    "papermill": {
     "duration": 0.026216,
     "end_time": "2023-12-19T18:29:02.462832",
     "exception": false,
     "start_time": "2023-12-19T18:29:02.436616",
     "status": "completed"
    },
    "tags": []
   },
   "outputs": [],
   "source": [
    "def transform_data(F, Q, num_components):\n",
    "    return F @ Q[:, :num_components]"
   ]
  },
  {
   "cell_type": "code",
   "execution_count": 38,
   "id": "d2089925",
   "metadata": {
    "ExecuteTime": {
     "end_time": "2023-12-18T19:43:24.077585300Z",
     "start_time": "2023-12-18T19:43:18.369124300Z"
    },
    "collapsed": false,
    "execution": {
     "iopub.execute_input": "2023-12-19T18:29:02.501814Z",
     "iopub.status.busy": "2023-12-19T18:29:02.501505Z",
     "iopub.status.idle": "2023-12-19T18:29:02.505937Z",
     "shell.execute_reply": "2023-12-19T18:29:02.505105Z"
    },
    "jupyter": {
     "outputs_hidden": false
    },
    "papermill": {
     "duration": 0.0261,
     "end_time": "2023-12-19T18:29:02.507870",
     "exception": false,
     "start_time": "2023-12-19T18:29:02.481770",
     "status": "completed"
    },
    "tags": []
   },
   "outputs": [],
   "source": [
    "def inverse_transform(x_transformed, Q, num_components):\n",
    "    return x_transformed @ Q[:, :num_components].T + np.mean(x_transformed, axis=0)"
   ]
  },
  {
   "cell_type": "code",
   "execution_count": 39,
   "id": "83e5ccc8",
   "metadata": {
    "ExecuteTime": {
     "end_time": "2023-12-18T19:43:24.087810Z",
     "start_time": "2023-12-18T19:43:18.380173800Z"
    },
    "collapsed": false,
    "execution": {
     "iopub.execute_input": "2023-12-19T18:29:02.547100Z",
     "iopub.status.busy": "2023-12-19T18:29:02.546750Z",
     "iopub.status.idle": "2023-12-19T18:29:02.597939Z",
     "shell.execute_reply": "2023-12-19T18:29:02.596399Z"
    },
    "jupyter": {
     "outputs_hidden": false
    },
    "papermill": {
     "duration": 0.075176,
     "end_time": "2023-12-19T18:29:02.601905",
     "exception": false,
     "start_time": "2023-12-19T18:29:02.526729",
     "status": "completed"
    },
    "tags": []
   },
   "outputs": [],
   "source": [
    "X_transformed = transform_data(X_centered, Q, X_centered.shape[1])"
   ]
  },
  {
   "cell_type": "code",
   "execution_count": 40,
   "id": "e7f0f724",
   "metadata": {
    "ExecuteTime": {
     "end_time": "2023-12-18T19:43:24.092017800Z",
     "start_time": "2023-12-18T19:43:18.486312900Z"
    },
    "collapsed": false,
    "execution": {
     "iopub.execute_input": "2023-12-19T18:29:02.686586Z",
     "iopub.status.busy": "2023-12-19T18:29:02.686007Z",
     "iopub.status.idle": "2023-12-19T18:29:02.694472Z",
     "shell.execute_reply": "2023-12-19T18:29:02.693369Z"
    },
    "jupyter": {
     "outputs_hidden": false
    },
    "papermill": {
     "duration": 0.054561,
     "end_time": "2023-12-19T18:29:02.698164",
     "exception": false,
     "start_time": "2023-12-19T18:29:02.643603",
     "status": "completed"
    },
    "tags": []
   },
   "outputs": [
    {
     "data": {
      "text/plain": [
       "(263537, 22)"
      ]
     },
     "execution_count": 40,
     "metadata": {},
     "output_type": "execute_result"
    }
   ],
   "source": [
    "X_transformed.shape"
   ]
  },
  {
   "cell_type": "code",
   "execution_count": 41,
   "id": "22fb1eea",
   "metadata": {
    "ExecuteTime": {
     "end_time": "2023-12-18T19:43:24.094037900Z",
     "start_time": "2023-12-18T19:43:18.504561600Z"
    },
    "collapsed": false,
    "execution": {
     "iopub.execute_input": "2023-12-19T18:29:02.753703Z",
     "iopub.status.busy": "2023-12-19T18:29:02.753369Z",
     "iopub.status.idle": "2023-12-19T18:29:02.758836Z",
     "shell.execute_reply": "2023-12-19T18:29:02.758026Z"
    },
    "jupyter": {
     "outputs_hidden": false
    },
    "papermill": {
     "duration": 0.027989,
     "end_time": "2023-12-19T18:29:02.761075",
     "exception": false,
     "start_time": "2023-12-19T18:29:02.733086",
     "status": "completed"
    },
    "tags": []
   },
   "outputs": [
    {
     "data": {
      "text/plain": [
       "(263537, 22)"
      ]
     },
     "execution_count": 41,
     "metadata": {},
     "output_type": "execute_result"
    }
   ],
   "source": [
    "X_transformed.shape"
   ]
  },
  {
   "cell_type": "code",
   "execution_count": 42,
   "id": "f97d678d",
   "metadata": {
    "ExecuteTime": {
     "end_time": "2023-12-18T19:43:24.112944500Z",
     "start_time": "2023-12-18T19:43:18.539215800Z"
    },
    "collapsed": false,
    "execution": {
     "iopub.execute_input": "2023-12-19T18:29:02.802835Z",
     "iopub.status.busy": "2023-12-19T18:29:02.801955Z",
     "iopub.status.idle": "2023-12-19T18:29:03.987759Z",
     "shell.execute_reply": "2023-12-19T18:29:03.986859Z"
    },
    "jupyter": {
     "outputs_hidden": false
    },
    "papermill": {
     "duration": 1.208517,
     "end_time": "2023-12-19T18:29:03.989978",
     "exception": false,
     "start_time": "2023-12-19T18:29:02.781461",
     "status": "completed"
    },
    "tags": []
   },
   "outputs": [
    {
     "data": {
      "text/plain": [
       "<matplotlib.collections.PathCollection at 0x78b7acd8b220>"
      ]
     },
     "execution_count": 42,
     "metadata": {},
     "output_type": "execute_result"
    },
    {
     "data": {
      "image/png": "[encoded data removed]",
      "text/plain": [
       "<Figure size 640x480 with 1 Axes>"
      ]
     },
     "metadata": {},
     "output_type": "display_data"
    }
   ],
   "source": [
    "plt.scatter(X_transformed[:, 0], X_transformed[:, 1])"
   ]
  },
  {
   "cell_type": "code",
   "execution_count": 43,
   "id": "6f695db9",
   "metadata": {
    "ExecuteTime": {
     "end_time": "2023-12-18T19:43:24.115956200Z",
     "start_time": "2023-12-18T19:43:21.001069200Z"
    },
    "collapsed": false,
    "execution": {
     "iopub.execute_input": "2023-12-19T18:29:04.031450Z",
     "iopub.status.busy": "2023-12-19T18:29:04.030957Z",
     "iopub.status.idle": "2023-12-19T18:29:04.112173Z",
     "shell.execute_reply": "2023-12-19T18:29:04.110816Z"
    },
    "jupyter": {
     "outputs_hidden": false
    },
    "papermill": {
     "duration": 0.105926,
     "end_time": "2023-12-19T18:29:04.115853",
     "exception": false,
     "start_time": "2023-12-19T18:29:04.009927",
     "status": "completed"
    },
    "tags": []
   },
   "outputs": [],
   "source": [
    "X_reconstructed = inverse_transform(X_transformed, Q, X_transformed.shape[1])"
   ]
  },
  {
   "cell_type": "code",
   "execution_count": 44,
   "id": "f1fee377",
   "metadata": {
    "ExecuteTime": {
     "end_time": "2023-12-18T19:43:24.118965Z",
     "start_time": "2023-12-18T19:43:21.147839600Z"
    },
    "collapsed": false,
    "execution": {
     "iopub.execute_input": "2023-12-19T18:29:04.199229Z",
     "iopub.status.busy": "2023-12-19T18:29:04.198879Z",
     "iopub.status.idle": "2023-12-19T18:29:04.204747Z",
     "shell.execute_reply": "2023-12-19T18:29:04.203896Z"
    },
    "jupyter": {
     "outputs_hidden": false
    },
    "papermill": {
     "duration": 0.047552,
     "end_time": "2023-12-19T18:29:04.206619",
     "exception": false,
     "start_time": "2023-12-19T18:29:04.159067",
     "status": "completed"
    },
    "tags": []
   },
   "outputs": [
    {
     "data": {
      "text/plain": [
       "(263537, 22)"
      ]
     },
     "execution_count": 44,
     "metadata": {},
     "output_type": "execute_result"
    }
   ],
   "source": [
    "X_reconstructed.shape"
   ]
  },
  {
   "cell_type": "code",
   "execution_count": 45,
   "id": "d5baae6f",
   "metadata": {
    "ExecuteTime": {
     "end_time": "2023-12-18T19:43:35.088959800Z",
     "start_time": "2023-12-18T19:43:21.215659600Z"
    },
    "collapsed": false,
    "execution": {
     "iopub.execute_input": "2023-12-19T18:29:04.248477Z",
     "iopub.status.busy": "2023-12-19T18:29:04.248150Z",
     "iopub.status.idle": "2023-12-19T18:29:05.442975Z",
     "shell.execute_reply": "2023-12-19T18:29:05.442021Z"
    },
    "jupyter": {
     "outputs_hidden": false
    },
    "papermill": {
     "duration": 1.218462,
     "end_time": "2023-12-19T18:29:05.445215",
     "exception": false,
     "start_time": "2023-12-19T18:29:04.226753",
     "status": "completed"
    },
    "tags": []
   },
   "outputs": [
    {
     "data": {
      "text/plain": [
       "<matplotlib.collections.PathCollection at 0x78b7aac9ebc0>"
      ]
     },
     "execution_count": 45,
     "metadata": {},
     "output_type": "execute_result"
    },
    {
     "data": {
      "image/png": "[encoded data removed]",
      "text/plain": [
       "<Figure size 640x480 with 1 Axes>"
      ]
     },
     "metadata": {},
     "output_type": "display_data"
    }
   ],
   "source": [
    "plt.scatter(X_reconstructed[:, 0], X_reconstructed[:, 1])"
   ]
  },
  {
   "cell_type": "code",
   "execution_count": 46,
   "id": "191172c1",
   "metadata": {
    "ExecuteTime": {
     "end_time": "2023-12-18T19:43:39.351918100Z",
     "start_time": "2023-12-18T19:43:23.548483600Z"
    },
    "collapsed": false,
    "execution": {
     "iopub.execute_input": "2023-12-19T18:29:05.491377Z",
     "iopub.status.busy": "2023-12-19T18:29:05.491002Z",
     "iopub.status.idle": "2023-12-19T18:29:08.074489Z",
     "shell.execute_reply": "2023-12-19T18:29:08.073236Z"
    },
    "jupyter": {
     "outputs_hidden": false
    },
    "papermill": {
     "duration": 2.610797,
     "end_time": "2023-12-19T18:29:08.078467",
     "exception": false,
     "start_time": "2023-12-19T18:29:05.467670",
     "status": "completed"
    },
    "tags": []
   },
   "outputs": [
    {
     "name": "stdout",
     "output_type": "stream",
     "text": [
      "k:1, reconstruction_error:5171.140169320456\n",
      "k:2, reconstruction_error:3851.412746798677\n",
      "k:3, reconstruction_error:2308.611777113898\n",
      "k:4, reconstruction_error:1923.5927702101785\n",
      "k:5, reconstruction_error:1791.2125090562213\n",
      "k:6, reconstruction_error:1736.5802827362927\n",
      "k:7, reconstruction_error:1719.8655318843814\n",
      "k:8, reconstruction_error:1703.042944996668\n",
      "k:9, reconstruction_error:1687.3689996619407\n",
      "k:10, reconstruction_error:1675.5345851187014\n",
      "k:11, reconstruction_error:1668.87317932625\n",
      "k:12, reconstruction_error:1661.0364994440392\n",
      "k:13, reconstruction_error:1653.9016022819326\n",
      "k:14, reconstruction_error:1647.5453534548242\n",
      "k:15, reconstruction_error:1641.8546929837023\n",
      "k:16, reconstruction_error:1637.5834078500345\n",
      "k:17, reconstruction_error:1636.2238697734745\n",
      "k:18, reconstruction_error:1634.2681275209698\n",
      "k:19, reconstruction_error:1631.3938146059215\n",
      "k:20, reconstruction_error:1628.2264719273062\n",
      "k:21, reconstruction_error:1625.2091870391152\n",
      "Best Q matrix (for the best k=21):\n",
      "\n",
      "Reconstruction Error with the Best Q matrix:\n",
      "1625.2091870391152\n"
     ]
    }
   ],
   "source": [
    "k_values = range(1, 22)\n",
    "\n",
    "# Initialize variables for tracking the best result\n",
    "best_reconstruction_error = np.inf\n",
    "best_Q_matrix = None\n",
    "best_k = None\n",
    "\n",
    "# Experiment with different numbers of retained components\n",
    "for k in k_values:\n",
    "    # Select the top 'k' normalized eigenvectors\n",
    "    selected_eigenvectors_Q_matrix = normalized_eigenvectors[:, :k]\n",
    "    F_prime = np.dot(selected_eigenvectors_Q_matrix.T, X_centered.T).T\n",
    "\n",
    "    # Compute the inverse of Q (Q^-1)\n",
    "    Q_inverse = selected_eigenvectors_Q_matrix  # Because Q^-1 = Q^T for an orthogonal matrix\n",
    "\n",
    "    reconstructed_F = np.dot(Q_inverse, F_prime.T) + np.mean(X_centered, axis=1, keepdims=True).T\n",
    "    reconstructed_F = reconstructed_F.T\n",
    "    # Compute the reconstruction error\n",
    "    reconstruction_error = np.linalg.norm(X_centered - reconstructed_F, 'fro')\n",
    "\n",
    "    # Update the best result if needed\n",
    "    if reconstruction_error < best_reconstruction_error:\n",
    "        best_reconstruction_error = reconstruction_error\n",
    "        best_Q_matrix = selected_eigenvectors_Q_matrix\n",
    "        best_k = k\n",
    "        print(f'k:{k}, reconstruction_error:{reconstruction_error}')\n",
    "\n",
    "# Report the best Q matrix, best k, and reconstruction error\n",
    "print(\"Best Q matrix (for the best k={0}):\".format(best_k))\n",
    "#print(best_Q_matrix)\n",
    "\n",
    "print(\"\\nReconstruction Error with the Best Q matrix:\")\n",
    "print(best_reconstruction_error)"
   ]
  },
  {
   "cell_type": "code",
   "execution_count": 47,
   "id": "c6fa9d1b",
   "metadata": {
    "ExecuteTime": {
     "end_time": "2023-12-18T19:43:39.353933600Z",
     "start_time": "2023-12-18T19:43:28.977607400Z"
    },
    "collapsed": false,
    "execution": {
     "iopub.execute_input": "2023-12-19T18:29:08.198032Z",
     "iopub.status.busy": "2023-12-19T18:29:08.197369Z",
     "iopub.status.idle": "2023-12-19T18:29:08.204652Z",
     "shell.execute_reply": "2023-12-19T18:29:08.203797Z"
    },
    "jupyter": {
     "outputs_hidden": false
    },
    "papermill": {
     "duration": 0.08193,
     "end_time": "2023-12-19T18:29:08.206916",
     "exception": false,
     "start_time": "2023-12-19T18:29:08.124986",
     "status": "completed"
    },
    "tags": []
   },
   "outputs": [
    {
     "data": {
      "text/plain": [
       "(22, 21)"
      ]
     },
     "execution_count": 47,
     "metadata": {},
     "output_type": "execute_result"
    }
   ],
   "source": [
    "best_Q_matrix.shape"
   ]
  },
  {
   "cell_type": "code",
   "execution_count": 48,
   "id": "daf5f373",
   "metadata": {
    "ExecuteTime": {
     "end_time": "2023-12-18T19:48:46.356668Z",
     "start_time": "2023-12-18T19:48:45.626004Z"
    },
    "collapsed": false,
    "execution": {
     "iopub.execute_input": "2023-12-19T18:29:08.255929Z",
     "iopub.status.busy": "2023-12-19T18:29:08.255134Z",
     "iopub.status.idle": "2023-12-19T18:29:08.314184Z",
     "shell.execute_reply": "2023-12-19T18:29:08.312599Z"
    },
    "jupyter": {
     "outputs_hidden": false
    },
    "papermill": {
     "duration": 0.085097,
     "end_time": "2023-12-19T18:29:08.317235",
     "exception": false,
     "start_time": "2023-12-19T18:29:08.232138",
     "status": "completed"
    },
    "tags": []
   },
   "outputs": [],
   "source": [
    "# Specify the number of components to retain\n",
    "k = 21  # Set the desired number of components here\n",
    "\n",
    "# Select the top 'k' normalized eigenvectors\n",
    "selected_eigenvectors_Q_matrix = normalized_eigenvectors[:, :k]\n",
    "\n",
    "# Step 3: Compute the transformed matrix Q^T * F_c\n",
    "F_prime = np.dot(selected_eigenvectors_Q_matrix.T, X_centered.T).T\n",
    "\n",
    "# F_prime now contains the transformed data"
   ]
  },
  {
   "cell_type": "code",
   "execution_count": 49,
   "id": "e7436bcd",
   "metadata": {
    "ExecuteTime": {
     "end_time": "2023-12-18T19:48:46.357666800Z",
     "start_time": "2023-12-18T19:48:45.696961900Z"
    },
    "collapsed": false,
    "execution": {
     "iopub.execute_input": "2023-12-19T18:29:08.451126Z",
     "iopub.status.busy": "2023-12-19T18:29:08.450751Z",
     "iopub.status.idle": "2023-12-19T18:29:08.456510Z",
     "shell.execute_reply": "2023-12-19T18:29:08.455651Z"
    },
    "jupyter": {
     "outputs_hidden": false
    },
    "papermill": {
     "duration": 0.078468,
     "end_time": "2023-12-19T18:29:08.458601",
     "exception": false,
     "start_time": "2023-12-19T18:29:08.380133",
     "status": "completed"
    },
    "tags": []
   },
   "outputs": [
    {
     "data": {
      "text/plain": [
       "(263537, 21)"
      ]
     },
     "execution_count": 49,
     "metadata": {},
     "output_type": "execute_result"
    }
   ],
   "source": [
    "F_prime.shape"
   ]
  },
  {
   "cell_type": "code",
   "execution_count": 50,
   "id": "1e0ee15e",
   "metadata": {
    "ExecuteTime": {
     "end_time": "2023-12-18T19:48:46.552039500Z",
     "start_time": "2023-12-18T19:48:45.729644200Z"
    },
    "collapsed": false,
    "execution": {
     "iopub.execute_input": "2023-12-19T18:29:08.510932Z",
     "iopub.status.busy": "2023-12-19T18:29:08.510151Z",
     "iopub.status.idle": "2023-12-19T18:29:08.600937Z",
     "shell.execute_reply": "2023-12-19T18:29:08.599992Z"
    },
    "jupyter": {
     "outputs_hidden": false
    },
    "papermill": {
     "duration": 0.121443,
     "end_time": "2023-12-19T18:29:08.604167",
     "exception": false,
     "start_time": "2023-12-19T18:29:08.482724",
     "status": "completed"
    },
    "tags": []
   },
   "outputs": [],
   "source": [
    "Q_inverse = selected_eigenvectors_Q_matrix  # Because Q^-1 = Q^T for an orthogonal matrix\n",
    "\n",
    "# Step 2: Reconstruct the original matrix F\n",
    "reconstructed_F = np.dot(Q_inverse, F_prime.T) + np.mean(X_centered, axis=1, keepdims=True).T\n",
    "reconstructed_F = reconstructed_F.T\n",
    "# reconstructed_F now contains the reconstructed original matrix"
   ]
  },
  {
   "cell_type": "code",
   "execution_count": 51,
   "id": "e0070f71",
   "metadata": {
    "ExecuteTime": {
     "end_time": "2023-12-18T19:48:46.553050200Z",
     "start_time": "2023-12-18T19:48:45.872171800Z"
    },
    "collapsed": false,
    "execution": {
     "iopub.execute_input": "2023-12-19T18:29:08.700976Z",
     "iopub.status.busy": "2023-12-19T18:29:08.700622Z",
     "iopub.status.idle": "2023-12-19T18:29:08.706679Z",
     "shell.execute_reply": "2023-12-19T18:29:08.705756Z"
    },
    "jupyter": {
     "outputs_hidden": false
    },
    "papermill": {
     "duration": 0.051896,
     "end_time": "2023-12-19T18:29:08.708756",
     "exception": false,
     "start_time": "2023-12-19T18:29:08.656860",
     "status": "completed"
    },
    "tags": []
   },
   "outputs": [
    {
     "data": {
      "text/plain": [
       "(22, 21)"
      ]
     },
     "execution_count": 51,
     "metadata": {},
     "output_type": "execute_result"
    }
   ],
   "source": [
    "Q_inverse.shape"
   ]
  },
  {
   "cell_type": "code",
   "execution_count": 52,
   "id": "9db05210",
   "metadata": {
    "ExecuteTime": {
     "end_time": "2023-12-18T19:48:46.555066Z",
     "start_time": "2023-12-18T19:48:45.891588Z"
    },
    "collapsed": false,
    "execution": {
     "iopub.execute_input": "2023-12-19T18:29:08.754640Z",
     "iopub.status.busy": "2023-12-19T18:29:08.753979Z",
     "iopub.status.idle": "2023-12-19T18:29:08.759936Z",
     "shell.execute_reply": "2023-12-19T18:29:08.759022Z"
    },
    "jupyter": {
     "outputs_hidden": false
    },
    "papermill": {
     "duration": 0.031044,
     "end_time": "2023-12-19T18:29:08.761954",
     "exception": false,
     "start_time": "2023-12-19T18:29:08.730910",
     "status": "completed"
    },
    "tags": []
   },
   "outputs": [
    {
     "data": {
      "text/plain": [
       "(263537, 22)"
      ]
     },
     "execution_count": 52,
     "metadata": {},
     "output_type": "execute_result"
    }
   ],
   "source": [
    "reconstructed_F.shape"
   ]
  },
  {
   "cell_type": "markdown",
   "id": "60750e6d",
   "metadata": {
    "papermill": {
     "duration": 0.023339,
     "end_time": "2023-12-19T18:29:08.807506",
     "exception": false,
     "start_time": "2023-12-19T18:29:08.784167",
     "status": "completed"
    },
    "tags": []
   },
   "source": [
    "# Report\n",
    "- Input Data is 22 features and 319,795 samples\n",
    "- The Output of covariance matrix is 22x22 features (We used two different methods to compute the covariance matrix, and we obtained the same results)\n",
    "- eigenvalues are 22 eigenvalues and eigenvectors are 22x22 features (We used the built-in method and from scratch method to compute the eigenvalues and eigenvectors, and we obtained the same results)\n",
    "- We created the matrix Q by sorting the normalized eigenvectors in descending order of eigenvalues.\n",
    "- We tried different numbers of components (k), and the best result is 21. Because the reconstruction error is the lowest.\n",
    "- Best reconstruction error 1625.209 (From 5171.140 to 1625.209)\n",
    "- We transformed the original matrix [ F' = Q (F - m)] to the transformed matrix and reconstructed the transformed matrix (inverse) [F = (Q - 1 * F') + m].\n",
    "- We truncated matrix Q (take some values) from Q, then the new F length is smaller than old (Reduce dimensionality).\n",
    "- The code iterates over different numbers of retained components (k_values) and reconstructs the data using the selected principal components. The reconstruction error is computed for each iteration.\n",
    "- Best Results The best results are reported based on the minimum reconstruction error. The optimal number of retained components (best_k), the corresponding Q matrix (best_Q_matrix), and the minimum reconstruction error are printed.\n",
    "- This report provides insights into the analysis, including the sorted eigenvalues and eigenvectors, the normalization of eigenvectors, and the determination of the best reconstruction using PCA. The output will show the best Q matrix, the optimal number of retained components, and the associated reconstruction error.\n",
    "---\n",
    "Team Member: \n",
    "- Mohamed Hisham `20200483`\n",
    "- Abdelrahman Amin `20200311`\n",
    "- Abdelrahman Mostafa `20200827`\n",
    "- Yossef Mohamed `20200669`\n",
    "- Esraa Abdelmoneam `20201015`"
   ]
  }
 ],
 "metadata": {
  "kaggle": {
   "accelerator": "gpu",
   "dataSources": [
    {
     "datasetId": 1936563,
     "sourceId": 6674905,
     "sourceType": "datasetVersion"
    }
   ],
   "isGpuEnabled": true,
   "isInternetEnabled": true,
   "language": "python",
   "sourceType": "notebook"
  },
  "kernelspec": {
   "display_name": "Python 3",
   "language": "python",
   "name": "python3"
  },
  "language_info": {
   "codemirror_mode": {
    "name": "ipython",
    "version": 3
   },
   "file_extension": ".py",
   "mimetype": "text/x-python",
   "name": "python",
   "nbconvert_exporter": "python",
   "pygments_lexer": "ipython3",
   "version": "3.10.12"
  },
  "papermill": {
   "default_parameters": {},
   "duration": 15.778147,
   "end_time": "2023-12-19T18:29:09.248417",
   "environment_variables": {},
   "exception": null,
   "input_path": "__notebook__.ipynb",
   "output_path": "__notebook__.ipynb",
   "parameters": {},
   "start_time": "2023-12-19T18:28:53.470270",
   "version": "2.4.0"
  }
 },
 "nbformat": 4,
 "nbformat_minor": 5
}
