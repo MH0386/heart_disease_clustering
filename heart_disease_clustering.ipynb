{
 "cells": [
  {
   "cell_type": "code",
   "execution_count": 1,
   "id": "3e6a4985",
   "metadata": {
    "ExecuteTime": {
     "end_time": "2023-12-31T15:20:48.745977400Z",
     "start_time": "2023-12-31T15:20:48.254670200Z"
    },
    "execution": {
     "iopub.execute_input": "2023-12-31T15:40:43.800512Z",
     "iopub.status.busy": "2023-12-31T15:40:43.798996Z",
     "iopub.status.idle": "2023-12-31T15:40:46.295700Z",
     "shell.execute_reply": "2023-12-31T15:40:46.294426Z"
    },
    "papermill": {
     "duration": 2.527209,
     "end_time": "2023-12-31T15:40:46.298738",
     "exception": false,
     "start_time": "2023-12-31T15:40:43.771529",
     "status": "completed"
    },
    "tags": []
   },
   "outputs": [],
   "source": [
    "import os\n",
    "from sklearn.preprocessing import MinMaxScaler\n",
    "import matplotlib.pyplot as plt\n",
    "import numpy as np\n",
    "import pandas as pd\n",
    "import seaborn as sns"
   ]
  },
  {
   "cell_type": "code",
   "execution_count": 2,
   "id": "343b8302",
   "metadata": {
    "ExecuteTime": {
     "end_time": "2023-12-31T15:20:48.811080900Z",
     "start_time": "2023-12-31T15:20:48.732874Z"
    },
    "collapsed": false,
    "execution": {
     "iopub.execute_input": "2023-12-31T15:40:46.350293Z",
     "iopub.status.busy": "2023-12-31T15:40:46.349750Z",
     "iopub.status.idle": "2023-12-31T15:40:46.356222Z",
     "shell.execute_reply": "2023-12-31T15:40:46.354938Z"
    },
    "jupyter": {
     "outputs_hidden": false
    },
    "papermill": {
     "duration": 0.033221,
     "end_time": "2023-12-31T15:40:46.358744",
     "exception": false,
     "start_time": "2023-12-31T15:40:46.325523",
     "status": "completed"
    },
    "tags": []
   },
   "outputs": [],
   "source": [
    "Path1ToLocal = \"heart_2020_cleaned.csv\"\n",
    "Path1ToKaggle = \"/kaggle/input/personal-key-indicators-of-heart-disease/2020/heart_2020_cleaned.csv\"\n",
    "\n",
    "Path2ToLocal = \"glass.csv\"\n",
    "Path2ToKaggle = \"/kaggle/input/glass/glass.csv\"\n",
    "\n",
    "Path1 = Path1ToLocal if os.path.exists(Path1ToLocal) else Path1ToKaggle\n",
    "Path2 = Path2ToLocal if os.path.exists(Path2ToLocal) else Path2ToKaggle"
   ]
  },
  {
   "cell_type": "code",
   "execution_count": 3,
   "id": "5331ed47",
   "metadata": {
    "ExecuteTime": {
     "end_time": "2023-12-31T15:20:49.486869900Z",
     "start_time": "2023-12-31T15:20:48.797070700Z"
    },
    "collapsed": false,
    "execution": {
     "iopub.execute_input": "2023-12-31T15:40:46.406133Z",
     "iopub.status.busy": "2023-12-31T15:40:46.405766Z",
     "iopub.status.idle": "2023-12-31T15:40:47.731268Z",
     "shell.execute_reply": "2023-12-31T15:40:47.729707Z"
    },
    "jupyter": {
     "outputs_hidden": false
    },
    "papermill": {
     "duration": 1.35286,
     "end_time": "2023-12-31T15:40:47.734598",
     "exception": false,
     "start_time": "2023-12-31T15:40:46.381738",
     "status": "completed"
    },
    "tags": []
   },
   "outputs": [
    {
     "data": {
      "text/html": [
       "<div>\n",
       "<style scoped>\n",
       "    .dataframe tbody tr th:only-of-type {\n",
       "        vertical-align: middle;\n",
       "    }\n",
       "\n",
       "    .dataframe tbody tr th {\n",
       "        vertical-align: top;\n",
       "    }\n",
       "\n",
       "    .dataframe thead th {\n",
       "        text-align: right;\n",
       "    }\n",
       "</style>\n",
       "<table border=\"1\" class=\"dataframe\">\n",
       "  <thead>\n",
       "    <tr style=\"text-align: right;\">\n",
       "      <th></th>\n",
       "      <th>HeartDisease</th>\n",
       "      <th>BMI</th>\n",
       "      <th>Smoking</th>\n",
       "      <th>AlcoholDrinking</th>\n",
       "      <th>Stroke</th>\n",
       "      <th>PhysicalHealth</th>\n",
       "      <th>MentalHealth</th>\n",
       "      <th>DiffWalking</th>\n",
       "      <th>Sex</th>\n",
       "      <th>AgeCategory</th>\n",
       "      <th>Race</th>\n",
       "      <th>Diabetic</th>\n",
       "      <th>PhysicalActivity</th>\n",
       "      <th>GenHealth</th>\n",
       "      <th>SleepTime</th>\n",
       "      <th>Asthma</th>\n",
       "      <th>KidneyDisease</th>\n",
       "      <th>SkinCancer</th>\n",
       "    </tr>\n",
       "  </thead>\n",
       "  <tbody>\n",
       "    <tr>\n",
       "      <th>0</th>\n",
       "      <td>No</td>\n",
       "      <td>16.60</td>\n",
       "      <td>Yes</td>\n",
       "      <td>No</td>\n",
       "      <td>No</td>\n",
       "      <td>3.0</td>\n",
       "      <td>30.0</td>\n",
       "      <td>No</td>\n",
       "      <td>Female</td>\n",
       "      <td>55-59</td>\n",
       "      <td>White</td>\n",
       "      <td>Yes</td>\n",
       "      <td>Yes</td>\n",
       "      <td>Very good</td>\n",
       "      <td>5.0</td>\n",
       "      <td>Yes</td>\n",
       "      <td>No</td>\n",
       "      <td>Yes</td>\n",
       "    </tr>\n",
       "    <tr>\n",
       "      <th>1</th>\n",
       "      <td>No</td>\n",
       "      <td>20.34</td>\n",
       "      <td>No</td>\n",
       "      <td>No</td>\n",
       "      <td>Yes</td>\n",
       "      <td>0.0</td>\n",
       "      <td>0.0</td>\n",
       "      <td>No</td>\n",
       "      <td>Female</td>\n",
       "      <td>80 or older</td>\n",
       "      <td>White</td>\n",
       "      <td>No</td>\n",
       "      <td>Yes</td>\n",
       "      <td>Very good</td>\n",
       "      <td>7.0</td>\n",
       "      <td>No</td>\n",
       "      <td>No</td>\n",
       "      <td>No</td>\n",
       "    </tr>\n",
       "    <tr>\n",
       "      <th>2</th>\n",
       "      <td>No</td>\n",
       "      <td>26.58</td>\n",
       "      <td>Yes</td>\n",
       "      <td>No</td>\n",
       "      <td>No</td>\n",
       "      <td>20.0</td>\n",
       "      <td>30.0</td>\n",
       "      <td>No</td>\n",
       "      <td>Male</td>\n",
       "      <td>65-69</td>\n",
       "      <td>White</td>\n",
       "      <td>Yes</td>\n",
       "      <td>Yes</td>\n",
       "      <td>Fair</td>\n",
       "      <td>8.0</td>\n",
       "      <td>Yes</td>\n",
       "      <td>No</td>\n",
       "      <td>No</td>\n",
       "    </tr>\n",
       "    <tr>\n",
       "      <th>3</th>\n",
       "      <td>No</td>\n",
       "      <td>24.21</td>\n",
       "      <td>No</td>\n",
       "      <td>No</td>\n",
       "      <td>No</td>\n",
       "      <td>0.0</td>\n",
       "      <td>0.0</td>\n",
       "      <td>No</td>\n",
       "      <td>Female</td>\n",
       "      <td>75-79</td>\n",
       "      <td>White</td>\n",
       "      <td>No</td>\n",
       "      <td>No</td>\n",
       "      <td>Good</td>\n",
       "      <td>6.0</td>\n",
       "      <td>No</td>\n",
       "      <td>No</td>\n",
       "      <td>Yes</td>\n",
       "    </tr>\n",
       "    <tr>\n",
       "      <th>4</th>\n",
       "      <td>No</td>\n",
       "      <td>23.71</td>\n",
       "      <td>No</td>\n",
       "      <td>No</td>\n",
       "      <td>No</td>\n",
       "      <td>28.0</td>\n",
       "      <td>0.0</td>\n",
       "      <td>Yes</td>\n",
       "      <td>Female</td>\n",
       "      <td>40-44</td>\n",
       "      <td>White</td>\n",
       "      <td>No</td>\n",
       "      <td>Yes</td>\n",
       "      <td>Very good</td>\n",
       "      <td>8.0</td>\n",
       "      <td>No</td>\n",
       "      <td>No</td>\n",
       "      <td>No</td>\n",
       "    </tr>\n",
       "    <tr>\n",
       "      <th>...</th>\n",
       "      <td>...</td>\n",
       "      <td>...</td>\n",
       "      <td>...</td>\n",
       "      <td>...</td>\n",
       "      <td>...</td>\n",
       "      <td>...</td>\n",
       "      <td>...</td>\n",
       "      <td>...</td>\n",
       "      <td>...</td>\n",
       "      <td>...</td>\n",
       "      <td>...</td>\n",
       "      <td>...</td>\n",
       "      <td>...</td>\n",
       "      <td>...</td>\n",
       "      <td>...</td>\n",
       "      <td>...</td>\n",
       "      <td>...</td>\n",
       "      <td>...</td>\n",
       "    </tr>\n",
       "    <tr>\n",
       "      <th>319790</th>\n",
       "      <td>Yes</td>\n",
       "      <td>27.41</td>\n",
       "      <td>Yes</td>\n",
       "      <td>No</td>\n",
       "      <td>No</td>\n",
       "      <td>7.0</td>\n",
       "      <td>0.0</td>\n",
       "      <td>Yes</td>\n",
       "      <td>Male</td>\n",
       "      <td>60-64</td>\n",
       "      <td>Hispanic</td>\n",
       "      <td>Yes</td>\n",
       "      <td>No</td>\n",
       "      <td>Fair</td>\n",
       "      <td>6.0</td>\n",
       "      <td>Yes</td>\n",
       "      <td>No</td>\n",
       "      <td>No</td>\n",
       "    </tr>\n",
       "    <tr>\n",
       "      <th>319791</th>\n",
       "      <td>No</td>\n",
       "      <td>29.84</td>\n",
       "      <td>Yes</td>\n",
       "      <td>No</td>\n",
       "      <td>No</td>\n",
       "      <td>0.0</td>\n",
       "      <td>0.0</td>\n",
       "      <td>No</td>\n",
       "      <td>Male</td>\n",
       "      <td>35-39</td>\n",
       "      <td>Hispanic</td>\n",
       "      <td>No</td>\n",
       "      <td>Yes</td>\n",
       "      <td>Very good</td>\n",
       "      <td>5.0</td>\n",
       "      <td>Yes</td>\n",
       "      <td>No</td>\n",
       "      <td>No</td>\n",
       "    </tr>\n",
       "    <tr>\n",
       "      <th>319792</th>\n",
       "      <td>No</td>\n",
       "      <td>24.24</td>\n",
       "      <td>No</td>\n",
       "      <td>No</td>\n",
       "      <td>No</td>\n",
       "      <td>0.0</td>\n",
       "      <td>0.0</td>\n",
       "      <td>No</td>\n",
       "      <td>Female</td>\n",
       "      <td>45-49</td>\n",
       "      <td>Hispanic</td>\n",
       "      <td>No</td>\n",
       "      <td>Yes</td>\n",
       "      <td>Good</td>\n",
       "      <td>6.0</td>\n",
       "      <td>No</td>\n",
       "      <td>No</td>\n",
       "      <td>No</td>\n",
       "    </tr>\n",
       "    <tr>\n",
       "      <th>319793</th>\n",
       "      <td>No</td>\n",
       "      <td>32.81</td>\n",
       "      <td>No</td>\n",
       "      <td>No</td>\n",
       "      <td>No</td>\n",
       "      <td>0.0</td>\n",
       "      <td>0.0</td>\n",
       "      <td>No</td>\n",
       "      <td>Female</td>\n",
       "      <td>25-29</td>\n",
       "      <td>Hispanic</td>\n",
       "      <td>No</td>\n",
       "      <td>No</td>\n",
       "      <td>Good</td>\n",
       "      <td>12.0</td>\n",
       "      <td>No</td>\n",
       "      <td>No</td>\n",
       "      <td>No</td>\n",
       "    </tr>\n",
       "    <tr>\n",
       "      <th>319794</th>\n",
       "      <td>No</td>\n",
       "      <td>46.56</td>\n",
       "      <td>No</td>\n",
       "      <td>No</td>\n",
       "      <td>No</td>\n",
       "      <td>0.0</td>\n",
       "      <td>0.0</td>\n",
       "      <td>No</td>\n",
       "      <td>Female</td>\n",
       "      <td>80 or older</td>\n",
       "      <td>Hispanic</td>\n",
       "      <td>No</td>\n",
       "      <td>Yes</td>\n",
       "      <td>Good</td>\n",
       "      <td>8.0</td>\n",
       "      <td>No</td>\n",
       "      <td>No</td>\n",
       "      <td>No</td>\n",
       "    </tr>\n",
       "  </tbody>\n",
       "</table>\n",
       "<p>319795 rows × 18 columns</p>\n",
       "</div>"
      ],
      "text/plain": [
       "       HeartDisease    BMI Smoking AlcoholDrinking Stroke  PhysicalHealth  \\\n",
       "0                No  16.60     Yes              No     No             3.0   \n",
       "1                No  20.34      No              No    Yes             0.0   \n",
       "2                No  26.58     Yes              No     No            20.0   \n",
       "3                No  24.21      No              No     No             0.0   \n",
       "4                No  23.71      No              No     No            28.0   \n",
       "...             ...    ...     ...             ...    ...             ...   \n",
       "319790          Yes  27.41     Yes              No     No             7.0   \n",
       "319791           No  29.84     Yes              No     No             0.0   \n",
       "319792           No  24.24      No              No     No             0.0   \n",
       "319793           No  32.81      No              No     No             0.0   \n",
       "319794           No  46.56      No              No     No             0.0   \n",
       "\n",
       "        MentalHealth DiffWalking     Sex  AgeCategory      Race Diabetic  \\\n",
       "0               30.0          No  Female        55-59     White      Yes   \n",
       "1                0.0          No  Female  80 or older     White       No   \n",
       "2               30.0          No    Male        65-69     White      Yes   \n",
       "3                0.0          No  Female        75-79     White       No   \n",
       "4                0.0         Yes  Female        40-44     White       No   \n",
       "...              ...         ...     ...          ...       ...      ...   \n",
       "319790           0.0         Yes    Male        60-64  Hispanic      Yes   \n",
       "319791           0.0          No    Male        35-39  Hispanic       No   \n",
       "319792           0.0          No  Female        45-49  Hispanic       No   \n",
       "319793           0.0          No  Female        25-29  Hispanic       No   \n",
       "319794           0.0          No  Female  80 or older  Hispanic       No   \n",
       "\n",
       "       PhysicalActivity  GenHealth  SleepTime Asthma KidneyDisease SkinCancer  \n",
       "0                   Yes  Very good        5.0    Yes            No        Yes  \n",
       "1                   Yes  Very good        7.0     No            No         No  \n",
       "2                   Yes       Fair        8.0    Yes            No         No  \n",
       "3                    No       Good        6.0     No            No        Yes  \n",
       "4                   Yes  Very good        8.0     No            No         No  \n",
       "...                 ...        ...        ...    ...           ...        ...  \n",
       "319790               No       Fair        6.0    Yes            No         No  \n",
       "319791              Yes  Very good        5.0    Yes            No         No  \n",
       "319792              Yes       Good        6.0     No            No         No  \n",
       "319793               No       Good       12.0     No            No         No  \n",
       "319794              Yes       Good        8.0     No            No         No  \n",
       "\n",
       "[319795 rows x 18 columns]"
      ]
     },
     "execution_count": 3,
     "metadata": {},
     "output_type": "execute_result"
    }
   ],
   "source": [
    "data1 = pd.read_csv(Path1)\n",
    "data1"
   ]
  },
  {
   "cell_type": "code",
   "execution_count": 4,
   "id": "670b29ed",
   "metadata": {
    "ExecuteTime": {
     "end_time": "2023-12-31T15:20:49.700237800Z",
     "start_time": "2023-12-31T15:20:49.461231Z"
    },
    "collapsed": false,
    "execution": {
     "iopub.execute_input": "2023-12-31T15:40:47.793891Z",
     "iopub.status.busy": "2023-12-31T15:40:47.793497Z",
     "iopub.status.idle": "2023-12-31T15:40:48.240170Z",
     "shell.execute_reply": "2023-12-31T15:40:48.238676Z"
    },
    "jupyter": {
     "outputs_hidden": false
    },
    "papermill": {
     "duration": 0.480932,
     "end_time": "2023-12-31T15:40:48.244169",
     "exception": false,
     "start_time": "2023-12-31T15:40:47.763237",
     "status": "completed"
    },
    "tags": []
   },
   "outputs": [],
   "source": [
    "data1.Sex = data1.Sex.map({'Male': 1, 'Female': 0})\n",
    "data1.AgeCategory = data1.AgeCategory.map({'18-24': 1, '40-44': 2, '45-49': 3, '50-54': 4, '55-59': 5, '60-64': 6, '65-69': 7, '70-74': 8, '75-79': 9, '80 or older': 10, })\n",
    "data1 = pd.get_dummies(data1, columns=['Race'])\n",
    "data1.Diabetic = data1.Diabetic.map({'Yes': 1, 'Yes (during pregnancy)': 1, 'No': 0, 'No, borderline diabetes': 0, })\n",
    "data1.GenHealth = data1.GenHealth.map({'Excellent': 5, 'Very good': 4, 'Good': 3, 'Fair': 2, 'Poor': 1, })\n",
    "data1.DiffWalking = data1.DiffWalking.map({'Yes': 1, 'No': 0, })\n",
    "data1.SkinCancer = data1.SkinCancer.map({'Yes': 1, 'No': 0, })\n",
    "data1.HeartDisease = data1.HeartDisease.map({'Yes': 1, 'No': 0, })\n",
    "data1.Smoking = data1.Smoking.map({'Yes': 1, 'No': 0, })\n",
    "data1.AlcoholDrinking = data1.AlcoholDrinking.map({'Yes': 1, 'No': 0, })\n",
    "data1.Stroke = data1.Stroke.map({'Yes': 1, 'No': 0})\n",
    "data1.PhysicalActivity = data1.PhysicalActivity.map({'Yes': 1, 'No': 0})\n",
    "data1.Asthma = data1.Asthma.map({'Yes': 1, 'No': 0, })\n",
    "data1.KidneyDisease = data1.KidneyDisease.map({'Yes': 1, 'No': 0, })"
   ]
  },
  {
   "cell_type": "code",
   "execution_count": 5,
   "id": "d955b8db",
   "metadata": {
    "ExecuteTime": {
     "end_time": "2023-12-31T15:20:49.728972600Z",
     "start_time": "2023-12-31T15:20:49.677200500Z"
    },
    "collapsed": false,
    "execution": {
     "iopub.execute_input": "2023-12-31T15:40:48.399870Z",
     "iopub.status.busy": "2023-12-31T15:40:48.398901Z",
     "iopub.status.idle": "2023-12-31T15:40:48.420359Z",
     "shell.execute_reply": "2023-12-31T15:40:48.419119Z"
    },
    "jupyter": {
     "outputs_hidden": false
    },
    "papermill": {
     "duration": 0.056247,
     "end_time": "2023-12-31T15:40:48.422833",
     "exception": false,
     "start_time": "2023-12-31T15:40:48.366586",
     "status": "completed"
    },
    "tags": []
   },
   "outputs": [
    {
     "data": {
      "text/plain": [
       "HeartDisease                               0\n",
       "BMI                                        0\n",
       "Smoking                                    0\n",
       "AlcoholDrinking                            0\n",
       "Stroke                                     0\n",
       "PhysicalHealth                             0\n",
       "MentalHealth                               0\n",
       "DiffWalking                                0\n",
       "Sex                                        0\n",
       "AgeCategory                            56258\n",
       "Diabetic                                   0\n",
       "PhysicalActivity                           0\n",
       "GenHealth                                  0\n",
       "SleepTime                                  0\n",
       "Asthma                                     0\n",
       "KidneyDisease                              0\n",
       "SkinCancer                                 0\n",
       "Race_American Indian/Alaskan Native        0\n",
       "Race_Asian                                 0\n",
       "Race_Black                                 0\n",
       "Race_Hispanic                              0\n",
       "Race_Other                                 0\n",
       "Race_White                                 0\n",
       "dtype: int64"
      ]
     },
     "execution_count": 5,
     "metadata": {},
     "output_type": "execute_result"
    }
   ],
   "source": [
    "data1.isnull().sum()"
   ]
  },
  {
   "cell_type": "code",
   "execution_count": 6,
   "id": "1680159f",
   "metadata": {
    "ExecuteTime": {
     "end_time": "2023-12-31T15:20:49.756034300Z",
     "start_time": "2023-12-31T15:20:49.686712400Z"
    },
    "collapsed": false,
    "execution": {
     "iopub.execute_input": "2023-12-31T15:40:48.476932Z",
     "iopub.status.busy": "2023-12-31T15:40:48.475888Z",
     "iopub.status.idle": "2023-12-31T15:40:48.491532Z",
     "shell.execute_reply": "2023-12-31T15:40:48.490146Z"
    },
    "jupyter": {
     "outputs_hidden": false
    },
    "papermill": {
     "duration": 0.048456,
     "end_time": "2023-12-31T15:40:48.495347",
     "exception": false,
     "start_time": "2023-12-31T15:40:48.446891",
     "status": "completed"
    },
    "tags": []
   },
   "outputs": [],
   "source": [
    "data1 = data1.astype(np.float32)"
   ]
  },
  {
   "cell_type": "code",
   "execution_count": 7,
   "id": "7b77300b",
   "metadata": {
    "ExecuteTime": {
     "end_time": "2023-12-31T15:20:49.774132400Z",
     "start_time": "2023-12-31T15:20:49.699238400Z"
    },
    "collapsed": false,
    "execution": {
     "iopub.execute_input": "2023-12-31T15:40:48.554172Z",
     "iopub.status.busy": "2023-12-31T15:40:48.553317Z",
     "iopub.status.idle": "2023-12-31T15:40:48.601172Z",
     "shell.execute_reply": "2023-12-31T15:40:48.599484Z"
    },
    "jupyter": {
     "outputs_hidden": false
    },
    "papermill": {
     "duration": 0.079671,
     "end_time": "2023-12-31T15:40:48.604137",
     "exception": false,
     "start_time": "2023-12-31T15:40:48.524466",
     "status": "completed"
    },
    "tags": []
   },
   "outputs": [],
   "source": [
    "data1.dropna(inplace=True)"
   ]
  },
  {
   "cell_type": "code",
   "execution_count": 8,
   "id": "fab4324b",
   "metadata": {
    "ExecuteTime": {
     "end_time": "2023-12-31T15:20:49.775135Z",
     "start_time": "2023-12-31T15:20:49.716758200Z"
    },
    "collapsed": false,
    "execution": {
     "iopub.execute_input": "2023-12-31T15:40:48.661118Z",
     "iopub.status.busy": "2023-12-31T15:40:48.660256Z",
     "iopub.status.idle": "2023-12-31T15:40:48.666355Z",
     "shell.execute_reply": "2023-12-31T15:40:48.664807Z"
    },
    "jupyter": {
     "outputs_hidden": false
    },
    "papermill": {
     "duration": 0.038175,
     "end_time": "2023-12-31T15:40:48.669485",
     "exception": false,
     "start_time": "2023-12-31T15:40:48.631310",
     "status": "completed"
    },
    "tags": []
   },
   "outputs": [],
   "source": [
    "y = data1['HeartDisease']"
   ]
  },
  {
   "cell_type": "code",
   "execution_count": 9,
   "id": "5e8ee6c0",
   "metadata": {
    "ExecuteTime": {
     "end_time": "2023-12-31T15:20:49.781167600Z",
     "start_time": "2023-12-31T15:20:49.733959500Z"
    },
    "collapsed": false,
    "execution": {
     "iopub.execute_input": "2023-12-31T15:40:48.725563Z",
     "iopub.status.busy": "2023-12-31T15:40:48.725163Z",
     "iopub.status.idle": "2023-12-31T15:40:48.750019Z",
     "shell.execute_reply": "2023-12-31T15:40:48.748382Z"
    },
    "jupyter": {
     "outputs_hidden": false
    },
    "papermill": {
     "duration": 0.057195,
     "end_time": "2023-12-31T15:40:48.753450",
     "exception": false,
     "start_time": "2023-12-31T15:40:48.696255",
     "status": "completed"
    },
    "tags": []
   },
   "outputs": [],
   "source": [
    "data1 = data1.drop(columns=['HeartDisease'])"
   ]
  },
  {
   "cell_type": "code",
   "execution_count": 10,
   "id": "83b5111a",
   "metadata": {
    "ExecuteTime": {
     "end_time": "2023-12-31T15:20:50.332229200Z",
     "start_time": "2023-12-31T15:20:49.735963100Z"
    },
    "collapsed": false,
    "execution": {
     "iopub.execute_input": "2023-12-31T15:40:48.811989Z",
     "iopub.status.busy": "2023-12-31T15:40:48.810552Z",
     "iopub.status.idle": "2023-12-31T15:40:51.501535Z",
     "shell.execute_reply": "2023-12-31T15:40:51.500203Z"
    },
    "jupyter": {
     "outputs_hidden": false
    },
    "papermill": {
     "duration": 2.727274,
     "end_time": "2023-12-31T15:40:51.509213",
     "exception": false,
     "start_time": "2023-12-31T15:40:48.781939",
     "status": "completed"
    },
    "tags": []
   },
   "outputs": [
    {
     "data": {
      "text/plain": [
       "<Axes: >"
      ]
     },
     "execution_count": 10,
     "metadata": {},
     "output_type": "execute_result"
    },
    {
     "data": {
      "image/png": "[encoded data removed]",
      "text/plain": [
       "<Figure size 2000x2000 with 2 Axes>"
      ]
     },
     "metadata": {},
     "output_type": "display_data"
    }
   ],
   "source": [
    "# check the correlation between features\n",
    "plt.figure(figsize=(20, 20))\n",
    "sns.heatmap(data1.corr(), annot=True, cmap='coolwarm')"
   ]
  },
  {
   "cell_type": "code",
   "execution_count": 11,
   "id": "9ca69625",
   "metadata": {
    "ExecuteTime": {
     "end_time": "2023-12-31T15:20:50.372290300Z",
     "start_time": "2023-12-31T15:20:50.330229700Z"
    },
    "collapsed": false,
    "execution": {
     "iopub.execute_input": "2023-12-31T15:40:51.574359Z",
     "iopub.status.busy": "2023-12-31T15:40:51.572517Z",
     "iopub.status.idle": "2023-12-31T15:40:51.612915Z",
     "shell.execute_reply": "2023-12-31T15:40:51.611804Z"
    },
    "jupyter": {
     "outputs_hidden": false
    },
    "papermill": {
     "duration": 0.074775,
     "end_time": "2023-12-31T15:40:51.615078",
     "exception": false,
     "start_time": "2023-12-31T15:40:51.540303",
     "status": "completed"
    },
    "tags": []
   },
   "outputs": [
    {
     "data": {
      "text/plain": [
       "array([[16.6 ,  1.  ,  0.  , ...,  0.  ,  0.  ,  1.  ],\n",
       "       [20.34,  0.  ,  0.  , ...,  0.  ,  0.  ,  1.  ],\n",
       "       [26.58,  1.  ,  0.  , ...,  0.  ,  0.  ,  1.  ],\n",
       "       ...,\n",
       "       [27.41,  1.  ,  0.  , ...,  1.  ,  0.  ,  0.  ],\n",
       "       [24.24,  0.  ,  0.  , ...,  1.  ,  0.  ,  0.  ],\n",
       "       [46.56,  0.  ,  0.  , ...,  1.  ,  0.  ,  0.  ]], dtype=float32)"
      ]
     },
     "execution_count": 11,
     "metadata": {},
     "output_type": "execute_result"
    }
   ],
   "source": [
    "data1 = np.array(data1)\n",
    "data1"
   ]
  },
  {
   "cell_type": "code",
   "execution_count": 12,
   "id": "0553c1ae",
   "metadata": {
    "ExecuteTime": {
     "end_time": "2023-12-31T15:20:50.489008800Z",
     "start_time": "2023-12-31T15:20:50.350248500Z"
    },
    "execution": {
     "iopub.execute_input": "2023-12-31T15:40:51.679577Z",
     "iopub.status.busy": "2023-12-31T15:40:51.678083Z",
     "iopub.status.idle": "2023-12-31T15:40:51.715517Z",
     "shell.execute_reply": "2023-12-31T15:40:51.713986Z"
    },
    "papermill": {
     "duration": 0.072739,
     "end_time": "2023-12-31T15:40:51.718425",
     "exception": false,
     "start_time": "2023-12-31T15:40:51.645686",
     "status": "completed"
    },
    "tags": []
   },
   "outputs": [],
   "source": [
    "scaler = MinMaxScaler()\n",
    "X_centered1 = scaler.fit_transform(data1)"
   ]
  },
  {
   "cell_type": "markdown",
   "id": "f1da513f",
   "metadata": {
    "papermill": {
     "duration": 0.030434,
     "end_time": "2023-12-31T15:40:51.779455",
     "exception": false,
     "start_time": "2023-12-31T15:40:51.749021",
     "status": "completed"
    },
    "tags": []
   },
   "source": [
    "# Applying Fuzzy C-Means Clustering"
   ]
  },
  {
   "cell_type": "code",
   "execution_count": 13,
   "id": "953cb9b0",
   "metadata": {
    "ExecuteTime": {
     "end_time": "2023-12-31T15:20:50.507036900Z",
     "start_time": "2023-12-31T15:20:50.456963800Z"
    },
    "execution": {
     "iopub.execute_input": "2023-12-31T15:40:51.843797Z",
     "iopub.status.busy": "2023-12-31T15:40:51.843319Z",
     "iopub.status.idle": "2023-12-31T15:40:51.856931Z",
     "shell.execute_reply": "2023-12-31T15:40:51.855471Z"
    },
    "papermill": {
     "duration": 0.049017,
     "end_time": "2023-12-31T15:40:51.859478",
     "exception": false,
     "start_time": "2023-12-31T15:40:51.810461",
     "status": "completed"
    },
    "tags": []
   },
   "outputs": [],
   "source": [
    "def fuzzy_c_means(data, num_clusters, fuzziness, max_iters=10, tol=1e-10):\n",
    "    # Step 1: Initialize membership matrix\n",
    "    membership_matrix = np.random.rand(data.shape[0], num_clusters)\n",
    "    membership_matrix /= np.sum(membership_matrix, axis=1, keepdims=True)\n",
    "\n",
    "    for _ in range(max_iters):\n",
    "        # Step 2: Compute centroids\n",
    "        centroids = np.zeros((num_clusters, data.shape[1]))\n",
    "        denominator = np.zeros((num_clusters, 1))\n",
    "        for i in range(data.shape[0]):\n",
    "            for j in range(num_clusters):\n",
    "                centroids[j] += (membership_matrix[i, j] ** fuzziness) * data[i]\n",
    "                denominator[j] += membership_matrix[i, j] ** fuzziness\n",
    "        centroids /= denominator  # A / B\n",
    "        # Step 3: Calculate Euclidean distance\n",
    "        distances = np.zeros((data.shape[0], num_clusters))\n",
    "        for i in range(data.shape[0]):\n",
    "            for j in range(num_clusters):\n",
    "                distance_ij = np.sqrt(np.sum((data[i] - centroids[j]) ** 2))\n",
    "                distances[i, j] = distance_ij\n",
    "\n",
    "                # Step 4: Update membership matrix\n",
    "        updated_membership_matrix = np.zeros_like(membership_matrix)\n",
    "        for i in range(data.shape[0]):\n",
    "            for j in range(num_clusters):\n",
    "                if distances[i, j] > 0:\n",
    "                    updated_membership_matrix[i, j] = 1 / np.sum((distances[i, :] / distances[i, j]) ** (2 / (fuzziness - 1)))\n",
    "                else:\n",
    "                    updated_membership_matrix[i, j] = 1\n",
    "                    # Step 5: Check convergence \n",
    "        if np.linalg.norm(updated_membership_matrix - membership_matrix) < tol:\n",
    "            break\n",
    "        membership_matrix = updated_membership_matrix\n",
    "        # Print intermediate results\n",
    "    return membership_matrix, centroids\n"
   ]
  },
  {
   "cell_type": "markdown",
   "id": "151ecf3d",
   "metadata": {
    "papermill": {
     "duration": 0.030553,
     "end_time": "2023-12-31T15:40:51.920703",
     "exception": false,
     "start_time": "2023-12-31T15:40:51.890150",
     "status": "completed"
    },
    "tags": []
   },
   "source": [
    "# Vectorization"
   ]
  },
  {
   "cell_type": "code",
   "execution_count": 14,
   "id": "b66667ba",
   "metadata": {
    "ExecuteTime": {
     "end_time": "2023-12-31T15:20:50.509036200Z",
     "start_time": "2023-12-31T15:20:50.462962600Z"
    },
    "execution": {
     "iopub.execute_input": "2023-12-31T15:40:51.993831Z",
     "iopub.status.busy": "2023-12-31T15:40:51.992828Z",
     "iopub.status.idle": "2023-12-31T15:40:52.010306Z",
     "shell.execute_reply": "2023-12-31T15:40:52.008268Z"
    },
    "papermill": {
     "duration": 0.067661,
     "end_time": "2023-12-31T15:40:52.019103",
     "exception": false,
     "start_time": "2023-12-31T15:40:51.951442",
     "status": "completed"
    },
    "tags": []
   },
   "outputs": [],
   "source": [
    "def vectorized_fuzzy_c_means(data, num_clusters, fuzziness, max_iters=100, tol=1e-4):\n",
    "    # Step 1: Initialize membership matrix\n",
    "    membership_matrix = np.random.rand(data.shape[0], num_clusters)\n",
    "    membership_matrix /= np.sum(membership_matrix, axis=1, keepdims=True)\n",
    "\n",
    "    for _ in range(max_iters):\n",
    "        # Step 2: Compute centroids\n",
    "        centroids = np.dot(membership_matrix.T ** fuzziness, data) / (np.sum(membership_matrix ** fuzziness, axis=0, keepdims=True)).T\n",
    "\n",
    "        # Step 3: Calculate Euclidean distance\n",
    "        distances = np.linalg.norm(data[:, np.newaxis, :] - centroids, axis=2)\n",
    "\n",
    "        # Step 4: Update membership matrix\n",
    "        updated_membership_matrix = 1 / np.sum((distances[:, :, np.newaxis] / distances[:, np.newaxis, :]) ** (2 / (fuzziness - 1)), axis=2)\n",
    "\n",
    "        # Step 5: Check convergence\n",
    "        if np.linalg.norm(updated_membership_matrix - membership_matrix) < tol:\n",
    "            break\n",
    "        membership_matrix = updated_membership_matrix\n",
    "    return membership_matrix, centroids"
   ]
  },
  {
   "cell_type": "code",
   "execution_count": 15,
   "id": "338bbd9c",
   "metadata": {
    "ExecuteTime": {
     "end_time": "2023-12-31T15:20:50.523064500Z",
     "start_time": "2023-12-31T15:20:50.466997600Z"
    },
    "collapsed": false,
    "execution": {
     "iopub.execute_input": "2023-12-31T15:40:52.085712Z",
     "iopub.status.busy": "2023-12-31T15:40:52.083902Z",
     "iopub.status.idle": "2023-12-31T15:40:52.090129Z",
     "shell.execute_reply": "2023-12-31T15:40:52.088896Z"
    },
    "jupyter": {
     "outputs_hidden": false
    },
    "papermill": {
     "duration": 0.041791,
     "end_time": "2023-12-31T15:40:52.092569",
     "exception": false,
     "start_time": "2023-12-31T15:40:52.050778",
     "status": "completed"
    },
    "tags": []
   },
   "outputs": [],
   "source": [
    "# # Define the data\n",
    "# data = np.array([[1, 2], [2, 3], [9, 4], [10, 1]])"
   ]
  },
  {
   "cell_type": "code",
   "execution_count": 16,
   "id": "da1f04e7",
   "metadata": {
    "ExecuteTime": {
     "end_time": "2023-12-31T15:21:32.797505800Z",
     "start_time": "2023-12-31T15:20:50.485009300Z"
    },
    "collapsed": false,
    "execution": {
     "iopub.execute_input": "2023-12-31T15:40:52.163076Z",
     "iopub.status.busy": "2023-12-31T15:40:52.162676Z",
     "iopub.status.idle": "2023-12-31T15:43:00.892362Z",
     "shell.execute_reply": "2023-12-31T15:43:00.890863Z"
    },
    "jupyter": {
     "outputs_hidden": false
    },
    "papermill": {
     "duration": 128.766217,
     "end_time": "2023-12-31T15:43:00.895663",
     "exception": false,
     "start_time": "2023-12-31T15:40:52.129446",
     "status": "completed"
    },
    "tags": []
   },
   "outputs": [],
   "source": [
    "num_clusters = 2\n",
    "fuzziness = 2\n",
    "membership_matrix, centroids = fuzzy_c_means(data1, num_clusters, fuzziness)"
   ]
  },
  {
   "cell_type": "code",
   "execution_count": 17,
   "id": "8ece13bc",
   "metadata": {
    "ExecuteTime": {
     "end_time": "2023-12-31T15:21:32.804022700Z",
     "start_time": "2023-12-31T15:21:32.798512400Z"
    },
    "collapsed": false,
    "execution": {
     "iopub.execute_input": "2023-12-31T15:43:01.007338Z",
     "iopub.status.busy": "2023-12-31T15:43:01.006782Z",
     "iopub.status.idle": "2023-12-31T15:43:01.015937Z",
     "shell.execute_reply": "2023-12-31T15:43:01.014666Z"
    },
    "jupyter": {
     "outputs_hidden": false
    },
    "papermill": {
     "duration": 0.069065,
     "end_time": "2023-12-31T15:43:01.018953",
     "exception": false,
     "start_time": "2023-12-31T15:43:00.949888",
     "status": "completed"
    },
    "tags": []
   },
   "outputs": [
    {
     "data": {
      "text/plain": [
       "array([[0.50991019, 0.49008981],\n",
       "       [0.45731139, 0.54268861],\n",
       "       [0.51814648, 0.48185352],\n",
       "       ...,\n",
       "       [0.49712746, 0.50287254],\n",
       "       [0.43165298, 0.56834702],\n",
       "       [0.50043521, 0.49956479]])"
      ]
     },
     "execution_count": 17,
     "metadata": {},
     "output_type": "execute_result"
    }
   ],
   "source": [
    "# Final Membership Matrix:\n",
    "membership_matrix"
   ]
  },
  {
   "cell_type": "code",
   "execution_count": 18,
   "id": "cc9f4a57",
   "metadata": {
    "ExecuteTime": {
     "end_time": "2023-12-31T15:21:32.861875Z",
     "start_time": "2023-12-31T15:21:32.802017Z"
    },
    "collapsed": false,
    "execution": {
     "iopub.execute_input": "2023-12-31T15:43:01.083337Z",
     "iopub.status.busy": "2023-12-31T15:43:01.082962Z",
     "iopub.status.idle": "2023-12-31T15:43:01.091997Z",
     "shell.execute_reply": "2023-12-31T15:43:01.090686Z"
    },
    "jupyter": {
     "outputs_hidden": false
    },
    "papermill": {
     "duration": 0.044205,
     "end_time": "2023-12-31T15:43:01.094212",
     "exception": false,
     "start_time": "2023-12-31T15:43:01.050007",
     "status": "completed"
    },
    "tags": []
   },
   "outputs": [
    {
     "data": {
      "text/plain": [
       "array([[2.81422799e+01, 4.17616373e-01, 6.35644595e-02, 4.24773856e-02,\n",
       "        3.24337958e+00, 3.20582837e+00, 1.50469245e-01, 4.73153371e-01,\n",
       "        5.73500633e+00, 1.50748164e-01, 7.70643689e-01, 3.58131860e+00,\n",
       "        7.15007875e+00, 1.25353821e-01, 4.08078804e-02, 1.11674090e-01,\n",
       "        1.51515169e-02, 2.17554104e-02, 6.87763529e-02, 7.30352816e-02,\n",
       "        3.05766039e-02, 7.90704834e-01],\n",
       "       [2.85140582e+01, 4.24749859e-01, 6.39683032e-02, 4.61651289e-02,\n",
       "        4.12195875e+00, 4.02419156e+00, 1.73206282e-01, 4.61902357e-01,\n",
       "        5.67103277e+00, 1.60856747e-01, 7.53144973e-01, 3.49749687e+00,\n",
       "        7.12658242e+00, 1.35320396e-01, 4.47279485e-02, 1.10733782e-01,\n",
       "        1.59654795e-02, 2.10531800e-02, 7.14263188e-02, 7.48082149e-02,\n",
       "        3.17775100e-02, 7.84969297e-01]])"
      ]
     },
     "execution_count": 18,
     "metadata": {},
     "output_type": "execute_result"
    }
   ],
   "source": [
    "# Final Centroids:\n",
    "centroids"
   ]
  },
  {
   "cell_type": "code",
   "execution_count": 19,
   "id": "28a15478",
   "metadata": {
    "ExecuteTime": {
     "end_time": "2023-12-31T15:21:32.865406600Z",
     "start_time": "2023-12-31T15:21:32.817095100Z"
    },
    "execution": {
     "iopub.execute_input": "2023-12-31T15:43:01.159725Z",
     "iopub.status.busy": "2023-12-31T15:43:01.158248Z",
     "iopub.status.idle": "2023-12-31T15:43:01.167473Z",
     "shell.execute_reply": "2023-12-31T15:43:01.165960Z"
    },
    "papermill": {
     "duration": 0.044416,
     "end_time": "2023-12-31T15:43:01.169997",
     "exception": false,
     "start_time": "2023-12-31T15:43:01.125581",
     "status": "completed"
    },
    "tags": []
   },
   "outputs": [
    {
     "data": {
      "text/plain": [
       "((263537, 2), (2, 22))"
      ]
     },
     "execution_count": 19,
     "metadata": {},
     "output_type": "execute_result"
    }
   ],
   "source": [
    "membership_matrix.shape, centroids.shape"
   ]
  },
  {
   "cell_type": "markdown",
   "id": "2a8621c9",
   "metadata": {
    "papermill": {
     "duration": 0.031309,
     "end_time": "2023-12-31T15:43:01.235326",
     "exception": false,
     "start_time": "2023-12-31T15:43:01.204017",
     "status": "completed"
    },
    "tags": []
   },
   "source": [
    "# Applying PCA from Scratch"
   ]
  },
  {
   "cell_type": "code",
   "execution_count": 20,
   "id": "cf323465",
   "metadata": {
    "ExecuteTime": {
     "end_time": "2023-12-31T15:21:32.886119500Z",
     "start_time": "2023-12-31T15:21:32.828665800Z"
    },
    "collapsed": false,
    "execution": {
     "iopub.execute_input": "2023-12-31T15:43:01.300501Z",
     "iopub.status.busy": "2023-12-31T15:43:01.299589Z",
     "iopub.status.idle": "2023-12-31T15:43:01.307541Z",
     "shell.execute_reply": "2023-12-31T15:43:01.305836Z"
    },
    "jupyter": {
     "outputs_hidden": false
    },
    "papermill": {
     "duration": 0.043759,
     "end_time": "2023-12-31T15:43:01.310293",
     "exception": false,
     "start_time": "2023-12-31T15:43:01.266534",
     "status": "completed"
    },
    "tags": []
   },
   "outputs": [],
   "source": [
    "def manual_covariance_matrix(data):\n",
    "    X_mean = np.mean(data, axis=0)\n",
    "    x_centered = (data - X_mean)\n",
    "    num_samples = data.shape[0]\n",
    "    num_features = data.shape[1]\n",
    "\n",
    "    covarianceMatrix = np.zeros((num_features, num_features))\n",
    "\n",
    "    for i in range(num_features):\n",
    "        for j in range(num_features):\n",
    "            covarianceMatrix[i, j] = np.sum((data[:, i] - X_mean[i]) * (data[:, j] - X_mean[j])) / (num_samples - 1)\n",
    "\n",
    "    return covarianceMatrix, x_centered"
   ]
  },
  {
   "cell_type": "code",
   "execution_count": 21,
   "id": "317d5e46",
   "metadata": {
    "ExecuteTime": {
     "end_time": "2023-12-31T15:21:32.887150600Z",
     "start_time": "2023-12-31T15:21:32.839747400Z"
    },
    "collapsed": false,
    "execution": {
     "iopub.execute_input": "2023-12-31T15:43:01.375111Z",
     "iopub.status.busy": "2023-12-31T15:43:01.374726Z",
     "iopub.status.idle": "2023-12-31T15:43:01.393038Z",
     "shell.execute_reply": "2023-12-31T15:43:01.391878Z"
    },
    "jupyter": {
     "outputs_hidden": false
    },
    "papermill": {
     "duration": 0.05367,
     "end_time": "2023-12-31T15:43:01.395703",
     "exception": false,
     "start_time": "2023-12-31T15:43:01.342033",
     "status": "completed"
    },
    "tags": []
   },
   "outputs": [],
   "source": [
    "covariance_matrix = np.dot(X_centered1.T, X_centered1) / len(X_centered1)"
   ]
  },
  {
   "cell_type": "code",
   "execution_count": 22,
   "id": "a5fae004",
   "metadata": {
    "ExecuteTime": {
     "end_time": "2023-12-31T15:21:32.939505700Z",
     "start_time": "2023-12-31T15:21:32.850297400Z"
    },
    "collapsed": false,
    "execution": {
     "iopub.execute_input": "2023-12-31T15:43:01.467969Z",
     "iopub.status.busy": "2023-12-31T15:43:01.467585Z",
     "iopub.status.idle": "2023-12-31T15:43:01.475057Z",
     "shell.execute_reply": "2023-12-31T15:43:01.473575Z"
    },
    "jupyter": {
     "outputs_hidden": false
    },
    "papermill": {
     "duration": 0.049686,
     "end_time": "2023-12-31T15:43:01.478246",
     "exception": false,
     "start_time": "2023-12-31T15:43:01.428560",
     "status": "completed"
    },
    "tags": []
   },
   "outputs": [
    {
     "data": {
      "text/plain": [
       "(263537, 22)"
      ]
     },
     "execution_count": 22,
     "metadata": {},
     "output_type": "execute_result"
    }
   ],
   "source": [
    "X_centered1.shape"
   ]
  },
  {
   "cell_type": "code",
   "execution_count": 23,
   "id": "d4c9945b",
   "metadata": {
    "ExecuteTime": {
     "end_time": "2023-12-31T15:21:33.334953200Z",
     "start_time": "2023-12-31T15:21:32.861875Z"
    },
    "collapsed": false,
    "execution": {
     "iopub.execute_input": "2023-12-31T15:43:01.553627Z",
     "iopub.status.busy": "2023-12-31T15:43:01.553175Z",
     "iopub.status.idle": "2023-12-31T15:43:02.920050Z",
     "shell.execute_reply": "2023-12-31T15:43:02.918934Z"
    },
    "jupyter": {
     "outputs_hidden": false
    },
    "papermill": {
     "duration": 1.408304,
     "end_time": "2023-12-31T15:43:02.922551",
     "exception": false,
     "start_time": "2023-12-31T15:43:01.514247",
     "status": "completed"
    },
    "tags": []
   },
   "outputs": [
    {
     "data": {
      "text/plain": [
       "<matplotlib.collections.PathCollection at 0x7f829f3c5960>"
      ]
     },
     "execution_count": 23,
     "metadata": {},
     "output_type": "execute_result"
    },
    {
     "data": {
      "image/png": "[encoded data removed]",
      "text/plain": [
       "<Figure size 640x480 with 1 Axes>"
      ]
     },
     "metadata": {},
     "output_type": "display_data"
    }
   ],
   "source": [
    "plt.scatter(X_centered1[:, 0], X_centered1[:, 1])"
   ]
  },
  {
   "cell_type": "code",
   "execution_count": 24,
   "id": "5b5d6cd5",
   "metadata": {
    "ExecuteTime": {
     "end_time": "2023-12-31T15:21:33.340021400Z",
     "start_time": "2023-12-31T15:21:33.336954Z"
    },
    "collapsed": false,
    "execution": {
     "iopub.execute_input": "2023-12-31T15:43:02.989662Z",
     "iopub.status.busy": "2023-12-31T15:43:02.988069Z",
     "iopub.status.idle": "2023-12-31T15:43:02.997291Z",
     "shell.execute_reply": "2023-12-31T15:43:02.995907Z"
    },
    "jupyter": {
     "outputs_hidden": false
    },
    "papermill": {
     "duration": 0.045256,
     "end_time": "2023-12-31T15:43:03.000008",
     "exception": false,
     "start_time": "2023-12-31T15:43:02.954752",
     "status": "completed"
    },
    "tags": []
   },
   "outputs": [],
   "source": [
    "def calculate_eigenvalues_and_eigenvectors(A, tol=1e-10, max_iter=1000000):\n",
    "    if A.ndim != 2 or A.shape[0] != A.shape[1]: raise ValueError(\"Matrix A must be square.\")\n",
    "    lambdaMax = 0\n",
    "    # Initialize random vector\n",
    "    v = np.ones(A.shape[0])\n",
    "    for _ in range(max_iter):\n",
    "        # Update vector\n",
    "        v = A @ v\n",
    "        # Normalize\n",
    "        v_norm = np.linalg.norm(v)\n",
    "        v /= v_norm\n",
    "        # Calculate eigenvalue\n",
    "        lambda_new = np.dot(A @ v, v)\n",
    "        # Check convergence\n",
    "        if abs(lambda_new - lambdaMax) < tol: break\n",
    "        # Update dominant eigenvalue\n",
    "        lambdaMax = lambda_new\n",
    "    return lambdaMax, v"
   ]
  },
  {
   "cell_type": "code",
   "execution_count": 25,
   "id": "a1789ac7",
   "metadata": {
    "ExecuteTime": {
     "end_time": "2023-12-31T15:21:33.353049200Z",
     "start_time": "2023-12-31T15:21:33.339021400Z"
    },
    "collapsed": false,
    "execution": {
     "iopub.execute_input": "2023-12-31T15:43:03.066986Z",
     "iopub.status.busy": "2023-12-31T15:43:03.066565Z",
     "iopub.status.idle": "2023-12-31T15:43:03.076275Z",
     "shell.execute_reply": "2023-12-31T15:43:03.074938Z"
    },
    "jupyter": {
     "outputs_hidden": false
    },
    "papermill": {
     "duration": 0.045294,
     "end_time": "2023-12-31T15:43:03.078694",
     "exception": false,
     "start_time": "2023-12-31T15:43:03.033400",
     "status": "completed"
    },
    "tags": []
   },
   "outputs": [
    {
     "data": {
      "text/plain": [
       "2.667960329118082"
      ]
     },
     "execution_count": 25,
     "metadata": {},
     "output_type": "execute_result"
    }
   ],
   "source": [
    "eigenvalues, eigenvectors = np.linalg.eig(covariance_matrix)\n",
    "eigenvalues.max()"
   ]
  },
  {
   "cell_type": "code",
   "execution_count": 26,
   "id": "18f69365",
   "metadata": {
    "ExecuteTime": {
     "end_time": "2023-12-31T15:21:33.357062300Z",
     "start_time": "2023-12-31T15:21:33.344021400Z"
    },
    "collapsed": false,
    "execution": {
     "iopub.execute_input": "2023-12-31T15:43:03.144377Z",
     "iopub.status.busy": "2023-12-31T15:43:03.143946Z",
     "iopub.status.idle": "2023-12-31T15:43:03.152811Z",
     "shell.execute_reply": "2023-12-31T15:43:03.150965Z"
    },
    "jupyter": {
     "outputs_hidden": false
    },
    "papermill": {
     "duration": 0.04502,
     "end_time": "2023-12-31T15:43:03.155505",
     "exception": false,
     "start_time": "2023-12-31T15:43:03.110485",
     "status": "completed"
    },
    "tags": []
   },
   "outputs": [
    {
     "data": {
      "text/plain": [
       "array([ 0.11610815,  0.0304841 ,  0.00693525, -0.03859457,  0.06663776,\n",
       "        0.0100793 , -0.01200473,  0.01218128,  0.07632484, -0.32326592,\n",
       "       -0.73026856,  0.56709939, -0.03696965, -0.04895696, -0.04344378,\n",
       "       -0.07217683,  0.00645401,  0.03499435, -0.03914597, -0.00535935,\n",
       "       -0.01173814, -0.01309638])"
      ]
     },
     "execution_count": 26,
     "metadata": {},
     "output_type": "execute_result"
    }
   ],
   "source": [
    "eigenvectors[eigenvalues.argmax()]"
   ]
  },
  {
   "cell_type": "code",
   "execution_count": 27,
   "id": "980e1755",
   "metadata": {
    "ExecuteTime": {
     "end_time": "2023-12-31T15:21:33.369578400Z",
     "start_time": "2023-12-31T15:21:33.348049100Z"
    },
    "collapsed": false,
    "execution": {
     "iopub.execute_input": "2023-12-31T15:43:03.223390Z",
     "iopub.status.busy": "2023-12-31T15:43:03.222962Z",
     "iopub.status.idle": "2023-12-31T15:43:03.230456Z",
     "shell.execute_reply": "2023-12-31T15:43:03.228810Z"
    },
    "jupyter": {
     "outputs_hidden": false
    },
    "papermill": {
     "duration": 0.045541,
     "end_time": "2023-12-31T15:43:03.232969",
     "exception": false,
     "start_time": "2023-12-31T15:43:03.187428",
     "status": "completed"
    },
    "tags": []
   },
   "outputs": [
    {
     "name": "stdout",
     "output_type": "stream",
     "text": [
      "Matrix Q:\n",
      "(22, 22)\n"
     ]
    }
   ],
   "source": [
    "# Normalize eigenvectors\n",
    "#normalized_eigenvectors = eigenvectors / np.linalg.norm(eigenvectors, axis=0)\n",
    "normalized_eigenvectors = eigenvectors / np.sqrt(np.sum(eigenvectors ** 2, axis=0))\n",
    "\n",
    "# Construct matrix Q\n",
    "Q = normalized_eigenvectors\n",
    "\n",
    "# Print the resulting matrix Q\n",
    "print(f\"Matrix Q:\\n{Q.shape}\")"
   ]
  },
  {
   "cell_type": "code",
   "execution_count": 28,
   "id": "05b0d502",
   "metadata": {
    "ExecuteTime": {
     "end_time": "2023-12-31T15:21:33.372084500Z",
     "start_time": "2023-12-31T15:21:33.352048Z"
    },
    "collapsed": false,
    "execution": {
     "iopub.execute_input": "2023-12-31T15:43:03.300011Z",
     "iopub.status.busy": "2023-12-31T15:43:03.299534Z",
     "iopub.status.idle": "2023-12-31T15:43:03.305531Z",
     "shell.execute_reply": "2023-12-31T15:43:03.304049Z"
    },
    "jupyter": {
     "outputs_hidden": false
    },
    "papermill": {
     "duration": 0.043332,
     "end_time": "2023-12-31T15:43:03.307918",
     "exception": false,
     "start_time": "2023-12-31T15:43:03.264586",
     "status": "completed"
    },
    "tags": []
   },
   "outputs": [],
   "source": [
    "def transform_data(F, Q, num_components):\n",
    "    return F @ Q[:, :num_components]"
   ]
  },
  {
   "cell_type": "code",
   "execution_count": 29,
   "id": "a503e5dd",
   "metadata": {
    "ExecuteTime": {
     "end_time": "2023-12-31T15:21:33.468462100Z",
     "start_time": "2023-12-31T15:21:33.353049200Z"
    },
    "collapsed": false,
    "execution": {
     "iopub.execute_input": "2023-12-31T15:43:03.374516Z",
     "iopub.status.busy": "2023-12-31T15:43:03.374126Z",
     "iopub.status.idle": "2023-12-31T15:43:03.379226Z",
     "shell.execute_reply": "2023-12-31T15:43:03.378012Z"
    },
    "jupyter": {
     "outputs_hidden": false
    },
    "papermill": {
     "duration": 0.041535,
     "end_time": "2023-12-31T15:43:03.381360",
     "exception": false,
     "start_time": "2023-12-31T15:43:03.339825",
     "status": "completed"
    },
    "tags": []
   },
   "outputs": [],
   "source": [
    "def inverse_transform(x_transformed, Q, num_components):\n",
    "    return x_transformed @ Q[:, :num_components].T + np.mean(x_transformed, axis=0)"
   ]
  },
  {
   "cell_type": "code",
   "execution_count": 30,
   "id": "d25a08eb",
   "metadata": {
    "ExecuteTime": {
     "end_time": "2023-12-31T15:21:33.527185200Z",
     "start_time": "2023-12-31T15:21:33.359066400Z"
    },
    "collapsed": false,
    "execution": {
     "iopub.execute_input": "2023-12-31T15:43:03.449980Z",
     "iopub.status.busy": "2023-12-31T15:43:03.448480Z",
     "iopub.status.idle": "2023-12-31T15:43:03.529788Z",
     "shell.execute_reply": "2023-12-31T15:43:03.528318Z"
    },
    "jupyter": {
     "outputs_hidden": false
    },
    "papermill": {
     "duration": 0.119964,
     "end_time": "2023-12-31T15:43:03.533741",
     "exception": false,
     "start_time": "2023-12-31T15:43:03.413777",
     "status": "completed"
    },
    "tags": []
   },
   "outputs": [],
   "source": [
    "X_transformed = transform_data(X_centered1, Q, X_centered1.shape[1])"
   ]
  },
  {
   "cell_type": "code",
   "execution_count": 31,
   "id": "d4a8a6b0",
   "metadata": {
    "ExecuteTime": {
     "end_time": "2023-12-31T15:21:33.531200600Z",
     "start_time": "2023-12-31T15:21:33.395541500Z"
    },
    "collapsed": false,
    "execution": {
     "iopub.execute_input": "2023-12-31T15:43:03.646283Z",
     "iopub.status.busy": "2023-12-31T15:43:03.645639Z",
     "iopub.status.idle": "2023-12-31T15:43:03.656290Z",
     "shell.execute_reply": "2023-12-31T15:43:03.655142Z"
    },
    "jupyter": {
     "outputs_hidden": false
    },
    "papermill": {
     "duration": 0.070828,
     "end_time": "2023-12-31T15:43:03.659030",
     "exception": false,
     "start_time": "2023-12-31T15:43:03.588202",
     "status": "completed"
    },
    "tags": []
   },
   "outputs": [
    {
     "data": {
      "text/plain": [
       "(263537, 22)"
      ]
     },
     "execution_count": 31,
     "metadata": {},
     "output_type": "execute_result"
    }
   ],
   "source": [
    "X_transformed.shape"
   ]
  },
  {
   "cell_type": "code",
   "execution_count": 32,
   "id": "98a737f7",
   "metadata": {
    "ExecuteTime": {
     "end_time": "2023-12-31T15:21:33.949371400Z",
     "start_time": "2023-12-31T15:21:33.435315600Z"
    },
    "collapsed": false,
    "execution": {
     "iopub.execute_input": "2023-12-31T15:43:03.734565Z",
     "iopub.status.busy": "2023-12-31T15:43:03.733864Z",
     "iopub.status.idle": "2023-12-31T15:43:05.115136Z",
     "shell.execute_reply": "2023-12-31T15:43:05.113747Z"
    },
    "jupyter": {
     "outputs_hidden": false
    },
    "papermill": {
     "duration": 1.422567,
     "end_time": "2023-12-31T15:43:05.118300",
     "exception": false,
     "start_time": "2023-12-31T15:43:03.695733",
     "status": "completed"
    },
    "tags": []
   },
   "outputs": [
    {
     "data": {
      "text/plain": [
       "<matplotlib.collections.PathCollection at 0x7f829da502e0>"
      ]
     },
     "execution_count": 32,
     "metadata": {},
     "output_type": "execute_result"
    },
    {
     "data": {
      "image/png": "[encoded data removed]",
      "text/plain": [
       "<Figure size 640x480 with 1 Axes>"
      ]
     },
     "metadata": {},
     "output_type": "display_data"
    }
   ],
   "source": [
    "plt.scatter(X_transformed[:, 0], X_transformed[:, 1])"
   ]
  },
  {
   "cell_type": "code",
   "execution_count": 33,
   "id": "b1f9f612",
   "metadata": {
    "ExecuteTime": {
     "end_time": "2023-12-31T15:21:34.003730400Z",
     "start_time": "2023-12-31T15:21:33.949371400Z"
    },
    "collapsed": false,
    "execution": {
     "iopub.execute_input": "2023-12-31T15:43:05.193319Z",
     "iopub.status.busy": "2023-12-31T15:43:05.192893Z",
     "iopub.status.idle": "2023-12-31T15:43:05.290449Z",
     "shell.execute_reply": "2023-12-31T15:43:05.289239Z"
    },
    "jupyter": {
     "outputs_hidden": false
    },
    "papermill": {
     "duration": 0.13962,
     "end_time": "2023-12-31T15:43:05.294475",
     "exception": false,
     "start_time": "2023-12-31T15:43:05.154855",
     "status": "completed"
    },
    "tags": []
   },
   "outputs": [],
   "source": [
    "X_reconstructed = inverse_transform(X_transformed, Q, X_transformed.shape[1])"
   ]
  },
  {
   "cell_type": "code",
   "execution_count": 34,
   "id": "661c9693",
   "metadata": {
    "ExecuteTime": {
     "end_time": "2023-12-31T15:21:34.006378Z",
     "start_time": "2023-12-31T15:21:33.975972300Z"
    },
    "collapsed": false,
    "execution": {
     "iopub.execute_input": "2023-12-31T15:43:05.402205Z",
     "iopub.status.busy": "2023-12-31T15:43:05.401821Z",
     "iopub.status.idle": "2023-12-31T15:43:05.408932Z",
     "shell.execute_reply": "2023-12-31T15:43:05.407652Z"
    },
    "jupyter": {
     "outputs_hidden": false
    },
    "papermill": {
     "duration": 0.051413,
     "end_time": "2023-12-31T15:43:05.411784",
     "exception": false,
     "start_time": "2023-12-31T15:43:05.360371",
     "status": "completed"
    },
    "tags": []
   },
   "outputs": [
    {
     "data": {
      "text/plain": [
       "(263537, 22)"
      ]
     },
     "execution_count": 34,
     "metadata": {},
     "output_type": "execute_result"
    }
   ],
   "source": [
    "X_reconstructed.shape"
   ]
  },
  {
   "cell_type": "code",
   "execution_count": 35,
   "id": "4c5e3f65",
   "metadata": {
    "ExecuteTime": {
     "end_time": "2023-12-31T15:21:34.475024100Z",
     "start_time": "2023-12-31T15:21:33.980114100Z"
    },
    "collapsed": false,
    "execution": {
     "iopub.execute_input": "2023-12-31T15:43:05.490565Z",
     "iopub.status.busy": "2023-12-31T15:43:05.490091Z",
     "iopub.status.idle": "2023-12-31T15:43:06.863593Z",
     "shell.execute_reply": "2023-12-31T15:43:06.862138Z"
    },
    "jupyter": {
     "outputs_hidden": false
    },
    "papermill": {
     "duration": 1.416141,
     "end_time": "2023-12-31T15:43:06.866281",
     "exception": false,
     "start_time": "2023-12-31T15:43:05.450140",
     "status": "completed"
    },
    "tags": []
   },
   "outputs": [
    {
     "data": {
      "text/plain": [
       "<matplotlib.collections.PathCollection at 0x7f829f3f98a0>"
      ]
     },
     "execution_count": 35,
     "metadata": {},
     "output_type": "execute_result"
    },
    {
     "data": {
      "image/png": "[encoded data removed]",
      "text/plain": [
       "<Figure size 640x480 with 1 Axes>"
      ]
     },
     "metadata": {},
     "output_type": "display_data"
    }
   ],
   "source": [
    "plt.scatter(X_reconstructed[:, 0], X_reconstructed[:, 1])"
   ]
  },
  {
   "cell_type": "code",
   "execution_count": 36,
   "id": "e07db128",
   "metadata": {
    "ExecuteTime": {
     "end_time": "2023-12-31T15:21:35.570068100Z",
     "start_time": "2023-12-31T15:21:34.464507400Z"
    },
    "collapsed": false,
    "execution": {
     "iopub.execute_input": "2023-12-31T15:43:06.937439Z",
     "iopub.status.busy": "2023-12-31T15:43:06.937058Z",
     "iopub.status.idle": "2023-12-31T15:43:09.864691Z",
     "shell.execute_reply": "2023-12-31T15:43:09.863507Z"
    },
    "jupyter": {
     "outputs_hidden": false
    },
    "papermill": {
     "duration": 2.966591,
     "end_time": "2023-12-31T15:43:09.868353",
     "exception": false,
     "start_time": "2023-12-31T15:43:06.901762",
     "status": "completed"
    },
    "tags": []
   },
   "outputs": [
    {
     "name": "stdout",
     "output_type": "stream",
     "text": [
      "k:1, reconstruction_error:890.5711994984794\n",
      "k:2, reconstruction_error:852.3659631086578\n",
      "k:3, reconstruction_error:813.7002776054452\n",
      "k:4, reconstruction_error:782.9562242595866\n",
      "k:5, reconstruction_error:759.8677565633001\n",
      "k:6, reconstruction_error:738.717903322735\n",
      "k:7, reconstruction_error:719.5297311814057\n",
      "k:8, reconstruction_error:701.9207540716313\n",
      "k:9, reconstruction_error:684.5731571526329\n",
      "k:10, reconstruction_error:684.2095316503173\n",
      "k:11, reconstruction_error:683.3304045530226\n",
      "k:12, reconstruction_error:681.5915451902652\n",
      "k:13, reconstruction_error:667.7464321077344\n",
      "k:14, reconstruction_error:655.5573948321119\n",
      "k:15, reconstruction_error:652.0965324993161\n",
      "k:16, reconstruction_error:647.1170445150606\n",
      "k:17, reconstruction_error:634.9515728157346\n",
      "k:18, reconstruction_error:623.6005746298518\n",
      "k:19, reconstruction_error:614.5830384061504\n",
      "k:20, reconstruction_error:606.5794146442092\n",
      "k:21, reconstruction_error:598.3135002928709\n",
      "Best Q matrix (for the best k=21):\n",
      "\n",
      "Reconstruction Error with the Best Q matrix:\n",
      "598.3135002928709\n"
     ]
    }
   ],
   "source": [
    "k_values = range(1, data1.shape[1])\n",
    "\n",
    "# Initialize variables for tracking the best result\n",
    "best_reconstruction_error = np.inf\n",
    "best_Q_matrix = None\n",
    "best_k = None\n",
    "\n",
    "# Experiment with different numbers of retained components\n",
    "for k in k_values:\n",
    "    # Select the top 'k' normalized eigenvectors\n",
    "    selected_eigenvectors_Q_matrix = normalized_eigenvectors[:, :k]\n",
    "    F_prime1 = np.dot(selected_eigenvectors_Q_matrix.T, X_centered1.T).T\n",
    "\n",
    "    # Compute the inverse of Q (Q^-1)\n",
    "    Q_inverse = selected_eigenvectors_Q_matrix  # Because Q^-1 = Q^T for an orthogonal matrix\n",
    "\n",
    "    reconstructed_F = np.dot(Q_inverse, F_prime1.T) + np.mean(X_centered1, axis=1, keepdims=True).T\n",
    "    reconstructed_F = reconstructed_F.T\n",
    "    # Compute the reconstruction error\n",
    "    reconstruction_error = np.linalg.norm(X_centered1 - reconstructed_F, 'fro')\n",
    "\n",
    "    # Update the best result if needed\n",
    "    if reconstruction_error < best_reconstruction_error:\n",
    "        best_reconstruction_error = reconstruction_error\n",
    "        best_Q_matrix = selected_eigenvectors_Q_matrix\n",
    "        best_k = k\n",
    "        print(f'k:{k}, reconstruction_error:{reconstruction_error}')\n",
    "\n",
    "# Report the best Q matrix, best k, and reconstruction error\n",
    "print(\"Best Q matrix (for the best k={0}):\".format(best_k))\n",
    "#print(best_Q_matrix)\n",
    "\n",
    "print(\"\\nReconstruction Error with the Best Q matrix:\")\n",
    "print(best_reconstruction_error)"
   ]
  },
  {
   "cell_type": "code",
   "execution_count": 37,
   "id": "6b2265a5",
   "metadata": {
    "ExecuteTime": {
     "end_time": "2023-12-31T15:21:35.597355700Z",
     "start_time": "2023-12-31T15:21:35.569563100Z"
    },
    "collapsed": false,
    "execution": {
     "iopub.execute_input": "2023-12-31T15:43:09.985561Z",
     "iopub.status.busy": "2023-12-31T15:43:09.985071Z",
     "iopub.status.idle": "2023-12-31T15:43:09.992900Z",
     "shell.execute_reply": "2023-12-31T15:43:09.991711Z"
    },
    "jupyter": {
     "outputs_hidden": false
    },
    "papermill": {
     "duration": 0.066853,
     "end_time": "2023-12-31T15:43:09.995273",
     "exception": false,
     "start_time": "2023-12-31T15:43:09.928420",
     "status": "completed"
    },
    "tags": []
   },
   "outputs": [
    {
     "data": {
      "text/plain": [
       "(22, 21)"
      ]
     },
     "execution_count": 37,
     "metadata": {},
     "output_type": "execute_result"
    }
   ],
   "source": [
    "best_Q_matrix.shape"
   ]
  },
  {
   "cell_type": "code",
   "execution_count": 38,
   "id": "a9a029ab",
   "metadata": {
    "ExecuteTime": {
     "end_time": "2023-12-31T15:21:35.648341300Z",
     "start_time": "2023-12-31T15:21:35.573081900Z"
    },
    "collapsed": false,
    "execution": {
     "iopub.execute_input": "2023-12-31T15:43:10.069823Z",
     "iopub.status.busy": "2023-12-31T15:43:10.068711Z",
     "iopub.status.idle": "2023-12-31T15:43:10.114867Z",
     "shell.execute_reply": "2023-12-31T15:43:10.113674Z"
    },
    "jupyter": {
     "outputs_hidden": false
    },
    "papermill": {
     "duration": 0.087087,
     "end_time": "2023-12-31T15:43:10.118834",
     "exception": false,
     "start_time": "2023-12-31T15:43:10.031747",
     "status": "completed"
    },
    "tags": []
   },
   "outputs": [],
   "source": [
    "# Specify the number of components to retain\n",
    "k = 21  # Set the desired number of components here\n",
    "# Select the top 'k' normalized eigenvectors\n",
    "selected_eigenvectors_Q_matrix = normalized_eigenvectors[:, :k]\n",
    "# Step 3: Compute the transformed matrix Q^T * F_c\n",
    "F_prime1 = np.dot(selected_eigenvectors_Q_matrix.T, X_centered1.T).T\n",
    "# F_prime now contains the transformed data"
   ]
  },
  {
   "cell_type": "code",
   "execution_count": 39,
   "id": "3ce822d6",
   "metadata": {
    "ExecuteTime": {
     "end_time": "2023-12-31T15:21:35.669774900Z",
     "start_time": "2023-12-31T15:21:35.598860300Z"
    },
    "collapsed": false,
    "execution": {
     "iopub.execute_input": "2023-12-31T15:43:10.248387Z",
     "iopub.status.busy": "2023-12-31T15:43:10.248017Z",
     "iopub.status.idle": "2023-12-31T15:43:10.255477Z",
     "shell.execute_reply": "2023-12-31T15:43:10.254195Z"
    },
    "jupyter": {
     "outputs_hidden": false
    },
    "papermill": {
     "duration": 0.073732,
     "end_time": "2023-12-31T15:43:10.258329",
     "exception": false,
     "start_time": "2023-12-31T15:43:10.184597",
     "status": "completed"
    },
    "tags": []
   },
   "outputs": [
    {
     "data": {
      "text/plain": [
       "(263537, 21)"
      ]
     },
     "execution_count": 39,
     "metadata": {},
     "output_type": "execute_result"
    }
   ],
   "source": [
    "F_prime1.shape"
   ]
  },
  {
   "cell_type": "code",
   "execution_count": 40,
   "id": "b5fde616",
   "metadata": {
    "ExecuteTime": {
     "end_time": "2023-12-31T15:21:35.672278100Z",
     "start_time": "2023-12-31T15:21:35.614573600Z"
    },
    "collapsed": false,
    "execution": {
     "iopub.execute_input": "2023-12-31T15:43:10.341523Z",
     "iopub.status.busy": "2023-12-31T15:43:10.340241Z",
     "iopub.status.idle": "2023-12-31T15:43:10.430888Z",
     "shell.execute_reply": "2023-12-31T15:43:10.429424Z"
    },
    "jupyter": {
     "outputs_hidden": false
    },
    "papermill": {
     "duration": 0.136486,
     "end_time": "2023-12-31T15:43:10.435222",
     "exception": false,
     "start_time": "2023-12-31T15:43:10.298736",
     "status": "completed"
    },
    "tags": []
   },
   "outputs": [],
   "source": [
    "Q_inverse = selected_eigenvectors_Q_matrix  # Because Q^-1 = Q^T for an orthogonal matrix\n",
    "\n",
    "# Step 2: Reconstruct the original matrix F\n",
    "reconstructed_F = np.dot(Q_inverse, F_prime1.T) + np.mean(X_centered1, axis=1, keepdims=True).T\n",
    "reconstructed_F = reconstructed_F.T\n",
    "# reconstructed_F now contains the reconstructed original matrix"
   ]
  },
  {
   "cell_type": "code",
   "execution_count": 41,
   "id": "de164e31",
   "metadata": {
    "ExecuteTime": {
     "end_time": "2023-12-31T15:21:35.706024200Z",
     "start_time": "2023-12-31T15:21:35.634170500Z"
    },
    "collapsed": false,
    "execution": {
     "iopub.execute_input": "2023-12-31T15:43:10.541525Z",
     "iopub.status.busy": "2023-12-31T15:43:10.541044Z",
     "iopub.status.idle": "2023-12-31T15:43:10.549596Z",
     "shell.execute_reply": "2023-12-31T15:43:10.548256Z"
    },
    "jupyter": {
     "outputs_hidden": false
    },
    "papermill": {
     "duration": 0.05056,
     "end_time": "2023-12-31T15:43:10.552263",
     "exception": false,
     "start_time": "2023-12-31T15:43:10.501703",
     "status": "completed"
    },
    "tags": []
   },
   "outputs": [
    {
     "data": {
      "text/plain": [
       "(22, 21)"
      ]
     },
     "execution_count": 41,
     "metadata": {},
     "output_type": "execute_result"
    }
   ],
   "source": [
    "Q_inverse.shape"
   ]
  },
  {
   "cell_type": "code",
   "execution_count": 42,
   "id": "b18bbadf",
   "metadata": {
    "ExecuteTime": {
     "end_time": "2023-12-31T15:21:35.709072900Z",
     "start_time": "2023-12-31T15:21:35.638305400Z"
    },
    "collapsed": false,
    "execution": {
     "iopub.execute_input": "2023-12-31T15:43:10.633529Z",
     "iopub.status.busy": "2023-12-31T15:43:10.632741Z",
     "iopub.status.idle": "2023-12-31T15:43:10.642077Z",
     "shell.execute_reply": "2023-12-31T15:43:10.640905Z"
    },
    "jupyter": {
     "outputs_hidden": false
    },
    "papermill": {
     "duration": 0.053657,
     "end_time": "2023-12-31T15:43:10.644794",
     "exception": false,
     "start_time": "2023-12-31T15:43:10.591137",
     "status": "completed"
    },
    "tags": []
   },
   "outputs": [
    {
     "data": {
      "text/plain": [
       "(263537, 22)"
      ]
     },
     "execution_count": 42,
     "metadata": {},
     "output_type": "execute_result"
    }
   ],
   "source": [
    "reconstructed_F.shape"
   ]
  },
  {
   "cell_type": "markdown",
   "id": "14ab8ddf",
   "metadata": {
    "papermill": {
     "duration": 0.04076,
     "end_time": "2023-12-31T15:43:10.723905",
     "exception": false,
     "start_time": "2023-12-31T15:43:10.683145",
     "status": "completed"
    },
    "tags": []
   },
   "source": [
    "# Fuzzy C-Means Clustering after Applying PCA with Best Q_matrix"
   ]
  },
  {
   "cell_type": "code",
   "execution_count": 43,
   "id": "ec5d3b7a",
   "metadata": {
    "ExecuteTime": {
     "end_time": "2023-12-31T15:22:14.427996800Z",
     "start_time": "2023-12-31T15:21:35.689870500Z"
    },
    "execution": {
     "iopub.execute_input": "2023-12-31T15:43:10.804030Z",
     "iopub.status.busy": "2023-12-31T15:43:10.803591Z",
     "iopub.status.idle": "2023-12-31T15:45:09.247066Z",
     "shell.execute_reply": "2023-12-31T15:45:09.244595Z"
    },
    "papermill": {
     "duration": 118.488771,
     "end_time": "2023-12-31T15:45:09.251891",
     "exception": false,
     "start_time": "2023-12-31T15:43:10.763120",
     "status": "completed"
    },
    "tags": []
   },
   "outputs": [],
   "source": [
    "num_clusters = 2\n",
    "fuzziness = 2\n",
    "membership_matrix, centroids = fuzzy_c_means(F_prime1, num_clusters, fuzziness)"
   ]
  },
  {
   "cell_type": "code",
   "execution_count": 44,
   "id": "5d4efba3",
   "metadata": {
    "ExecuteTime": {
     "end_time": "2023-12-31T15:22:14.478186900Z",
     "start_time": "2023-12-31T15:22:14.434509400Z"
    },
    "collapsed": false,
    "execution": {
     "iopub.execute_input": "2023-12-31T15:45:09.382216Z",
     "iopub.status.busy": "2023-12-31T15:45:09.381826Z",
     "iopub.status.idle": "2023-12-31T15:45:09.390749Z",
     "shell.execute_reply": "2023-12-31T15:45:09.389182Z"
    },
    "jupyter": {
     "outputs_hidden": false
    },
    "papermill": {
     "duration": 0.074623,
     "end_time": "2023-12-31T15:45:09.393885",
     "exception": false,
     "start_time": "2023-12-31T15:45:09.319262",
     "status": "completed"
    },
    "tags": []
   },
   "outputs": [
    {
     "data": {
      "text/plain": [
       "array([[0.5000036 , 0.4999964 ],\n",
       "       [0.49997061, 0.50002939],\n",
       "       [0.50001912, 0.49998088],\n",
       "       ...,\n",
       "       [0.50001874, 0.49998126],\n",
       "       [0.49997873, 0.50002127],\n",
       "       [0.49998151, 0.50001849]])"
      ]
     },
     "execution_count": 44,
     "metadata": {},
     "output_type": "execute_result"
    }
   ],
   "source": [
    "# Final Membership Matrix:\n",
    "membership_matrix"
   ]
  },
  {
   "cell_type": "code",
   "execution_count": 45,
   "id": "7982f39b",
   "metadata": {
    "ExecuteTime": {
     "end_time": "2023-12-31T15:22:14.512928100Z",
     "start_time": "2023-12-31T15:22:14.440023300Z"
    },
    "collapsed": false,
    "execution": {
     "iopub.execute_input": "2023-12-31T15:45:09.474965Z",
     "iopub.status.busy": "2023-12-31T15:45:09.474531Z",
     "iopub.status.idle": "2023-12-31T15:45:09.482985Z",
     "shell.execute_reply": "2023-12-31T15:45:09.481415Z"
    },
    "jupyter": {
     "outputs_hidden": false
    },
    "papermill": {
     "duration": 0.054302,
     "end_time": "2023-12-31T15:45:09.486152",
     "exception": false,
     "start_time": "2023-12-31T15:45:09.431850",
     "status": "completed"
    },
    "tags": []
   },
   "outputs": [
    {
     "data": {
      "text/plain": [
       "array([[ 1.58407469e+00,  3.21808353e-03,  1.83280514e-02,\n",
       "        -1.15269162e-02,  4.33305443e-02,  1.64357662e-03,\n",
       "         8.35022093e-03,  1.33944695e-03,  3.39907225e-02,\n",
       "         3.80486298e-03,  1.57047180e-03,  1.35046811e-02,\n",
       "        -1.50743404e-02, -1.55766216e-02, -3.27409100e-03,\n",
       "        -2.16604947e-03, -4.05865540e-03,  3.97472478e-03,\n",
       "        -5.51058573e-03, -1.43813526e-04, -1.36431033e-03],\n",
       "       [ 1.58411183e+00,  3.31277108e-03,  1.82278263e-02,\n",
       "        -1.15048143e-02,  4.33144444e-02,  1.64408600e-03,\n",
       "         8.34746823e-03,  1.33003671e-03,  3.39818696e-02,\n",
       "         3.80399698e-03,  1.56976925e-03,  1.35024677e-02,\n",
       "        -1.50711836e-02, -1.55735543e-02, -3.27429377e-03,\n",
       "        -2.16489806e-03, -4.05674521e-03,  3.97390298e-03,\n",
       "        -5.50801866e-03, -1.44128041e-04, -1.36352666e-03]])"
      ]
     },
     "execution_count": 45,
     "metadata": {},
     "output_type": "execute_result"
    }
   ],
   "source": [
    "# Final Centroids:\n",
    "centroids"
   ]
  },
  {
   "cell_type": "code",
   "execution_count": 46,
   "id": "99ada1e5",
   "metadata": {
    "ExecuteTime": {
     "end_time": "2023-12-31T15:22:14.555452800Z",
     "start_time": "2023-12-31T15:22:14.450096900Z"
    },
    "execution": {
     "iopub.execute_input": "2023-12-31T15:45:09.566744Z",
     "iopub.status.busy": "2023-12-31T15:45:09.565997Z",
     "iopub.status.idle": "2023-12-31T15:45:09.572088Z",
     "shell.execute_reply": "2023-12-31T15:45:09.571298Z"
    },
    "papermill": {
     "duration": 0.049347,
     "end_time": "2023-12-31T15:45:09.574292",
     "exception": false,
     "start_time": "2023-12-31T15:45:09.524945",
     "status": "completed"
    },
    "tags": []
   },
   "outputs": [
    {
     "data": {
      "text/plain": [
       "(2, 21)"
      ]
     },
     "execution_count": 46,
     "metadata": {},
     "output_type": "execute_result"
    }
   ],
   "source": [
    "centroids.shape"
   ]
  },
  {
   "cell_type": "code",
   "execution_count": 47,
   "id": "d8ee724e",
   "metadata": {
    "ExecuteTime": {
     "end_time": "2023-12-31T15:22:14.610602400Z",
     "start_time": "2023-12-31T15:22:14.468677100Z"
    },
    "execution": {
     "iopub.execute_input": "2023-12-31T15:45:09.655825Z",
     "iopub.status.busy": "2023-12-31T15:45:09.655104Z",
     "iopub.status.idle": "2023-12-31T15:45:09.660868Z",
     "shell.execute_reply": "2023-12-31T15:45:09.659919Z"
    },
    "papermill": {
     "duration": 0.05085,
     "end_time": "2023-12-31T15:45:09.664163",
     "exception": false,
     "start_time": "2023-12-31T15:45:09.613313",
     "status": "completed"
    },
    "tags": []
   },
   "outputs": [
    {
     "data": {
      "text/plain": [
       "(263537, 2)"
      ]
     },
     "execution_count": 47,
     "metadata": {},
     "output_type": "execute_result"
    }
   ],
   "source": [
    "membership_matrix.shape"
   ]
  },
  {
   "cell_type": "markdown",
   "id": "995c9c49",
   "metadata": {
    "papermill": {
     "duration": 0.038738,
     "end_time": "2023-12-31T15:45:09.742652",
     "exception": false,
     "start_time": "2023-12-31T15:45:09.703914",
     "status": "completed"
    },
    "tags": []
   },
   "source": [
    "# data2"
   ]
  },
  {
   "cell_type": "code",
   "execution_count": 48,
   "id": "02f94cb1",
   "metadata": {
    "ExecuteTime": {
     "end_time": "2023-12-31T15:33:30.219502700Z",
     "start_time": "2023-12-31T15:33:30.141413900Z"
    },
    "collapsed": false,
    "execution": {
     "iopub.execute_input": "2023-12-31T15:45:09.829127Z",
     "iopub.status.busy": "2023-12-31T15:45:09.828732Z",
     "iopub.status.idle": "2023-12-31T15:45:09.858989Z",
     "shell.execute_reply": "2023-12-31T15:45:09.857923Z"
    },
    "jupyter": {
     "outputs_hidden": false
    },
    "papermill": {
     "duration": 0.078242,
     "end_time": "2023-12-31T15:45:09.862191",
     "exception": false,
     "start_time": "2023-12-31T15:45:09.783949",
     "status": "completed"
    },
    "tags": []
   },
   "outputs": [
    {
     "data": {
      "text/html": [
       "<div>\n",
       "<style scoped>\n",
       "    .dataframe tbody tr th:only-of-type {\n",
       "        vertical-align: middle;\n",
       "    }\n",
       "\n",
       "    .dataframe tbody tr th {\n",
       "        vertical-align: top;\n",
       "    }\n",
       "\n",
       "    .dataframe thead th {\n",
       "        text-align: right;\n",
       "    }\n",
       "</style>\n",
       "<table border=\"1\" class=\"dataframe\">\n",
       "  <thead>\n",
       "    <tr style=\"text-align: right;\">\n",
       "      <th></th>\n",
       "      <th>RI</th>\n",
       "      <th>Na</th>\n",
       "      <th>Mg</th>\n",
       "      <th>Al</th>\n",
       "      <th>Si</th>\n",
       "      <th>K</th>\n",
       "      <th>Ca</th>\n",
       "      <th>Ba</th>\n",
       "      <th>Fe</th>\n",
       "      <th>Type</th>\n",
       "    </tr>\n",
       "  </thead>\n",
       "  <tbody>\n",
       "    <tr>\n",
       "      <th>0</th>\n",
       "      <td>1.52101</td>\n",
       "      <td>13.64</td>\n",
       "      <td>4.49</td>\n",
       "      <td>1.10</td>\n",
       "      <td>71.78</td>\n",
       "      <td>0.06</td>\n",
       "      <td>8.75</td>\n",
       "      <td>0.00</td>\n",
       "      <td>0.0</td>\n",
       "      <td>1</td>\n",
       "    </tr>\n",
       "    <tr>\n",
       "      <th>1</th>\n",
       "      <td>1.51761</td>\n",
       "      <td>13.89</td>\n",
       "      <td>3.60</td>\n",
       "      <td>1.36</td>\n",
       "      <td>72.73</td>\n",
       "      <td>0.48</td>\n",
       "      <td>7.83</td>\n",
       "      <td>0.00</td>\n",
       "      <td>0.0</td>\n",
       "      <td>1</td>\n",
       "    </tr>\n",
       "    <tr>\n",
       "      <th>2</th>\n",
       "      <td>1.51618</td>\n",
       "      <td>13.53</td>\n",
       "      <td>3.55</td>\n",
       "      <td>1.54</td>\n",
       "      <td>72.99</td>\n",
       "      <td>0.39</td>\n",
       "      <td>7.78</td>\n",
       "      <td>0.00</td>\n",
       "      <td>0.0</td>\n",
       "      <td>1</td>\n",
       "    </tr>\n",
       "    <tr>\n",
       "      <th>3</th>\n",
       "      <td>1.51766</td>\n",
       "      <td>13.21</td>\n",
       "      <td>3.69</td>\n",
       "      <td>1.29</td>\n",
       "      <td>72.61</td>\n",
       "      <td>0.57</td>\n",
       "      <td>8.22</td>\n",
       "      <td>0.00</td>\n",
       "      <td>0.0</td>\n",
       "      <td>1</td>\n",
       "    </tr>\n",
       "    <tr>\n",
       "      <th>4</th>\n",
       "      <td>1.51742</td>\n",
       "      <td>13.27</td>\n",
       "      <td>3.62</td>\n",
       "      <td>1.24</td>\n",
       "      <td>73.08</td>\n",
       "      <td>0.55</td>\n",
       "      <td>8.07</td>\n",
       "      <td>0.00</td>\n",
       "      <td>0.0</td>\n",
       "      <td>1</td>\n",
       "    </tr>\n",
       "    <tr>\n",
       "      <th>...</th>\n",
       "      <td>...</td>\n",
       "      <td>...</td>\n",
       "      <td>...</td>\n",
       "      <td>...</td>\n",
       "      <td>...</td>\n",
       "      <td>...</td>\n",
       "      <td>...</td>\n",
       "      <td>...</td>\n",
       "      <td>...</td>\n",
       "      <td>...</td>\n",
       "    </tr>\n",
       "    <tr>\n",
       "      <th>209</th>\n",
       "      <td>1.51623</td>\n",
       "      <td>14.14</td>\n",
       "      <td>0.00</td>\n",
       "      <td>2.88</td>\n",
       "      <td>72.61</td>\n",
       "      <td>0.08</td>\n",
       "      <td>9.18</td>\n",
       "      <td>1.06</td>\n",
       "      <td>0.0</td>\n",
       "      <td>7</td>\n",
       "    </tr>\n",
       "    <tr>\n",
       "      <th>210</th>\n",
       "      <td>1.51685</td>\n",
       "      <td>14.92</td>\n",
       "      <td>0.00</td>\n",
       "      <td>1.99</td>\n",
       "      <td>73.06</td>\n",
       "      <td>0.00</td>\n",
       "      <td>8.40</td>\n",
       "      <td>1.59</td>\n",
       "      <td>0.0</td>\n",
       "      <td>7</td>\n",
       "    </tr>\n",
       "    <tr>\n",
       "      <th>211</th>\n",
       "      <td>1.52065</td>\n",
       "      <td>14.36</td>\n",
       "      <td>0.00</td>\n",
       "      <td>2.02</td>\n",
       "      <td>73.42</td>\n",
       "      <td>0.00</td>\n",
       "      <td>8.44</td>\n",
       "      <td>1.64</td>\n",
       "      <td>0.0</td>\n",
       "      <td>7</td>\n",
       "    </tr>\n",
       "    <tr>\n",
       "      <th>212</th>\n",
       "      <td>1.51651</td>\n",
       "      <td>14.38</td>\n",
       "      <td>0.00</td>\n",
       "      <td>1.94</td>\n",
       "      <td>73.61</td>\n",
       "      <td>0.00</td>\n",
       "      <td>8.48</td>\n",
       "      <td>1.57</td>\n",
       "      <td>0.0</td>\n",
       "      <td>7</td>\n",
       "    </tr>\n",
       "    <tr>\n",
       "      <th>213</th>\n",
       "      <td>1.51711</td>\n",
       "      <td>14.23</td>\n",
       "      <td>0.00</td>\n",
       "      <td>2.08</td>\n",
       "      <td>73.36</td>\n",
       "      <td>0.00</td>\n",
       "      <td>8.62</td>\n",
       "      <td>1.67</td>\n",
       "      <td>0.0</td>\n",
       "      <td>7</td>\n",
       "    </tr>\n",
       "  </tbody>\n",
       "</table>\n",
       "<p>214 rows × 10 columns</p>\n",
       "</div>"
      ],
      "text/plain": [
       "          RI     Na    Mg    Al     Si     K    Ca    Ba   Fe  Type\n",
       "0    1.52101  13.64  4.49  1.10  71.78  0.06  8.75  0.00  0.0     1\n",
       "1    1.51761  13.89  3.60  1.36  72.73  0.48  7.83  0.00  0.0     1\n",
       "2    1.51618  13.53  3.55  1.54  72.99  0.39  7.78  0.00  0.0     1\n",
       "3    1.51766  13.21  3.69  1.29  72.61  0.57  8.22  0.00  0.0     1\n",
       "4    1.51742  13.27  3.62  1.24  73.08  0.55  8.07  0.00  0.0     1\n",
       "..       ...    ...   ...   ...    ...   ...   ...   ...  ...   ...\n",
       "209  1.51623  14.14  0.00  2.88  72.61  0.08  9.18  1.06  0.0     7\n",
       "210  1.51685  14.92  0.00  1.99  73.06  0.00  8.40  1.59  0.0     7\n",
       "211  1.52065  14.36  0.00  2.02  73.42  0.00  8.44  1.64  0.0     7\n",
       "212  1.51651  14.38  0.00  1.94  73.61  0.00  8.48  1.57  0.0     7\n",
       "213  1.51711  14.23  0.00  2.08  73.36  0.00  8.62  1.67  0.0     7\n",
       "\n",
       "[214 rows x 10 columns]"
      ]
     },
     "execution_count": 48,
     "metadata": {},
     "output_type": "execute_result"
    }
   ],
   "source": [
    "data2 = pd.read_csv(Path2)\n",
    "data2"
   ]
  },
  {
   "cell_type": "code",
   "execution_count": 49,
   "id": "428f50fa",
   "metadata": {
    "ExecuteTime": {
     "end_time": "2023-12-31T15:33:31.097148700Z",
     "start_time": "2023-12-31T15:33:31.059256600Z"
    },
    "collapsed": false,
    "execution": {
     "iopub.execute_input": "2023-12-31T15:45:09.937235Z",
     "iopub.status.busy": "2023-12-31T15:45:09.936733Z",
     "iopub.status.idle": "2023-12-31T15:45:09.944350Z",
     "shell.execute_reply": "2023-12-31T15:45:09.942722Z"
    },
    "jupyter": {
     "outputs_hidden": false
    },
    "papermill": {
     "duration": 0.047464,
     "end_time": "2023-12-31T15:45:09.946883",
     "exception": false,
     "start_time": "2023-12-31T15:45:09.899419",
     "status": "completed"
    },
    "tags": []
   },
   "outputs": [],
   "source": [
    "data2 = data2.drop(columns=['Type'])"
   ]
  },
  {
   "cell_type": "code",
   "execution_count": 50,
   "id": "5cecbe84",
   "metadata": {
    "ExecuteTime": {
     "end_time": "2023-12-31T15:33:31.787453700Z",
     "start_time": "2023-12-31T15:33:31.756427200Z"
    },
    "collapsed": false,
    "execution": {
     "iopub.execute_input": "2023-12-31T15:45:10.022859Z",
     "iopub.status.busy": "2023-12-31T15:45:10.022344Z",
     "iopub.status.idle": "2023-12-31T15:45:10.030336Z",
     "shell.execute_reply": "2023-12-31T15:45:10.029268Z"
    },
    "jupyter": {
     "outputs_hidden": false
    },
    "papermill": {
     "duration": 0.048535,
     "end_time": "2023-12-31T15:45:10.032524",
     "exception": false,
     "start_time": "2023-12-31T15:45:09.983989",
     "status": "completed"
    },
    "tags": []
   },
   "outputs": [],
   "source": [
    "data2.dropna(inplace=True)"
   ]
  },
  {
   "cell_type": "code",
   "execution_count": 51,
   "id": "2cac7347",
   "metadata": {
    "ExecuteTime": {
     "end_time": "2023-12-31T15:33:39.567534800Z",
     "start_time": "2023-12-31T15:33:39.347468200Z"
    },
    "collapsed": false,
    "execution": {
     "iopub.execute_input": "2023-12-31T15:45:10.106627Z",
     "iopub.status.busy": "2023-12-31T15:45:10.104960Z",
     "iopub.status.idle": "2023-12-31T15:45:11.089158Z",
     "shell.execute_reply": "2023-12-31T15:45:11.087427Z"
    },
    "jupyter": {
     "outputs_hidden": false
    },
    "papermill": {
     "duration": 1.023754,
     "end_time": "2023-12-31T15:45:11.092032",
     "exception": false,
     "start_time": "2023-12-31T15:45:10.068278",
     "status": "completed"
    },
    "tags": []
   },
   "outputs": [
    {
     "data": {
      "text/plain": [
       "<Axes: >"
      ]
     },
     "execution_count": 51,
     "metadata": {},
     "output_type": "execute_result"
    },
    {
     "data": {
      "image/png": "[encoded data removed]",
      "text/plain": [
       "<Figure size 2000x2000 with 2 Axes>"
      ]
     },
     "metadata": {},
     "output_type": "display_data"
    }
   ],
   "source": [
    "# check the correlation between features\n",
    "plt.figure(figsize=(20, 20))\n",
    "sns.heatmap(data2.corr(), annot=True, cmap='coolwarm')"
   ]
  },
  {
   "cell_type": "code",
   "execution_count": 52,
   "id": "b64655d4",
   "metadata": {
    "ExecuteTime": {
     "end_time": "2023-12-31T15:33:40.628305400Z",
     "start_time": "2023-12-31T15:33:40.551458900Z"
    },
    "collapsed": false,
    "execution": {
     "iopub.execute_input": "2023-12-31T15:45:11.169229Z",
     "iopub.status.busy": "2023-12-31T15:45:11.168831Z",
     "iopub.status.idle": "2023-12-31T15:45:11.179996Z",
     "shell.execute_reply": "2023-12-31T15:45:11.178303Z"
    },
    "jupyter": {
     "outputs_hidden": false
    },
    "papermill": {
     "duration": 0.05368,
     "end_time": "2023-12-31T15:45:11.183006",
     "exception": false,
     "start_time": "2023-12-31T15:45:11.129326",
     "status": "completed"
    },
    "tags": []
   },
   "outputs": [
    {
     "data": {
      "text/plain": [
       "RI    0\n",
       "Na    0\n",
       "Mg    0\n",
       "Al    0\n",
       "Si    0\n",
       "K     0\n",
       "Ca    0\n",
       "Ba    0\n",
       "Fe    0\n",
       "dtype: int64"
      ]
     },
     "execution_count": 52,
     "metadata": {},
     "output_type": "execute_result"
    }
   ],
   "source": [
    "data2.isnull().sum()"
   ]
  },
  {
   "cell_type": "code",
   "execution_count": 53,
   "id": "fceb302e",
   "metadata": {
    "ExecuteTime": {
     "end_time": "2023-12-31T15:33:46.667386400Z",
     "start_time": "2023-12-31T15:33:46.467296500Z"
    },
    "collapsed": false,
    "execution": {
     "iopub.execute_input": "2023-12-31T15:45:11.259999Z",
     "iopub.status.busy": "2023-12-31T15:45:11.259580Z",
     "iopub.status.idle": "2023-12-31T15:45:11.266778Z",
     "shell.execute_reply": "2023-12-31T15:45:11.265681Z"
    },
    "jupyter": {
     "outputs_hidden": false
    },
    "papermill": {
     "duration": 0.04839,
     "end_time": "2023-12-31T15:45:11.268993",
     "exception": false,
     "start_time": "2023-12-31T15:45:11.220603",
     "status": "completed"
    },
    "tags": []
   },
   "outputs": [
    {
     "data": {
      "text/plain": [
       "(214, 9)"
      ]
     },
     "execution_count": 53,
     "metadata": {},
     "output_type": "execute_result"
    }
   ],
   "source": [
    "data2.shape"
   ]
  },
  {
   "cell_type": "code",
   "execution_count": 54,
   "id": "50057ed2",
   "metadata": {
    "ExecuteTime": {
     "end_time": "2023-12-31T15:33:46.697439400Z",
     "start_time": "2023-12-31T15:33:46.645335400Z"
    },
    "collapsed": false,
    "execution": {
     "iopub.execute_input": "2023-12-31T15:45:11.346016Z",
     "iopub.status.busy": "2023-12-31T15:45:11.345403Z",
     "iopub.status.idle": "2023-12-31T15:45:11.352179Z",
     "shell.execute_reply": "2023-12-31T15:45:11.350258Z"
    },
    "jupyter": {
     "outputs_hidden": false
    },
    "papermill": {
     "duration": 0.048932,
     "end_time": "2023-12-31T15:45:11.354961",
     "exception": false,
     "start_time": "2023-12-31T15:45:11.306029",
     "status": "completed"
    },
    "tags": []
   },
   "outputs": [],
   "source": [
    "data2 = data2.astype(np.float32)"
   ]
  },
  {
   "cell_type": "code",
   "execution_count": 55,
   "id": "eeccfa67",
   "metadata": {
    "ExecuteTime": {
     "end_time": "2023-12-31T15:33:46.769478700Z",
     "start_time": "2023-12-31T15:33:46.699439200Z"
    },
    "collapsed": false,
    "execution": {
     "iopub.execute_input": "2023-12-31T15:45:11.432466Z",
     "iopub.status.busy": "2023-12-31T15:45:11.431945Z",
     "iopub.status.idle": "2023-12-31T15:45:11.437284Z",
     "shell.execute_reply": "2023-12-31T15:45:11.435978Z"
    },
    "jupyter": {
     "outputs_hidden": false
    },
    "papermill": {
     "duration": 0.047552,
     "end_time": "2023-12-31T15:45:11.439811",
     "exception": false,
     "start_time": "2023-12-31T15:45:11.392259",
     "status": "completed"
    },
    "tags": []
   },
   "outputs": [],
   "source": [
    "data2 = np.array(data2)"
   ]
  },
  {
   "cell_type": "code",
   "execution_count": 56,
   "id": "baac28cc",
   "metadata": {
    "ExecuteTime": {
     "end_time": "2023-12-31T15:33:46.829173500Z",
     "start_time": "2023-12-31T15:33:46.749962100Z"
    },
    "collapsed": false,
    "execution": {
     "iopub.execute_input": "2023-12-31T15:45:11.516245Z",
     "iopub.status.busy": "2023-12-31T15:45:11.515763Z",
     "iopub.status.idle": "2023-12-31T15:45:11.523201Z",
     "shell.execute_reply": "2023-12-31T15:45:11.521855Z"
    },
    "jupyter": {
     "outputs_hidden": false
    },
    "papermill": {
     "duration": 0.049115,
     "end_time": "2023-12-31T15:45:11.525975",
     "exception": false,
     "start_time": "2023-12-31T15:45:11.476860",
     "status": "completed"
    },
    "tags": []
   },
   "outputs": [],
   "source": [
    "scaler = MinMaxScaler()\n",
    "X_centered2 = scaler.fit_transform(data2)"
   ]
  },
  {
   "cell_type": "code",
   "execution_count": 57,
   "id": "1ec81a21",
   "metadata": {
    "ExecuteTime": {
     "end_time": "2023-12-31T15:33:46.972032300Z",
     "start_time": "2023-12-31T15:33:46.812063300Z"
    },
    "collapsed": false,
    "execution": {
     "iopub.execute_input": "2023-12-31T15:45:11.614631Z",
     "iopub.status.busy": "2023-12-31T15:45:11.614069Z",
     "iopub.status.idle": "2023-12-31T15:45:11.996296Z",
     "shell.execute_reply": "2023-12-31T15:45:11.994726Z"
    },
    "jupyter": {
     "outputs_hidden": false
    },
    "papermill": {
     "duration": 0.430943,
     "end_time": "2023-12-31T15:45:11.999008",
     "exception": false,
     "start_time": "2023-12-31T15:45:11.568065",
     "status": "completed"
    },
    "tags": []
   },
   "outputs": [],
   "source": [
    "num_clusters = 7\n",
    "fuzziness = 2\n",
    "membership_matrix, centroids = fuzzy_c_means(data2, num_clusters, fuzziness)"
   ]
  },
  {
   "cell_type": "code",
   "execution_count": 58,
   "id": "c832af92",
   "metadata": {
    "ExecuteTime": {
     "end_time": "2023-12-31T15:33:46.974033400Z",
     "start_time": "2023-12-31T15:33:46.937281900Z"
    },
    "collapsed": false,
    "execution": {
     "iopub.execute_input": "2023-12-31T15:45:12.078125Z",
     "iopub.status.busy": "2023-12-31T15:45:12.077738Z",
     "iopub.status.idle": "2023-12-31T15:45:12.086205Z",
     "shell.execute_reply": "2023-12-31T15:45:12.084702Z"
    },
    "jupyter": {
     "outputs_hidden": false
    },
    "papermill": {
     "duration": 0.050279,
     "end_time": "2023-12-31T15:45:12.088682",
     "exception": false,
     "start_time": "2023-12-31T15:45:12.038403",
     "status": "completed"
    },
    "tags": []
   },
   "outputs": [
    {
     "data": {
      "text/plain": [
       "array([[0.03497299, 0.03497279, 0.2866997 , ..., 0.03497196, 0.03501853,\n",
       "        0.28670031],\n",
       "       [0.02188619, 0.02188586, 0.30416612, ..., 0.02188847, 0.02181185,\n",
       "        0.30416641],\n",
       "       [0.02002928, 0.02002904, 0.30664066, ..., 0.02003181, 0.01995758,\n",
       "        0.30664087],\n",
       "       ...,\n",
       "       [0.21059292, 0.21059299, 0.05257856, ..., 0.21059523, 0.21041208,\n",
       "        0.05257819],\n",
       "       [0.21078909, 0.21078916, 0.05231676, ..., 0.21079136, 0.21060997,\n",
       "        0.05231637],\n",
       "       [0.21483843, 0.21483853, 0.04691783, ..., 0.21484047, 0.21466269,\n",
       "        0.04691747]])"
      ]
     },
     "execution_count": 58,
     "metadata": {},
     "output_type": "execute_result"
    }
   ],
   "source": [
    "# Final Membership Matrix:\n",
    "membership_matrix"
   ]
  },
  {
   "cell_type": "code",
   "execution_count": 59,
   "id": "5674a703",
   "metadata": {
    "ExecuteTime": {
     "end_time": "2023-12-31T15:33:46.990658200Z",
     "start_time": "2023-12-31T15:33:46.940509300Z"
    },
    "collapsed": false,
    "execution": {
     "iopub.execute_input": "2023-12-31T15:45:12.166545Z",
     "iopub.status.busy": "2023-12-31T15:45:12.166042Z",
     "iopub.status.idle": "2023-12-31T15:45:12.175039Z",
     "shell.execute_reply": "2023-12-31T15:45:12.173471Z"
    },
    "jupyter": {
     "outputs_hidden": false
    },
    "papermill": {
     "duration": 0.052336,
     "end_time": "2023-12-31T15:45:12.178455",
     "exception": false,
     "start_time": "2023-12-31T15:45:12.126119",
     "status": "completed"
    },
    "tags": []
   },
   "outputs": [
    {
     "data": {
      "text/plain": [
       "array([[1.51798239e+00, 1.32412918e+01, 3.38878185e+00, 1.33471316e+00,\n",
       "        7.26478366e+01, 5.38349564e-01, 8.60200887e+00, 4.78722890e-02,\n",
       "        6.10355710e-02],\n",
       "       [1.51798238e+00, 1.32412975e+01, 3.38878474e+00, 1.33471325e+00,\n",
       "        7.26478346e+01, 5.38348043e-01, 8.60200375e+00, 4.78727056e-02,\n",
       "        6.10353455e-02],\n",
       "       [1.51886360e+00, 1.39502905e+01, 4.38312583e-01, 1.86108694e+00,\n",
       "        7.28523846e+01, 2.87191883e-01, 9.92065306e+00, 5.56240871e-01,\n",
       "        4.10954820e-02],\n",
       "       [1.51886593e+00, 1.39497302e+01, 4.38717673e-01, 1.86075502e+00,\n",
       "        7.28520751e+01, 2.87181445e-01, 9.92182932e+00, 5.55825879e-01,\n",
       "        4.11228536e-02],\n",
       "       [1.51798253e+00, 1.32412770e+01, 3.38878981e+00, 1.33469578e+00,\n",
       "        7.26478188e+01, 5.38340787e-01, 8.60207018e+00, 4.78619183e-02,\n",
       "        6.10369341e-02],\n",
       "       [1.51797868e+00, 1.32425016e+01, 3.38762233e+00, 1.33532351e+00,\n",
       "        7.26482267e+01, 5.38431391e-01, 8.60035755e+00, 4.84527326e-02,\n",
       "        6.09569339e-02],\n",
       "       [1.51886359e+00, 1.39502907e+01, 4.38307833e-01, 1.86108944e+00,\n",
       "        7.28523891e+01, 2.87192567e-01, 9.92064789e+00, 5.56242950e-01,\n",
       "        4.10954005e-02]])"
      ]
     },
     "execution_count": 59,
     "metadata": {},
     "output_type": "execute_result"
    }
   ],
   "source": [
    "# Final Centroids:\n",
    "centroids"
   ]
  },
  {
   "cell_type": "code",
   "execution_count": 60,
   "id": "0ff9dfc0",
   "metadata": {
    "ExecuteTime": {
     "end_time": "2023-12-31T15:33:46.993165800Z",
     "start_time": "2023-12-31T15:33:46.946508700Z"
    },
    "collapsed": false,
    "execution": {
     "iopub.execute_input": "2023-12-31T15:45:12.267822Z",
     "iopub.status.busy": "2023-12-31T15:45:12.267325Z",
     "iopub.status.idle": "2023-12-31T15:45:12.275115Z",
     "shell.execute_reply": "2023-12-31T15:45:12.274147Z"
    },
    "jupyter": {
     "outputs_hidden": false
    },
    "papermill": {
     "duration": 0.056949,
     "end_time": "2023-12-31T15:45:12.277213",
     "exception": false,
     "start_time": "2023-12-31T15:45:12.220264",
     "status": "completed"
    },
    "tags": []
   },
   "outputs": [
    {
     "data": {
      "text/plain": [
       "((214, 7), (7, 9))"
      ]
     },
     "execution_count": 60,
     "metadata": {},
     "output_type": "execute_result"
    }
   ],
   "source": [
    "membership_matrix.shape, centroids.shape"
   ]
  },
  {
   "cell_type": "markdown",
   "id": "5be9df6b",
   "metadata": {
    "papermill": {
     "duration": 0.037123,
     "end_time": "2023-12-31T15:45:12.351947",
     "exception": false,
     "start_time": "2023-12-31T15:45:12.314824",
     "status": "completed"
    },
    "tags": []
   },
   "source": [
    "# Applying PCA from Scratch"
   ]
  },
  {
   "cell_type": "code",
   "execution_count": 61,
   "id": "fff5bfa2",
   "metadata": {
    "ExecuteTime": {
     "end_time": "2023-12-31T15:33:47.019245200Z",
     "start_time": "2023-12-31T15:33:46.976032900Z"
    },
    "collapsed": false,
    "execution": {
     "iopub.execute_input": "2023-12-31T15:45:12.429671Z",
     "iopub.status.busy": "2023-12-31T15:45:12.428521Z",
     "iopub.status.idle": "2023-12-31T15:45:12.435000Z",
     "shell.execute_reply": "2023-12-31T15:45:12.433715Z"
    },
    "jupyter": {
     "outputs_hidden": false
    },
    "papermill": {
     "duration": 0.04814,
     "end_time": "2023-12-31T15:45:12.437317",
     "exception": false,
     "start_time": "2023-12-31T15:45:12.389177",
     "status": "completed"
    },
    "tags": []
   },
   "outputs": [],
   "source": [
    "covariance_matrix = np.dot(X_centered2.T, X_centered2) / len(X_centered2)"
   ]
  },
  {
   "cell_type": "code",
   "execution_count": 62,
   "id": "b6166cd2",
   "metadata": {
    "ExecuteTime": {
     "end_time": "2023-12-31T15:33:47.138837300Z",
     "start_time": "2023-12-31T15:33:47.019245200Z"
    },
    "collapsed": false,
    "execution": {
     "iopub.execute_input": "2023-12-31T15:45:12.515125Z",
     "iopub.status.busy": "2023-12-31T15:45:12.513580Z",
     "iopub.status.idle": "2023-12-31T15:45:12.825369Z",
     "shell.execute_reply": "2023-12-31T15:45:12.823748Z"
    },
    "jupyter": {
     "outputs_hidden": false
    },
    "papermill": {
     "duration": 0.354134,
     "end_time": "2023-12-31T15:45:12.828804",
     "exception": false,
     "start_time": "2023-12-31T15:45:12.474670",
     "status": "completed"
    },
    "tags": []
   },
   "outputs": [
    {
     "data": {
      "text/plain": [
       "<matplotlib.collections.PathCollection at 0x7f829f91b520>"
      ]
     },
     "execution_count": 62,
     "metadata": {},
     "output_type": "execute_result"
    },
    {
     "data": {
      "image/png": "[encoded data removed]",
      "text/plain": [
       "<Figure size 640x480 with 1 Axes>"
      ]
     },
     "metadata": {},
     "output_type": "display_data"
    }
   ],
   "source": [
    "plt.scatter(X_centered2[:, 0], X_centered2[:, 1])"
   ]
  },
  {
   "cell_type": "code",
   "execution_count": 63,
   "id": "ed56e094",
   "metadata": {
    "ExecuteTime": {
     "end_time": "2023-12-31T15:33:47.213215600Z",
     "start_time": "2023-12-31T15:33:47.115474200Z"
    },
    "collapsed": false,
    "execution": {
     "iopub.execute_input": "2023-12-31T15:45:12.921757Z",
     "iopub.status.busy": "2023-12-31T15:45:12.921332Z",
     "iopub.status.idle": "2023-12-31T15:45:12.929513Z",
     "shell.execute_reply": "2023-12-31T15:45:12.928703Z"
    },
    "jupyter": {
     "outputs_hidden": false
    },
    "papermill": {
     "duration": 0.05776,
     "end_time": "2023-12-31T15:45:12.932318",
     "exception": false,
     "start_time": "2023-12-31T15:45:12.874558",
     "status": "completed"
    },
    "tags": []
   },
   "outputs": [
    {
     "data": {
      "text/plain": [
       "1.1499658"
      ]
     },
     "execution_count": 63,
     "metadata": {},
     "output_type": "execute_result"
    }
   ],
   "source": [
    "eigenvalues, eigenvectors = np.linalg.eig(covariance_matrix)\n",
    "eigenvalues.max()"
   ]
  },
  {
   "cell_type": "code",
   "execution_count": 64,
   "id": "a776d4c9",
   "metadata": {
    "ExecuteTime": {
     "end_time": "2023-12-31T15:33:47.285822800Z",
     "start_time": "2023-12-31T15:33:47.143345600Z"
    },
    "collapsed": false,
    "execution": {
     "iopub.execute_input": "2023-12-31T15:45:13.015577Z",
     "iopub.status.busy": "2023-12-31T15:45:13.014800Z",
     "iopub.status.idle": "2023-12-31T15:45:13.022267Z",
     "shell.execute_reply": "2023-12-31T15:45:13.020914Z"
    },
    "jupyter": {
     "outputs_hidden": false
    },
    "papermill": {
     "duration": 0.053248,
     "end_time": "2023-12-31T15:45:13.024735",
     "exception": false,
     "start_time": "2023-12-31T15:45:12.971487",
     "status": "completed"
    },
    "tags": []
   },
   "outputs": [
    {
     "data": {
      "text/plain": [
       "array([-0.29158032, -0.13247676, -0.5209345 ,  0.2595823 , -0.29362926,\n",
       "        0.6650884 ,  0.10699563, -0.10881092, -0.0826223 ], dtype=float32)"
      ]
     },
     "execution_count": 64,
     "metadata": {},
     "output_type": "execute_result"
    }
   ],
   "source": [
    "eigenvectors[eigenvalues.argmax()]"
   ]
  },
  {
   "cell_type": "code",
   "execution_count": 65,
   "id": "66f5f994",
   "metadata": {
    "ExecuteTime": {
     "end_time": "2023-12-31T15:33:47.385946800Z",
     "start_time": "2023-12-31T15:33:47.216216600Z"
    },
    "collapsed": false,
    "execution": {
     "iopub.execute_input": "2023-12-31T15:45:13.103902Z",
     "iopub.status.busy": "2023-12-31T15:45:13.102994Z",
     "iopub.status.idle": "2023-12-31T15:45:13.110766Z",
     "shell.execute_reply": "2023-12-31T15:45:13.108928Z"
    },
    "jupyter": {
     "outputs_hidden": false
    },
    "papermill": {
     "duration": 0.050427,
     "end_time": "2023-12-31T15:45:13.113270",
     "exception": false,
     "start_time": "2023-12-31T15:45:13.062843",
     "status": "completed"
    },
    "tags": []
   },
   "outputs": [
    {
     "name": "stdout",
     "output_type": "stream",
     "text": [
      "Matrix Q:\n",
      "(9, 9)\n"
     ]
    }
   ],
   "source": [
    "# Normalize eigenvectors\n",
    "#normalized_eigenvectors = eigenvectors / np.linalg.norm(eigenvectors, axis=0)\n",
    "normalized_eigenvectors = eigenvectors / np.sqrt(np.sum(eigenvectors ** 2, axis=0))\n",
    "\n",
    "# Construct matrix Q\n",
    "Q = normalized_eigenvectors\n",
    "\n",
    "# Print the resulting matrix Q\n",
    "print(f\"Matrix Q:\\n{Q.shape}\")"
   ]
  },
  {
   "cell_type": "code",
   "execution_count": 66,
   "id": "7ab4c35a",
   "metadata": {
    "ExecuteTime": {
     "end_time": "2023-12-31T15:33:47.475312300Z",
     "start_time": "2023-12-31T15:33:47.388455300Z"
    },
    "collapsed": false,
    "execution": {
     "iopub.execute_input": "2023-12-31T15:45:13.193165Z",
     "iopub.status.busy": "2023-12-31T15:45:13.192713Z",
     "iopub.status.idle": "2023-12-31T15:45:13.201101Z",
     "shell.execute_reply": "2023-12-31T15:45:13.199651Z"
    },
    "jupyter": {
     "outputs_hidden": false
    },
    "papermill": {
     "duration": 0.052761,
     "end_time": "2023-12-31T15:45:13.204186",
     "exception": false,
     "start_time": "2023-12-31T15:45:13.151425",
     "status": "completed"
    },
    "tags": []
   },
   "outputs": [],
   "source": [
    "X_transformed = transform_data(X_centered2, Q, X_centered2.shape[1])"
   ]
  },
  {
   "cell_type": "code",
   "execution_count": 67,
   "id": "7a7a4dac",
   "metadata": {
    "ExecuteTime": {
     "end_time": "2023-12-31T15:33:47.530359600Z",
     "start_time": "2023-12-31T15:33:47.440546600Z"
    },
    "collapsed": false,
    "execution": {
     "iopub.execute_input": "2023-12-31T15:45:13.283370Z",
     "iopub.status.busy": "2023-12-31T15:45:13.282846Z",
     "iopub.status.idle": "2023-12-31T15:45:13.290892Z",
     "shell.execute_reply": "2023-12-31T15:45:13.289540Z"
    },
    "jupyter": {
     "outputs_hidden": false
    },
    "papermill": {
     "duration": 0.051386,
     "end_time": "2023-12-31T15:45:13.293925",
     "exception": false,
     "start_time": "2023-12-31T15:45:13.242539",
     "status": "completed"
    },
    "tags": []
   },
   "outputs": [
    {
     "data": {
      "text/plain": [
       "(214, 9)"
      ]
     },
     "execution_count": 67,
     "metadata": {},
     "output_type": "execute_result"
    }
   ],
   "source": [
    "X_transformed.shape"
   ]
  },
  {
   "cell_type": "code",
   "execution_count": 68,
   "id": "980416a1",
   "metadata": {
    "ExecuteTime": {
     "end_time": "2023-12-31T15:33:47.624119600Z",
     "start_time": "2023-12-31T15:33:47.503346400Z"
    },
    "collapsed": false,
    "execution": {
     "iopub.execute_input": "2023-12-31T15:45:13.385521Z",
     "iopub.status.busy": "2023-12-31T15:45:13.384152Z",
     "iopub.status.idle": "2023-12-31T15:45:13.705631Z",
     "shell.execute_reply": "2023-12-31T15:45:13.704022Z"
    },
    "jupyter": {
     "outputs_hidden": false
    },
    "papermill": {
     "duration": 0.36991,
     "end_time": "2023-12-31T15:45:13.708236",
     "exception": false,
     "start_time": "2023-12-31T15:45:13.338326",
     "status": "completed"
    },
    "tags": []
   },
   "outputs": [
    {
     "data": {
      "text/plain": [
       "<matplotlib.collections.PathCollection at 0x7f829d9ca320>"
      ]
     },
     "execution_count": 68,
     "metadata": {},
     "output_type": "execute_result"
    },
    {
     "data": {
      "image/png": "[encoded data removed]",
      "text/plain": [
       "<Figure size 640x480 with 1 Axes>"
      ]
     },
     "metadata": {},
     "output_type": "display_data"
    }
   ],
   "source": [
    "plt.scatter(X_transformed[:, 0], X_transformed[:, 1])"
   ]
  },
  {
   "cell_type": "code",
   "execution_count": 69,
   "id": "57856fee",
   "metadata": {
    "ExecuteTime": {
     "end_time": "2023-12-31T15:33:47.645168Z",
     "start_time": "2023-12-31T15:33:47.607072900Z"
    },
    "collapsed": false,
    "execution": {
     "iopub.execute_input": "2023-12-31T15:45:13.800037Z",
     "iopub.status.busy": "2023-12-31T15:45:13.799038Z",
     "iopub.status.idle": "2023-12-31T15:45:13.806250Z",
     "shell.execute_reply": "2023-12-31T15:45:13.804987Z"
    },
    "jupyter": {
     "outputs_hidden": false
    },
    "papermill": {
     "duration": 0.056818,
     "end_time": "2023-12-31T15:45:13.808656",
     "exception": false,
     "start_time": "2023-12-31T15:45:13.751838",
     "status": "completed"
    },
    "tags": []
   },
   "outputs": [],
   "source": [
    "X_reconstructed = inverse_transform(X_transformed, Q, X_transformed.shape[1])"
   ]
  },
  {
   "cell_type": "code",
   "execution_count": 70,
   "id": "a52b8961",
   "metadata": {
    "ExecuteTime": {
     "end_time": "2023-12-31T15:33:47.663724700Z",
     "start_time": "2023-12-31T15:33:47.610076400Z"
    },
    "collapsed": false,
    "execution": {
     "iopub.execute_input": "2023-12-31T15:45:13.891446Z",
     "iopub.status.busy": "2023-12-31T15:45:13.890658Z",
     "iopub.status.idle": "2023-12-31T15:45:13.897324Z",
     "shell.execute_reply": "2023-12-31T15:45:13.896381Z"
    },
    "jupyter": {
     "outputs_hidden": false
    },
    "papermill": {
     "duration": 0.050229,
     "end_time": "2023-12-31T15:45:13.899554",
     "exception": false,
     "start_time": "2023-12-31T15:45:13.849325",
     "status": "completed"
    },
    "tags": []
   },
   "outputs": [
    {
     "data": {
      "text/plain": [
       "(214, 9)"
      ]
     },
     "execution_count": 70,
     "metadata": {},
     "output_type": "execute_result"
    }
   ],
   "source": [
    "X_reconstructed.shape"
   ]
  },
  {
   "cell_type": "code",
   "execution_count": 71,
   "id": "0f4a4739",
   "metadata": {
    "ExecuteTime": {
     "end_time": "2023-12-31T15:33:47.829669800Z",
     "start_time": "2023-12-31T15:33:47.622120700Z"
    },
    "collapsed": false,
    "execution": {
     "iopub.execute_input": "2023-12-31T15:45:13.980654Z",
     "iopub.status.busy": "2023-12-31T15:45:13.979868Z",
     "iopub.status.idle": "2023-12-31T15:45:14.295457Z",
     "shell.execute_reply": "2023-12-31T15:45:14.293974Z"
    },
    "jupyter": {
     "outputs_hidden": false
    },
    "papermill": {
     "duration": 0.359311,
     "end_time": "2023-12-31T15:45:14.298027",
     "exception": false,
     "start_time": "2023-12-31T15:45:13.938716",
     "status": "completed"
    },
    "tags": []
   },
   "outputs": [
    {
     "data": {
      "text/plain": [
       "<matplotlib.collections.PathCollection at 0x7f829d761300>"
      ]
     },
     "execution_count": 71,
     "metadata": {},
     "output_type": "execute_result"
    },
    {
     "data": {
      "image/png": "[encoded data removed]",
      "text/plain": [
       "<Figure size 640x480 with 1 Axes>"
      ]
     },
     "metadata": {},
     "output_type": "display_data"
    }
   ],
   "source": [
    "plt.scatter(X_reconstructed[:, 0], X_reconstructed[:, 1])"
   ]
  },
  {
   "cell_type": "code",
   "execution_count": 72,
   "id": "a61d2938",
   "metadata": {
    "ExecuteTime": {
     "end_time": "2023-12-31T15:33:47.832173800Z",
     "start_time": "2023-12-31T15:33:47.815919800Z"
    },
    "collapsed": false,
    "execution": {
     "iopub.execute_input": "2023-12-31T15:45:14.382888Z",
     "iopub.status.busy": "2023-12-31T15:45:14.381934Z",
     "iopub.status.idle": "2023-12-31T15:45:14.396375Z",
     "shell.execute_reply": "2023-12-31T15:45:14.394674Z"
    },
    "jupyter": {
     "outputs_hidden": false
    },
    "papermill": {
     "duration": 0.059446,
     "end_time": "2023-12-31T15:45:14.398765",
     "exception": false,
     "start_time": "2023-12-31T15:45:14.339319",
     "status": "completed"
    },
    "tags": []
   },
   "outputs": [
    {
     "name": "stdout",
     "output_type": "stream",
     "text": [
      "k:1, reconstruction_error:15.222224235534668\n",
      "k:2, reconstruction_error:14.534427642822266\n",
      "k:3, reconstruction_error:14.187177658081055\n",
      "k:4, reconstruction_error:13.968324661254883\n",
      "k:5, reconstruction_error:13.780242919921875\n",
      "k:6, reconstruction_error:13.773645401000977\n",
      "k:7, reconstruction_error:13.731341361999512\n",
      "k:8, reconstruction_error:13.644488334655762\n",
      "Best Q matrix (for the best k=8):\n",
      "\n",
      "Reconstruction Error with the Best Q matrix:\n",
      "13.644488\n"
     ]
    }
   ],
   "source": [
    "k_values = range(1, data2.shape[1])\n",
    "\n",
    "# Initialize variables for tracking the best result\n",
    "best_reconstruction_error = np.inf\n",
    "best_Q_matrix = None\n",
    "best_k = None\n",
    "\n",
    "# Experiment with different numbers of retained components\n",
    "for k in k_values:\n",
    "    # Select the top 'k' normalized eigenvectors\n",
    "    selected_eigenvectors_Q_matrix = normalized_eigenvectors[:, :k]\n",
    "    F_prime2 = np.dot(selected_eigenvectors_Q_matrix.T, X_centered2.T).T\n",
    "\n",
    "    # Compute the inverse of Q (Q^-1)\n",
    "    Q_inverse = selected_eigenvectors_Q_matrix  # Because Q^-1 = Q^T for an orthogonal matrix\n",
    "\n",
    "    reconstructed_F = np.dot(Q_inverse, F_prime2.T) + np.mean(X_centered2, axis=1, keepdims=True).T\n",
    "    reconstructed_F = reconstructed_F.T\n",
    "    # Compute the reconstruction error\n",
    "    reconstruction_error = np.linalg.norm(X_centered2 - reconstructed_F, 'fro')\n",
    "\n",
    "    # Update the best result if needed\n",
    "    if reconstruction_error < best_reconstruction_error:\n",
    "        best_reconstruction_error = reconstruction_error\n",
    "        best_Q_matrix = selected_eigenvectors_Q_matrix\n",
    "        best_k = k\n",
    "        print(f'k:{k}, reconstruction_error:{reconstruction_error}')\n",
    "\n",
    "# Report the best Q matrix, best k, and reconstruction error\n",
    "print(\"Best Q matrix (for the best k={0}):\".format(best_k))\n",
    "#print(best_Q_matrix)\n",
    "\n",
    "print(\"\\nReconstruction Error with the Best Q matrix:\")\n",
    "print(best_reconstruction_error)"
   ]
  },
  {
   "cell_type": "code",
   "execution_count": 73,
   "id": "e192f88b",
   "metadata": {
    "ExecuteTime": {
     "end_time": "2023-12-31T15:33:47.898534100Z",
     "start_time": "2023-12-31T15:33:47.829669800Z"
    },
    "collapsed": false,
    "execution": {
     "iopub.execute_input": "2023-12-31T15:45:14.481391Z",
     "iopub.status.busy": "2023-12-31T15:45:14.480567Z",
     "iopub.status.idle": "2023-12-31T15:45:14.487633Z",
     "shell.execute_reply": "2023-12-31T15:45:14.486174Z"
    },
    "jupyter": {
     "outputs_hidden": false
    },
    "papermill": {
     "duration": 0.051024,
     "end_time": "2023-12-31T15:45:14.489978",
     "exception": false,
     "start_time": "2023-12-31T15:45:14.438954",
     "status": "completed"
    },
    "tags": []
   },
   "outputs": [
    {
     "data": {
      "text/plain": [
       "(9, 8)"
      ]
     },
     "execution_count": 73,
     "metadata": {},
     "output_type": "execute_result"
    }
   ],
   "source": [
    "best_Q_matrix.shape"
   ]
  },
  {
   "cell_type": "code",
   "execution_count": 74,
   "id": "7d04f552",
   "metadata": {
    "ExecuteTime": {
     "end_time": "2023-12-31T15:33:47.915531Z",
     "start_time": "2023-12-31T15:33:47.833177600Z"
    },
    "collapsed": false,
    "execution": {
     "iopub.execute_input": "2023-12-31T15:45:14.572759Z",
     "iopub.status.busy": "2023-12-31T15:45:14.571287Z",
     "iopub.status.idle": "2023-12-31T15:45:14.577947Z",
     "shell.execute_reply": "2023-12-31T15:45:14.576832Z"
    },
    "jupyter": {
     "outputs_hidden": false
    },
    "papermill": {
     "duration": 0.050318,
     "end_time": "2023-12-31T15:45:14.580133",
     "exception": false,
     "start_time": "2023-12-31T15:45:14.529815",
     "status": "completed"
    },
    "tags": []
   },
   "outputs": [],
   "source": [
    "# Specify the number of components to retain\n",
    "k = 8  # Set the desired number of components here\n",
    "\n",
    "# Select the top 'k' normalized eigenvectors\n",
    "selected_eigenvectors_Q_matrix = normalized_eigenvectors[:, :k]\n",
    "\n",
    "# Step 3: Compute the transformed matrix Q^T * F_c\n",
    "F_prime2 = np.dot(selected_eigenvectors_Q_matrix.T, X_centered2.T).T"
   ]
  },
  {
   "cell_type": "code",
   "execution_count": 75,
   "id": "54aeac30",
   "metadata": {
    "ExecuteTime": {
     "end_time": "2023-12-31T15:33:47.918037200Z",
     "start_time": "2023-12-31T15:33:47.843444200Z"
    },
    "collapsed": false,
    "execution": {
     "iopub.execute_input": "2023-12-31T15:45:14.662976Z",
     "iopub.status.busy": "2023-12-31T15:45:14.662072Z",
     "iopub.status.idle": "2023-12-31T15:45:14.670566Z",
     "shell.execute_reply": "2023-12-31T15:45:14.669658Z"
    },
    "jupyter": {
     "outputs_hidden": false
    },
    "papermill": {
     "duration": 0.052157,
     "end_time": "2023-12-31T15:45:14.672629",
     "exception": false,
     "start_time": "2023-12-31T15:45:14.620472",
     "status": "completed"
    },
    "tags": []
   },
   "outputs": [
    {
     "data": {
      "text/plain": [
       "(214, 8)"
      ]
     },
     "execution_count": 75,
     "metadata": {},
     "output_type": "execute_result"
    }
   ],
   "source": [
    "F_prime2.shape  # number of samples x reduced festure"
   ]
  },
  {
   "cell_type": "code",
   "execution_count": 76,
   "id": "93e5b211",
   "metadata": {
    "ExecuteTime": {
     "end_time": "2023-12-31T15:33:47.952050200Z",
     "start_time": "2023-12-31T15:33:47.853448900Z"
    },
    "collapsed": false,
    "execution": {
     "iopub.execute_input": "2023-12-31T15:45:14.755408Z",
     "iopub.status.busy": "2023-12-31T15:45:14.754676Z",
     "iopub.status.idle": "2023-12-31T15:45:14.761274Z",
     "shell.execute_reply": "2023-12-31T15:45:14.759667Z"
    },
    "jupyter": {
     "outputs_hidden": false
    },
    "papermill": {
     "duration": 0.051436,
     "end_time": "2023-12-31T15:45:14.763754",
     "exception": false,
     "start_time": "2023-12-31T15:45:14.712318",
     "status": "completed"
    },
    "tags": []
   },
   "outputs": [],
   "source": [
    "Q_inverse = selected_eigenvectors_Q_matrix  # Because Q^-1 = Q^T for an orthogonal matrix\n",
    "\n",
    "# Step 2: Reconstruct the original matrix F\n",
    "reconstructed_F = np.dot(Q_inverse, F_prime2.T) + np.mean(X_centered2, axis=1, keepdims=True).T\n",
    "reconstructed_F = reconstructed_F.T"
   ]
  },
  {
   "cell_type": "code",
   "execution_count": 77,
   "id": "7f1c5247",
   "metadata": {
    "ExecuteTime": {
     "end_time": "2023-12-31T15:33:47.995291Z",
     "start_time": "2023-12-31T15:33:47.901533Z"
    },
    "collapsed": false,
    "execution": {
     "iopub.execute_input": "2023-12-31T15:45:14.847545Z",
     "iopub.status.busy": "2023-12-31T15:45:14.846688Z",
     "iopub.status.idle": "2023-12-31T15:45:14.853197Z",
     "shell.execute_reply": "2023-12-31T15:45:14.852078Z"
    },
    "jupyter": {
     "outputs_hidden": false
    },
    "papermill": {
     "duration": 0.051738,
     "end_time": "2023-12-31T15:45:14.855484",
     "exception": false,
     "start_time": "2023-12-31T15:45:14.803746",
     "status": "completed"
    },
    "tags": []
   },
   "outputs": [
    {
     "data": {
      "text/plain": [
       "(9, 8)"
      ]
     },
     "execution_count": 77,
     "metadata": {},
     "output_type": "execute_result"
    }
   ],
   "source": [
    "Q_inverse.shape"
   ]
  },
  {
   "cell_type": "code",
   "execution_count": 78,
   "id": "76f72c12",
   "metadata": {
    "ExecuteTime": {
     "end_time": "2023-12-31T15:33:48.061468100Z",
     "start_time": "2023-12-31T15:33:47.978766100Z"
    },
    "collapsed": false,
    "execution": {
     "iopub.execute_input": "2023-12-31T15:45:14.938362Z",
     "iopub.status.busy": "2023-12-31T15:45:14.937464Z",
     "iopub.status.idle": "2023-12-31T15:45:14.944655Z",
     "shell.execute_reply": "2023-12-31T15:45:14.943371Z"
    },
    "jupyter": {
     "outputs_hidden": false
    },
    "papermill": {
     "duration": 0.051769,
     "end_time": "2023-12-31T15:45:14.947142",
     "exception": false,
     "start_time": "2023-12-31T15:45:14.895373",
     "status": "completed"
    },
    "tags": []
   },
   "outputs": [
    {
     "data": {
      "text/plain": [
       "(214, 9)"
      ]
     },
     "execution_count": 78,
     "metadata": {},
     "output_type": "execute_result"
    }
   ],
   "source": [
    "reconstructed_F.shape"
   ]
  },
  {
   "cell_type": "code",
   "execution_count": 79,
   "id": "c4ed8ab4",
   "metadata": {
    "ExecuteTime": {
     "end_time": "2023-12-31T15:33:48.172414400Z",
     "start_time": "2023-12-31T15:33:48.049462200Z"
    },
    "collapsed": false,
    "execution": {
     "iopub.execute_input": "2023-12-31T15:45:15.032561Z",
     "iopub.status.busy": "2023-12-31T15:45:15.031968Z",
     "iopub.status.idle": "2023-12-31T15:45:15.425545Z",
     "shell.execute_reply": "2023-12-31T15:45:15.424140Z"
    },
    "jupyter": {
     "outputs_hidden": false
    },
    "papermill": {
     "duration": 0.440938,
     "end_time": "2023-12-31T15:45:15.428586",
     "exception": false,
     "start_time": "2023-12-31T15:45:14.987648",
     "status": "completed"
    },
    "tags": []
   },
   "outputs": [],
   "source": [
    "num_clusters = 7\n",
    "fuzziness = 2\n",
    "membership_matrix, centroids = fuzzy_c_means(F_prime2, num_clusters, fuzziness)"
   ]
  },
  {
   "cell_type": "code",
   "execution_count": 80,
   "id": "d7e7e338",
   "metadata": {
    "ExecuteTime": {
     "end_time": "2023-12-31T15:33:48.177923900Z",
     "start_time": "2023-12-31T15:33:48.173413400Z"
    },
    "collapsed": false,
    "execution": {
     "iopub.execute_input": "2023-12-31T15:45:15.512527Z",
     "iopub.status.busy": "2023-12-31T15:45:15.512061Z",
     "iopub.status.idle": "2023-12-31T15:45:15.520171Z",
     "shell.execute_reply": "2023-12-31T15:45:15.518850Z"
    },
    "jupyter": {
     "outputs_hidden": false
    },
    "papermill": {
     "duration": 0.052827,
     "end_time": "2023-12-31T15:45:15.522560",
     "exception": false,
     "start_time": "2023-12-31T15:45:15.469733",
     "status": "completed"
    },
    "tags": []
   },
   "outputs": [
    {
     "data": {
      "text/plain": [
       "array([[0.28603598, 0.03547508, 0.28591239, ..., 0.0354707 , 0.28591023,\n",
       "        0.03572859],\n",
       "       [0.31370354, 0.01467714, 0.3137294 , ..., 0.0146729 , 0.31372854,\n",
       "        0.01482008],\n",
       "       [0.3071554 , 0.01955407, 0.30724028, ..., 0.0195478 , 0.30724048,\n",
       "        0.01972062],\n",
       "       ...,\n",
       "       [0.03256052, 0.22573927, 0.0326949 , ..., 0.22576225, 0.03269555,\n",
       "        0.22476685],\n",
       "       [0.02961689, 0.22792185, 0.02980116, ..., 0.22794378, 0.0298024 ,\n",
       "        0.22695286],\n",
       "       [0.0321385 , 0.22603117, 0.03231237, ..., 0.22605278, 0.03231357,\n",
       "        0.22508175]])"
      ]
     },
     "execution_count": 80,
     "metadata": {},
     "output_type": "execute_result"
    }
   ],
   "source": [
    "# Final Membership Matrix:\n",
    "membership_matrix"
   ]
  },
  {
   "cell_type": "code",
   "execution_count": 81,
   "id": "fa5a8cb0",
   "metadata": {
    "ExecuteTime": {
     "end_time": "2023-12-31T15:33:48.194444400Z",
     "start_time": "2023-12-31T15:33:48.177923900Z"
    },
    "collapsed": false,
    "execution": {
     "iopub.execute_input": "2023-12-31T15:45:15.605638Z",
     "iopub.status.busy": "2023-12-31T15:45:15.605129Z",
     "iopub.status.idle": "2023-12-31T15:45:15.613126Z",
     "shell.execute_reply": "2023-12-31T15:45:15.611854Z"
    },
    "jupyter": {
     "outputs_hidden": false
    },
    "papermill": {
     "duration": 0.05248,
     "end_time": "2023-12-31T15:45:15.615519",
     "exception": false,
     "start_time": "2023-12-31T15:45:15.563039",
     "status": "completed"
    },
    "tags": []
   },
   "outputs": [
    {
     "data": {
      "text/plain": [
       "array([[-8.90982701e-01, -5.58375545e-01,  7.77405446e-03,\n",
       "         1.00088221e-02,  1.29045404e-02, -1.06611827e-03,\n",
       "        -6.90890846e-03,  1.78232183e-02],\n",
       "       [-1.12189435e+00,  1.28747464e-01,  1.56276723e-02,\n",
       "         8.63001772e-03,  9.71754968e-04, -3.28595169e-04,\n",
       "         6.11075506e-04, -7.03792002e-03],\n",
       "       [-8.91082527e-01, -5.58297521e-01,  6.73280046e-03,\n",
       "         1.05143533e-02,  1.30453814e-02, -1.08101583e-03,\n",
       "        -7.44150613e-03,  1.82487491e-02],\n",
       "       [-1.12193212e+00,  1.28837874e-01,  1.56834649e-02,\n",
       "         8.61438739e-03,  9.92988191e-04, -3.28751249e-04,\n",
       "         5.96603586e-04, -7.04533178e-03],\n",
       "       [-1.12191512e+00,  1.28797034e-01,  1.56545255e-02,\n",
       "         8.62074176e-03,  9.84136627e-04, -3.28659651e-04,\n",
       "         6.03223660e-04, -7.04171962e-03],\n",
       "       [-8.91081289e-01, -5.58295854e-01,  6.72516721e-03,\n",
       "         1.05270197e-02,  1.30437406e-02, -1.08130934e-03,\n",
       "        -7.44156974e-03,  1.82502420e-02],\n",
       "       [-1.12108239e+00,  1.26707959e-01,  1.51086463e-02,\n",
       "         8.52754637e-03,  5.69606949e-04, -3.32976011e-04,\n",
       "         9.27092367e-04, -6.97494396e-03]])"
      ]
     },
     "execution_count": 81,
     "metadata": {},
     "output_type": "execute_result"
    }
   ],
   "source": [
    "# Final Centroids:\n",
    "centroids"
   ]
  },
  {
   "cell_type": "code",
   "execution_count": 82,
   "id": "f406cd14",
   "metadata": {
    "ExecuteTime": {
     "end_time": "2023-12-31T15:33:48.196444500Z",
     "start_time": "2023-12-31T15:33:48.181922800Z"
    },
    "collapsed": false,
    "execution": {
     "iopub.execute_input": "2023-12-31T15:45:15.699572Z",
     "iopub.status.busy": "2023-12-31T15:45:15.698338Z",
     "iopub.status.idle": "2023-12-31T15:45:15.705422Z",
     "shell.execute_reply": "2023-12-31T15:45:15.704258Z"
    },
    "jupyter": {
     "outputs_hidden": false
    },
    "papermill": {
     "duration": 0.051251,
     "end_time": "2023-12-31T15:45:15.707684",
     "exception": false,
     "start_time": "2023-12-31T15:45:15.656433",
     "status": "completed"
    },
    "tags": []
   },
   "outputs": [
    {
     "data": {
      "text/plain": [
       "((214, 7), (7, 8))"
      ]
     },
     "execution_count": 82,
     "metadata": {},
     "output_type": "execute_result"
    }
   ],
   "source": [
    "membership_matrix.shape, centroids.shape"
   ]
  },
  {
   "cell_type": "markdown",
   "id": "3e71e12b",
   "metadata": {
    "papermill": {
     "duration": 0.040159,
     "end_time": "2023-12-31T15:45:15.788236",
     "exception": false,
     "start_time": "2023-12-31T15:45:15.748077",
     "status": "completed"
    },
    "tags": []
   },
   "source": [
    "\n",
    "# Report for Phase 1\n",
    "- Input Data is 22 features and 319,795 samples\n",
    "- The Output of covariance matrix is 22x22 features (We used two different methods to compute the covariance matrix, and we obtained the same results)\n",
    "- eigenvalues are 22 eigenvalues and eigenvectors are 22x22 features (We used the built-in method and from scratch method to compute the eigenvalues and eigenvectors, and we obtained the same results)\n",
    "- We created the matrix Q by sorting the normalized eigenvectors in descending order of eigenvalues.\n",
    "- We tried different numbers of components (k), and the best result is 21. Because the reconstruction error is the lowest.\n",
    "- Best reconstruction error 1625.209 (From 5171.140 to 1625.209)\n",
    "- We transformed the original matrix [ F' = Q (F - m)] to the transformed matrix and reconstructed the transformed matrix (inverse) [F = (Q - 1 * F') + m].\n",
    "- We truncated matrix Q (take some values) from Q, then the new F length is smaller than old (Reduce dimensionality).\n",
    "- The code iterates over different numbers of retained components (k_values) and reconstructs the data using the selected principal components. The reconstruction error is computed for each iteration.\n",
    "- Best Results The best results are reported based on the minimum reconstruction error. The optimal number of retained components (best_k), the corresponding Q matrix (best_Q_matrix), and the minimum reconstruction error are printed.\n",
    "- This report provides insights into the analysis, including the sorted eigenvalues and eigenvectors, the normalization of eigenvectors, and the determination of the best reconstruction using PCA. The output will show the best Q matrix, the optimal number of retained components, and the associated reconstruction error.\n",
    "---\n"
   ]
  },
  {
   "cell_type": "markdown",
   "id": "1cc50c18",
   "metadata": {
    "papermill": {
     "duration": 0.041151,
     "end_time": "2023-12-31T15:45:15.869719",
     "exception": false,
     "start_time": "2023-12-31T15:45:15.828568",
     "status": "completed"
    },
    "tags": []
   },
   "source": [
    "* # Report for phase 2\n",
    "\n",
    "\n",
    "* \"When employing PCA in conjunction with Fuzzy C-means clustering, it appears that the algorithm converges more efficiently, displaying a notable improvement in convergence quality compared to using the entire (all) dataset. This observation is particularly evident when the dataset is smaller and simpler than our own.\"\n",
    "\n",
    "\n",
    "\n",
    " \n",
    "\n",
    "\n",
    "* Fuzzy C-mean (FCM): \n",
    "* Dividing the data points to set of clusters using membership function between each point in the dataset and all clusters centroids.\n",
    "* A particular data of the set may be the member of several clusters with different values of membership.\n",
    "* Input for FCM: Data , C (number of clusters)\n",
    "* Output for FCM: Mij(Membership matrix) , Cj (cluster centroid) [1 <=j<= C], [1<=i<=n]\n",
    "  \n",
    "\n",
    "* steps for Fuzzy C-mean (FCM):\n",
    "1. Assume the number of clusters to be made C. Such that: 2<=C<=N (N: # of samples)\n",
    "2. Choose an appropriate level of cluster fuzziness g  Such that: g > 1\n",
    "3. Initialize the NxC sized membership matrix [M] at random such that: (a) Mij∈ [0.0 ,1.0] and there sum should be 1\n",
    "4. Compute centroids\n",
    "5. Calculate the Euclidean distance between each data point i-th and j-th cluster center dij\n",
    "6. Update fuzzy membership matrix[M] according to dij\n",
    "7. Repeat until the changes in [M] come out to be less than some pre-specified values.\n",
    "\n",
    "\n",
    " \n",
    "\n",
    "\n",
    "\n",
    "\n"
   ]
  },
  {
   "cell_type": "markdown",
   "id": "4aab21a9",
   "metadata": {
    "papermill": {
     "duration": 0.040323,
     "end_time": "2023-12-31T15:45:15.950311",
     "exception": false,
     "start_time": "2023-12-31T15:45:15.909988",
     "status": "completed"
    },
    "tags": []
   },
   "source": [
    "## We used two datasets\n",
    "### the first one has a low correlation, so the updated membership matrix was converging very slowly (more iterations).\n",
    "### the second one has a high relative correlation, so the updated membership matrix was converging relatively fast."
   ]
  },
  {
   "cell_type": "markdown",
   "id": "83acce9b",
   "metadata": {
    "papermill": {
     "duration": 0.042768,
     "end_time": "2023-12-31T15:45:16.033363",
     "exception": false,
     "start_time": "2023-12-31T15:45:15.990595",
     "status": "completed"
    },
    "tags": []
   },
   "source": [
    "Team Member: Abdelrahman Amin (20200311) / Mohamed Hisham (20200483) / Abdelrahman Mostafa (20200827) / Yossef Mohamed (20200669) / Esraa Abdelmoneam (20201015)"
   ]
  }
 ],
 "metadata": {
  "kaggle": {
   "accelerator": "none",
   "dataSources": [
    {
     "datasetId": 738,
     "sourceId": 1370,
     "sourceType": "datasetVersion"
    },
    {
     "datasetId": 1936563,
     "sourceId": 6674905,
     "sourceType": "datasetVersion"
    }
   ],
   "isGpuEnabled": false,
   "isInternetEnabled": true,
   "language": "python",
   "sourceType": "notebook"
  },
  "kernelspec": {
   "display_name": "Python 3",
   "language": "python",
   "name": "python3"
  },
  "language_info": {
   "codemirror_mode": {
    "name": "ipython",
    "version": 3
   },
   "file_extension": ".py",
   "mimetype": "text/x-python",
   "name": "python",
   "nbconvert_exporter": "python",
   "pygments_lexer": "ipython3",
   "version": "3.10.12"
  },
  "papermill": {
   "default_parameters": {},
   "duration": 277.860054,
   "end_time": "2023-12-31T15:45:17.199569",
   "environment_variables": {},
   "exception": null,
   "input_path": "__notebook__.ipynb",
   "output_path": "__notebook__.ipynb",
   "parameters": {},
   "start_time": "2023-12-31T15:40:39.339515",
   "version": "2.4.0"
  }
 },
 "nbformat": 4,
 "nbformat_minor": 5
}
