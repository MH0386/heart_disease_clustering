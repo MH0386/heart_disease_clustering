{
 "metadata": {
  "kaggle": {
   "accelerator": "none",
   "dataSources": [
    {
     "sourceId": 6674905,
     "sourceType": "datasetVersion",
     "datasetId": 1936563
    }
   ],
   "dockerImageVersionId": 30628,
   "isInternetEnabled": true,
   "language": "python",
   "sourceType": "notebook",
   "isGpuEnabled": false
  },
  "kernelspec": {
   "display_name": "Python 3",
   "language": "python",
   "name": "python3"
  },
  "language_info": {
   "name": "python",
   "version": "3.10.12",
   "mimetype": "text/x-python",
   "codemirror_mode": {
    "name": "ipython",
    "version": 3
   },
   "pygments_lexer": "ipython3",
   "nbconvert_exporter": "python",
   "file_extension": ".py"
  },
  "papermill": {
   "default_parameters": {},
   "duration": 371.688613,
   "end_time": "2023-12-17T14:31:48.238042",
   "environment_variables": {},
   "exception": null,
   "input_path": "__notebook__.ipynb",
   "output_path": "__notebook__.ipynb",
   "parameters": {},
   "start_time": "2023-12-17T14:25:36.549429",
   "version": "2.4.0"
  }
 },
 "nbformat_minor": 5,
 "nbformat": 4,
 "cells": [
  {
   "cell_type": "code",
   "source": [
    "import os\n",
    "import matplotlib.pyplot as plt\n",
    "import numpy as np\n",
    "import pandas as pd\n",
    "import seaborn as sns"
   ],
   "metadata": {
    "papermill": {
     "duration": 12.721915,
     "end_time": "2023-12-17T14:25:52.744187",
     "exception": false,
     "start_time": "2023-12-17T14:25:40.022272",
     "status": "completed"
    },
    "tags": [],
    "execution": {
     "iopub.status.busy": "2023-12-28T17:45:34.124042Z",
     "iopub.execute_input": "2023-12-28T17:45:34.124810Z",
     "iopub.status.idle": "2023-12-28T17:45:34.531097Z",
     "shell.execute_reply.started": "2023-12-28T17:45:34.124764Z",
     "shell.execute_reply": "2023-12-28T17:45:34.529934Z"
    },
    "trusted": true,
    "ExecuteTime": {
     "end_time": "2023-12-28T20:14:12.386383Z",
     "start_time": "2023-12-28T20:13:51.511889900Z"
    }
   },
   "execution_count": 70,
   "outputs": [],
   "id": "3114a1f339663024"
  },
  {
   "cell_type": "code",
   "source": [
    "Path1ToLocal = \"heart_2020_cleaned.csv\"\n",
    "Path1ToKaggle = \"/kaggle/input/personal-key-indicators-of-heart-disease/2020/heart_2020_cleaned.csv\"\n",
    "\n",
    "Path2ToLocal = \"glass.csv\"\n",
    "Path2ToKaggle = \"/kaggle/input/uciml/glass.csv\"\n",
    "\n",
    "Path1 = Path1ToLocal if os.path.exists(Path1ToLocal) else Path1ToKaggle\n",
    "Path2 = Path2ToLocal if os.path.exists(Path2ToLocal) else Path2ToKaggle"
   ],
   "metadata": {
    "collapsed": false,
    "papermill": {
     "duration": 0.01617,
     "end_time": "2023-12-17T14:25:52.768027",
     "exception": false,
     "start_time": "2023-12-17T14:25:52.751857",
     "status": "completed"
    },
    "tags": [],
    "execution": {
     "iopub.status.busy": "2023-12-28T17:45:34.533191Z",
     "iopub.execute_input": "2023-12-28T17:45:34.533770Z",
     "iopub.status.idle": "2023-12-28T17:45:34.540474Z",
     "shell.execute_reply.started": "2023-12-28T17:45:34.533728Z",
     "shell.execute_reply": "2023-12-28T17:45:34.538400Z"
    },
    "trusted": true,
    "ExecuteTime": {
     "end_time": "2023-12-28T20:14:12.451840700Z",
     "start_time": "2023-12-28T20:14:12.364749200Z"
    }
   },
   "execution_count": 71,
   "outputs": [],
   "id": "7f0976e104f275f1"
  },
  {
   "cell_type": "code",
   "source": [
    "data1 = pd.read_csv(Path1)\n",
    "data1"
   ],
   "metadata": {
    "collapsed": false,
    "execution": {
     "iopub.status.busy": "2023-12-28T17:45:34.542248Z",
     "iopub.execute_input": "2023-12-28T17:45:34.543028Z",
     "iopub.status.idle": "2023-12-28T17:45:35.659707Z",
     "shell.execute_reply.started": "2023-12-28T17:45:34.542985Z",
     "shell.execute_reply": "2023-12-28T17:45:35.658603Z"
    },
    "trusted": true,
    "ExecuteTime": {
     "end_time": "2023-12-28T20:14:12.846590600Z",
     "start_time": "2023-12-28T20:14:12.429817500Z"
    }
   },
   "execution_count": 72,
   "outputs": [
    {
     "data": {
      "text/plain": "       HeartDisease    BMI Smoking AlcoholDrinking Stroke  PhysicalHealth  \\\n0                No  16.60     Yes              No     No               3   \n1                No  20.34      No              No    Yes               0   \n2                No  26.58     Yes              No     No              20   \n3                No  24.21      No              No     No               0   \n4                No  23.71      No              No     No              28   \n...             ...    ...     ...             ...    ...             ...   \n319790          Yes  27.41     Yes              No     No               7   \n319791           No  29.84     Yes              No     No               0   \n319792           No  24.24      No              No     No               0   \n319793           No  32.81      No              No     No               0   \n319794           No  46.56      No              No     No               0   \n\n        MentalHealth DiffWalking     Sex  AgeCategory      Race Diabetic  \\\n0                 30          No  Female        55-59     White      Yes   \n1                  0          No  Female  80 or older     White       No   \n2                 30          No    Male        65-69     White      Yes   \n3                  0          No  Female        75-79     White       No   \n4                  0         Yes  Female        40-44     White       No   \n...              ...         ...     ...          ...       ...      ...   \n319790             0         Yes    Male        60-64  Hispanic      Yes   \n319791             0          No    Male        35-39  Hispanic       No   \n319792             0          No  Female        45-49  Hispanic       No   \n319793             0          No  Female        25-29  Hispanic       No   \n319794             0          No  Female  80 or older  Hispanic       No   \n\n       PhysicalActivity  GenHealth  SleepTime Asthma KidneyDisease SkinCancer  \n0                   Yes  Very good          5    Yes            No        Yes  \n1                   Yes  Very good          7     No            No         No  \n2                   Yes       Fair          8    Yes            No         No  \n3                    No       Good          6     No            No        Yes  \n4                   Yes  Very good          8     No            No         No  \n...                 ...        ...        ...    ...           ...        ...  \n319790               No       Fair          6    Yes            No         No  \n319791              Yes  Very good          5    Yes            No         No  \n319792              Yes       Good          6     No            No         No  \n319793               No       Good         12     No            No         No  \n319794              Yes       Good          8     No            No         No  \n\n[319795 rows x 18 columns]",
      "text/html": "<div>\n<style scoped>\n    .dataframe tbody tr th:only-of-type {\n        vertical-align: middle;\n    }\n\n    .dataframe tbody tr th {\n        vertical-align: top;\n    }\n\n    .dataframe thead th {\n        text-align: right;\n    }\n</style>\n<table border=\"1\" class=\"dataframe\">\n  <thead>\n    <tr style=\"text-align: right;\">\n      <th></th>\n      <th>HeartDisease</th>\n      <th>BMI</th>\n      <th>Smoking</th>\n      <th>AlcoholDrinking</th>\n      <th>Stroke</th>\n      <th>PhysicalHealth</th>\n      <th>MentalHealth</th>\n      <th>DiffWalking</th>\n      <th>Sex</th>\n      <th>AgeCategory</th>\n      <th>Race</th>\n      <th>Diabetic</th>\n      <th>PhysicalActivity</th>\n      <th>GenHealth</th>\n      <th>SleepTime</th>\n      <th>Asthma</th>\n      <th>KidneyDisease</th>\n      <th>SkinCancer</th>\n    </tr>\n  </thead>\n  <tbody>\n    <tr>\n      <th>0</th>\n      <td>No</td>\n      <td>16.60</td>\n      <td>Yes</td>\n      <td>No</td>\n      <td>No</td>\n      <td>3</td>\n      <td>30</td>\n      <td>No</td>\n      <td>Female</td>\n      <td>55-59</td>\n      <td>White</td>\n      <td>Yes</td>\n      <td>Yes</td>\n      <td>Very good</td>\n      <td>5</td>\n      <td>Yes</td>\n      <td>No</td>\n      <td>Yes</td>\n    </tr>\n    <tr>\n      <th>1</th>\n      <td>No</td>\n      <td>20.34</td>\n      <td>No</td>\n      <td>No</td>\n      <td>Yes</td>\n      <td>0</td>\n      <td>0</td>\n      <td>No</td>\n      <td>Female</td>\n      <td>80 or older</td>\n      <td>White</td>\n      <td>No</td>\n      <td>Yes</td>\n      <td>Very good</td>\n      <td>7</td>\n      <td>No</td>\n      <td>No</td>\n      <td>No</td>\n    </tr>\n    <tr>\n      <th>2</th>\n      <td>No</td>\n      <td>26.58</td>\n      <td>Yes</td>\n      <td>No</td>\n      <td>No</td>\n      <td>20</td>\n      <td>30</td>\n      <td>No</td>\n      <td>Male</td>\n      <td>65-69</td>\n      <td>White</td>\n      <td>Yes</td>\n      <td>Yes</td>\n      <td>Fair</td>\n      <td>8</td>\n      <td>Yes</td>\n      <td>No</td>\n      <td>No</td>\n    </tr>\n    <tr>\n      <th>3</th>\n      <td>No</td>\n      <td>24.21</td>\n      <td>No</td>\n      <td>No</td>\n      <td>No</td>\n      <td>0</td>\n      <td>0</td>\n      <td>No</td>\n      <td>Female</td>\n      <td>75-79</td>\n      <td>White</td>\n      <td>No</td>\n      <td>No</td>\n      <td>Good</td>\n      <td>6</td>\n      <td>No</td>\n      <td>No</td>\n      <td>Yes</td>\n    </tr>\n    <tr>\n      <th>4</th>\n      <td>No</td>\n      <td>23.71</td>\n      <td>No</td>\n      <td>No</td>\n      <td>No</td>\n      <td>28</td>\n      <td>0</td>\n      <td>Yes</td>\n      <td>Female</td>\n      <td>40-44</td>\n      <td>White</td>\n      <td>No</td>\n      <td>Yes</td>\n      <td>Very good</td>\n      <td>8</td>\n      <td>No</td>\n      <td>No</td>\n      <td>No</td>\n    </tr>\n    <tr>\n      <th>...</th>\n      <td>...</td>\n      <td>...</td>\n      <td>...</td>\n      <td>...</td>\n      <td>...</td>\n      <td>...</td>\n      <td>...</td>\n      <td>...</td>\n      <td>...</td>\n      <td>...</td>\n      <td>...</td>\n      <td>...</td>\n      <td>...</td>\n      <td>...</td>\n      <td>...</td>\n      <td>...</td>\n      <td>...</td>\n      <td>...</td>\n    </tr>\n    <tr>\n      <th>319790</th>\n      <td>Yes</td>\n      <td>27.41</td>\n      <td>Yes</td>\n      <td>No</td>\n      <td>No</td>\n      <td>7</td>\n      <td>0</td>\n      <td>Yes</td>\n      <td>Male</td>\n      <td>60-64</td>\n      <td>Hispanic</td>\n      <td>Yes</td>\n      <td>No</td>\n      <td>Fair</td>\n      <td>6</td>\n      <td>Yes</td>\n      <td>No</td>\n      <td>No</td>\n    </tr>\n    <tr>\n      <th>319791</th>\n      <td>No</td>\n      <td>29.84</td>\n      <td>Yes</td>\n      <td>No</td>\n      <td>No</td>\n      <td>0</td>\n      <td>0</td>\n      <td>No</td>\n      <td>Male</td>\n      <td>35-39</td>\n      <td>Hispanic</td>\n      <td>No</td>\n      <td>Yes</td>\n      <td>Very good</td>\n      <td>5</td>\n      <td>Yes</td>\n      <td>No</td>\n      <td>No</td>\n    </tr>\n    <tr>\n      <th>319792</th>\n      <td>No</td>\n      <td>24.24</td>\n      <td>No</td>\n      <td>No</td>\n      <td>No</td>\n      <td>0</td>\n      <td>0</td>\n      <td>No</td>\n      <td>Female</td>\n      <td>45-49</td>\n      <td>Hispanic</td>\n      <td>No</td>\n      <td>Yes</td>\n      <td>Good</td>\n      <td>6</td>\n      <td>No</td>\n      <td>No</td>\n      <td>No</td>\n    </tr>\n    <tr>\n      <th>319793</th>\n      <td>No</td>\n      <td>32.81</td>\n      <td>No</td>\n      <td>No</td>\n      <td>No</td>\n      <td>0</td>\n      <td>0</td>\n      <td>No</td>\n      <td>Female</td>\n      <td>25-29</td>\n      <td>Hispanic</td>\n      <td>No</td>\n      <td>No</td>\n      <td>Good</td>\n      <td>12</td>\n      <td>No</td>\n      <td>No</td>\n      <td>No</td>\n    </tr>\n    <tr>\n      <th>319794</th>\n      <td>No</td>\n      <td>46.56</td>\n      <td>No</td>\n      <td>No</td>\n      <td>No</td>\n      <td>0</td>\n      <td>0</td>\n      <td>No</td>\n      <td>Female</td>\n      <td>80 or older</td>\n      <td>Hispanic</td>\n      <td>No</td>\n      <td>Yes</td>\n      <td>Good</td>\n      <td>8</td>\n      <td>No</td>\n      <td>No</td>\n      <td>No</td>\n    </tr>\n  </tbody>\n</table>\n<p>319795 rows × 18 columns</p>\n</div>"
     },
     "execution_count": 72,
     "metadata": {},
     "output_type": "execute_result"
    }
   ],
   "id": "196ea77aac93cfd8"
  },
  {
   "cell_type": "code",
   "source": [
    "data1.Sex = data1.Sex.map(\n",
    "    {\n",
    "        'Male': 1,\n",
    "        'Female': 0\n",
    "    }\n",
    ")"
   ],
   "metadata": {
    "collapsed": false,
    "execution": {
     "iopub.status.busy": "2023-12-28T17:45:35.662383Z",
     "iopub.execute_input": "2023-12-28T17:45:35.662864Z",
     "iopub.status.idle": "2023-12-28T17:45:35.693087Z",
     "shell.execute_reply.started": "2023-12-28T17:45:35.662823Z",
     "shell.execute_reply": "2023-12-28T17:45:35.692190Z"
    },
    "trusted": true,
    "ExecuteTime": {
     "end_time": "2023-12-28T20:14:12.872741Z",
     "start_time": "2023-12-28T20:14:12.815547900Z"
    }
   },
   "execution_count": 73,
   "outputs": [],
   "id": "cba58c0f43cfd022"
  },
  {
   "cell_type": "code",
   "source": [
    "data1.AgeCategory = data1.AgeCategory.map(\n",
    "    {\n",
    "        '18-24': 1,\n",
    "        '40-44': 2,\n",
    "        '45-49': 3,\n",
    "        '50-54': 4,\n",
    "        '55-59': 5,\n",
    "        '60-64': 6,\n",
    "        '65-69': 7,\n",
    "        '70-74': 8,\n",
    "        '75-79': 9,\n",
    "        '80 or older': 10,\n",
    "    }\n",
    ")"
   ],
   "metadata": {
    "collapsed": false,
    "execution": {
     "iopub.status.busy": "2023-12-28T17:45:35.694577Z",
     "iopub.execute_input": "2023-12-28T17:45:35.695688Z",
     "iopub.status.idle": "2023-12-28T17:45:35.729021Z",
     "shell.execute_reply.started": "2023-12-28T17:45:35.695644Z",
     "shell.execute_reply": "2023-12-28T17:45:35.728234Z"
    },
    "trusted": true,
    "ExecuteTime": {
     "end_time": "2023-12-28T20:14:12.926903900Z",
     "start_time": "2023-12-28T20:14:12.818054100Z"
    }
   },
   "execution_count": 74,
   "outputs": [],
   "id": "bbc90cdc28e1b331"
  },
  {
   "cell_type": "code",
   "source": [
    "data1 = pd.get_dummies(data1, columns=['Race'])"
   ],
   "metadata": {
    "collapsed": false,
    "execution": {
     "iopub.status.busy": "2023-12-28T17:45:35.730183Z",
     "iopub.execute_input": "2023-12-28T17:45:35.730851Z",
     "iopub.status.idle": "2023-12-28T17:45:35.869884Z",
     "shell.execute_reply.started": "2023-12-28T17:45:35.730810Z",
     "shell.execute_reply": "2023-12-28T17:45:35.868950Z"
    },
    "trusted": true,
    "ExecuteTime": {
     "end_time": "2023-12-28T20:14:13.029231400Z",
     "start_time": "2023-12-28T20:14:12.837086600Z"
    }
   },
   "execution_count": 75,
   "outputs": [],
   "id": "8e81cbff72621ed3"
  },
  {
   "cell_type": "code",
   "source": [
    "data1.Diabetic = data1.Diabetic.map(\n",
    "    {\n",
    "        'Yes': 1,\n",
    "        'Yes (during pregnancy)': 1,\n",
    "        'No': 0,\n",
    "        'No, borderline diabetes': 0,\n",
    "    }\n",
    ")"
   ],
   "metadata": {
    "collapsed": false,
    "execution": {
     "iopub.status.busy": "2023-12-28T17:45:35.871341Z",
     "iopub.execute_input": "2023-12-28T17:45:35.871763Z",
     "iopub.status.idle": "2023-12-28T17:45:35.898489Z",
     "shell.execute_reply.started": "2023-12-28T17:45:35.871725Z",
     "shell.execute_reply": "2023-12-28T17:45:35.897592Z"
    },
    "trusted": true,
    "ExecuteTime": {
     "end_time": "2023-12-28T20:14:13.059282800Z",
     "start_time": "2023-12-28T20:14:12.980128Z"
    }
   },
   "execution_count": 76,
   "outputs": [],
   "id": "43885948e2d1ecad"
  },
  {
   "cell_type": "code",
   "source": [
    "data1.GenHealth = data1.GenHealth.map(\n",
    "    {\n",
    "        'Excellent': 5,\n",
    "        'Very good': 4,\n",
    "        'Good': 3,\n",
    "        'Fair': 2,\n",
    "        'Poor': 1,\n",
    "    }\n",
    ")"
   ],
   "metadata": {
    "collapsed": false,
    "execution": {
     "iopub.status.busy": "2023-12-28T17:45:35.899843Z",
     "iopub.execute_input": "2023-12-28T17:45:35.900230Z",
     "iopub.status.idle": "2023-12-28T17:45:35.929733Z",
     "shell.execute_reply.started": "2023-12-28T17:45:35.900191Z",
     "shell.execute_reply": "2023-12-28T17:45:35.928813Z"
    },
    "trusted": true,
    "ExecuteTime": {
     "end_time": "2023-12-28T20:14:13.063280200Z",
     "start_time": "2023-12-28T20:14:12.984128700Z"
    }
   },
   "execution_count": 77,
   "outputs": [],
   "id": "e61d3873c7288d0f"
  },
  {
   "cell_type": "code",
   "outputs": [],
   "source": [
    "data1.DiffWalking = data1.DiffWalking.map(\n",
    "    {\n",
    "        'Yes': 1,\n",
    "        'No': 0,\n",
    "    }\n",
    ")"
   ],
   "metadata": {
    "collapsed": false,
    "ExecuteTime": {
     "end_time": "2023-12-28T20:14:13.116812100Z",
     "start_time": "2023-12-28T20:14:13.001162400Z"
    }
   },
   "id": "91b49805eecb903e",
   "execution_count": 78
  },
  {
   "cell_type": "code",
   "outputs": [],
   "source": [
    "data1.SkinCancer = data1.SkinCancer.map(\n",
    "    {\n",
    "        'Yes': 1,\n",
    "        'No': 0,\n",
    "    }\n",
    ")"
   ],
   "metadata": {
    "collapsed": false,
    "ExecuteTime": {
     "end_time": "2023-12-28T20:14:13.119321200Z",
     "start_time": "2023-12-28T20:14:13.023724100Z"
    }
   },
   "id": "9fd7e24f37c88d96",
   "execution_count": 79
  },
  {
   "cell_type": "code",
   "source": [
    "data1.HeartDisease = data1.HeartDisease.map(\n",
    "    {\n",
    "        'Yes': 1,\n",
    "        'No': 0,\n",
    "    }\n",
    ")"
   ],
   "metadata": {
    "collapsed": false,
    "execution": {
     "iopub.status.busy": "2023-12-28T17:45:35.930865Z",
     "iopub.execute_input": "2023-12-28T17:45:35.931177Z",
     "iopub.status.idle": "2023-12-28T17:45:35.955716Z",
     "shell.execute_reply.started": "2023-12-28T17:45:35.931147Z",
     "shell.execute_reply": "2023-12-28T17:45:35.954783Z"
    },
    "trusted": true,
    "ExecuteTime": {
     "end_time": "2023-12-28T20:14:13.160228600Z",
     "start_time": "2023-12-28T20:14:13.039252400Z"
    }
   },
   "execution_count": 80,
   "outputs": [],
   "id": "89c2564ec7a78f80"
  },
  {
   "cell_type": "code",
   "source": [
    "data1.Smoking = data1.Smoking.map(\n",
    "    {\n",
    "        'Yes': 1,\n",
    "        'No': 0,\n",
    "    }\n",
    ")"
   ],
   "metadata": {
    "collapsed": false,
    "execution": {
     "iopub.status.busy": "2023-12-28T17:45:35.959314Z",
     "iopub.execute_input": "2023-12-28T17:45:35.959674Z",
     "iopub.status.idle": "2023-12-28T17:45:35.985538Z",
     "shell.execute_reply.started": "2023-12-28T17:45:35.959644Z",
     "shell.execute_reply": "2023-12-28T17:45:35.984508Z"
    },
    "trusted": true,
    "ExecuteTime": {
     "end_time": "2023-12-28T20:14:13.163229200Z",
     "start_time": "2023-12-28T20:14:13.052767100Z"
    }
   },
   "execution_count": 81,
   "outputs": [],
   "id": "b69b3929828d8c8"
  },
  {
   "cell_type": "code",
   "source": [
    "data1.AlcoholDrinking = data1.AlcoholDrinking.map(\n",
    "    {\n",
    "        'Yes': 1,\n",
    "        'No': 0,\n",
    "    }\n",
    ")"
   ],
   "metadata": {
    "collapsed": false,
    "execution": {
     "iopub.status.busy": "2023-12-28T17:45:35.986793Z",
     "iopub.execute_input": "2023-12-28T17:45:35.987520Z",
     "iopub.status.idle": "2023-12-28T17:45:36.015943Z",
     "shell.execute_reply.started": "2023-12-28T17:45:35.987478Z",
     "shell.execute_reply": "2023-12-28T17:45:36.014747Z"
    },
    "trusted": true,
    "ExecuteTime": {
     "end_time": "2023-12-28T20:14:13.170227600Z",
     "start_time": "2023-12-28T20:14:13.065282Z"
    }
   },
   "execution_count": 82,
   "outputs": [],
   "id": "bfe2b9b7316d50b0"
  },
  {
   "cell_type": "code",
   "source": [
    "data1.Stroke = data1.Stroke.map(\n",
    "    {\n",
    "        'Yes': 1,\n",
    "        'No': 0\n",
    "    }\n",
    ")"
   ],
   "metadata": {
    "collapsed": false,
    "execution": {
     "iopub.status.busy": "2023-12-28T17:45:36.017881Z",
     "iopub.execute_input": "2023-12-28T17:45:36.018315Z",
     "iopub.status.idle": "2023-12-28T17:45:36.044891Z",
     "shell.execute_reply.started": "2023-12-28T17:45:36.018276Z",
     "shell.execute_reply": "2023-12-28T17:45:36.043755Z"
    },
    "trusted": true,
    "ExecuteTime": {
     "end_time": "2023-12-28T20:14:13.172227100Z",
     "start_time": "2023-12-28T20:14:13.076883400Z"
    }
   },
   "execution_count": 83,
   "outputs": [],
   "id": "328390d43fc8f7fc"
  },
  {
   "cell_type": "code",
   "source": [
    "data1.PhysicalActivity = data1.PhysicalActivity.map(\n",
    "    {\n",
    "        'Yes': 1,\n",
    "        'No': 0\n",
    "    }\n",
    ")"
   ],
   "metadata": {
    "collapsed": false,
    "execution": {
     "iopub.status.busy": "2023-12-28T17:45:36.082292Z",
     "iopub.execute_input": "2023-12-28T17:45:36.082716Z",
     "iopub.status.idle": "2023-12-28T17:45:36.107995Z",
     "shell.execute_reply.started": "2023-12-28T17:45:36.082676Z",
     "shell.execute_reply": "2023-12-28T17:45:36.106827Z"
    },
    "trusted": true,
    "ExecuteTime": {
     "end_time": "2023-12-28T20:14:13.185292Z",
     "start_time": "2023-12-28T20:14:13.080891800Z"
    }
   },
   "execution_count": 84,
   "outputs": [],
   "id": "15a97782f2565477"
  },
  {
   "cell_type": "code",
   "source": [
    "data1.Asthma = data1.Asthma.map(\n",
    "    {\n",
    "        'Yes': 1,\n",
    "        'No': 0,\n",
    "    }\n",
    ")"
   ],
   "metadata": {
    "collapsed": false,
    "execution": {
     "iopub.status.busy": "2023-12-28T17:45:36.110202Z",
     "iopub.execute_input": "2023-12-28T17:45:36.111156Z",
     "iopub.status.idle": "2023-12-28T17:45:36.139757Z",
     "shell.execute_reply.started": "2023-12-28T17:45:36.111110Z",
     "shell.execute_reply": "2023-12-28T17:45:36.138868Z"
    },
    "trusted": true,
    "ExecuteTime": {
     "end_time": "2023-12-28T20:14:13.188799200Z",
     "start_time": "2023-12-28T20:14:13.093404300Z"
    }
   },
   "execution_count": 85,
   "outputs": [],
   "id": "c412f0a0b81188b9"
  },
  {
   "cell_type": "code",
   "source": [
    "data1.KidneyDisease = data1.KidneyDisease.map(\n",
    "    {\n",
    "        'Yes': 1,\n",
    "        'No': 0,\n",
    "    }\n",
    ")"
   ],
   "metadata": {
    "collapsed": false,
    "execution": {
     "iopub.status.busy": "2023-12-28T17:45:36.141018Z",
     "iopub.execute_input": "2023-12-28T17:45:36.141431Z",
     "iopub.status.idle": "2023-12-28T17:45:36.167187Z",
     "shell.execute_reply.started": "2023-12-28T17:45:36.141393Z",
     "shell.execute_reply": "2023-12-28T17:45:36.166387Z"
    },
    "trusted": true,
    "ExecuteTime": {
     "end_time": "2023-12-28T20:14:13.220329200Z",
     "start_time": "2023-12-28T20:14:13.108545900Z"
    }
   },
   "execution_count": 86,
   "outputs": [],
   "id": "3e00896bbf1cf552"
  },
  {
   "cell_type": "code",
   "source": [
    "data1.isnull().sum()"
   ],
   "metadata": {
    "collapsed": false,
    "execution": {
     "iopub.status.busy": "2023-12-28T17:45:36.205331Z",
     "iopub.execute_input": "2023-12-28T17:45:36.205637Z",
     "iopub.status.idle": "2023-12-28T17:45:36.222936Z",
     "shell.execute_reply.started": "2023-12-28T17:45:36.205609Z",
     "shell.execute_reply": "2023-12-28T17:45:36.222212Z"
    },
    "trusted": true,
    "ExecuteTime": {
     "end_time": "2023-12-28T20:14:13.231328100Z",
     "start_time": "2023-12-28T20:14:13.132198600Z"
    }
   },
   "execution_count": 87,
   "outputs": [
    {
     "data": {
      "text/plain": "HeartDisease                               0\nBMI                                        0\nSmoking                                    0\nAlcoholDrinking                            0\nStroke                                     0\nPhysicalHealth                             0\nMentalHealth                               0\nDiffWalking                                0\nSex                                        0\nAgeCategory                            56258\nDiabetic                                   0\nPhysicalActivity                           0\nGenHealth                                  0\nSleepTime                                  0\nAsthma                                     0\nKidneyDisease                              0\nSkinCancer                                 0\nRace_American Indian/Alaskan Native        0\nRace_Asian                                 0\nRace_Black                                 0\nRace_Hispanic                              0\nRace_Other                                 0\nRace_White                                 0\ndtype: int64"
     },
     "execution_count": 87,
     "metadata": {},
     "output_type": "execute_result"
    }
   ],
   "id": "849602f0fdbbd5ac"
  },
  {
   "cell_type": "code",
   "source": [
    "data1 = data1.astype(np.float32)"
   ],
   "metadata": {
    "collapsed": false,
    "execution": {
     "iopub.status.busy": "2023-12-28T17:45:36.224234Z",
     "iopub.execute_input": "2023-12-28T17:45:36.224560Z",
     "iopub.status.idle": "2023-12-28T17:45:36.238180Z",
     "shell.execute_reply.started": "2023-12-28T17:45:36.224532Z",
     "shell.execute_reply": "2023-12-28T17:45:36.237019Z"
    },
    "trusted": true,
    "ExecuteTime": {
     "end_time": "2023-12-28T20:14:13.248343600Z",
     "start_time": "2023-12-28T20:14:13.158223400Z"
    }
   },
   "execution_count": 88,
   "outputs": [],
   "id": "61a4381fcf22b4d"
  },
  {
   "cell_type": "code",
   "source": [
    "data1.dropna(inplace=True)"
   ],
   "metadata": {
    "collapsed": false,
    "execution": {
     "iopub.status.busy": "2023-12-28T17:45:36.239541Z",
     "iopub.execute_input": "2023-12-28T17:45:36.240201Z",
     "iopub.status.idle": "2023-12-28T17:45:36.282738Z",
     "shell.execute_reply.started": "2023-12-28T17:45:36.240171Z",
     "shell.execute_reply": "2023-12-28T17:45:36.281763Z"
    },
    "trusted": true,
    "ExecuteTime": {
     "end_time": "2023-12-28T20:14:13.326781200Z",
     "start_time": "2023-12-28T20:14:13.234328900Z"
    }
   },
   "execution_count": 89,
   "outputs": [],
   "id": "9916c4918e378be1"
  },
  {
   "cell_type": "code",
   "source": [
    "y = data1['HeartDisease']"
   ],
   "metadata": {
    "collapsed": false,
    "execution": {
     "iopub.status.busy": "2023-12-28T17:45:36.283916Z",
     "iopub.execute_input": "2023-12-28T17:45:36.284220Z",
     "iopub.status.idle": "2023-12-28T17:45:36.289363Z",
     "shell.execute_reply.started": "2023-12-28T17:45:36.284191Z",
     "shell.execute_reply": "2023-12-28T17:45:36.288181Z"
    },
    "trusted": true,
    "ExecuteTime": {
     "end_time": "2023-12-28T20:14:13.355813200Z",
     "start_time": "2023-12-28T20:14:13.314781100Z"
    }
   },
   "execution_count": 90,
   "outputs": [],
   "id": "e4051b45573a8feb"
  },
  {
   "cell_type": "code",
   "source": [
    "data1 = data1.drop(columns=['HeartDisease'])"
   ],
   "metadata": {
    "collapsed": false,
    "execution": {
     "iopub.status.busy": "2023-12-28T17:45:36.290565Z",
     "iopub.execute_input": "2023-12-28T17:45:36.290937Z",
     "iopub.status.idle": "2023-12-28T17:45:36.315469Z",
     "shell.execute_reply.started": "2023-12-28T17:45:36.290906Z",
     "shell.execute_reply": "2023-12-28T17:45:36.314381Z"
    },
    "trusted": true,
    "ExecuteTime": {
     "end_time": "2023-12-28T20:14:13.426447800Z",
     "start_time": "2023-12-28T20:14:13.356812300Z"
    }
   },
   "execution_count": 91,
   "outputs": [],
   "id": "28c68bd430247ac4"
  },
  {
   "cell_type": "code",
   "outputs": [
    {
     "data": {
      "text/plain": "<Axes: >"
     },
     "execution_count": 92,
     "metadata": {},
     "output_type": "execute_result"
    },
    {
     "data": {
      "text/plain": "<Figure size 2000x2000 with 2 Axes>",
      "image/png": "[encoded data removed]"
     },
     "metadata": {},
     "output_type": "display_data"
    }
   ],
   "source": [
    "# check the correlation between features\n",
    "plt.figure(figsize=(20, 20))\n",
    "sns.heatmap(data1.corr(), annot=True, cmap='coolwarm')"
   ],
   "metadata": {
    "collapsed": false,
    "ExecuteTime": {
     "end_time": "2023-12-28T20:14:14.232407500Z",
     "start_time": "2023-12-28T20:14:13.425444100Z"
    }
   },
   "id": "a09e258cc44fba3",
   "execution_count": 92
  },
  {
   "cell_type": "code",
   "outputs": [
    {
     "data": {
      "text/plain": "array([[16.6 ,  1.  ,  0.  , ...,  0.  ,  0.  ,  1.  ],\n       [20.34,  0.  ,  0.  , ...,  0.  ,  0.  ,  1.  ],\n       [26.58,  1.  ,  0.  , ...,  0.  ,  0.  ,  1.  ],\n       ...,\n       [27.41,  1.  ,  0.  , ...,  1.  ,  0.  ,  0.  ],\n       [24.24,  0.  ,  0.  , ...,  1.  ,  0.  ,  0.  ],\n       [46.56,  0.  ,  0.  , ...,  1.  ,  0.  ,  0.  ]], dtype=float32)"
     },
     "execution_count": 93,
     "metadata": {},
     "output_type": "execute_result"
    }
   ],
   "source": [
    "data1 = np.array(data1)\n",
    "data1"
   ],
   "metadata": {
    "collapsed": false,
    "execution": {
     "iopub.status.busy": "2023-12-28T17:45:36.316673Z",
     "iopub.execute_input": "2023-12-28T17:45:36.317547Z",
     "iopub.status.idle": "2023-12-28T17:45:36.343031Z",
     "shell.execute_reply.started": "2023-12-28T17:45:36.317515Z",
     "shell.execute_reply": "2023-12-28T17:45:36.342333Z"
    },
    "trusted": true,
    "ExecuteTime": {
     "end_time": "2023-12-28T20:14:14.235450700Z",
     "start_time": "2023-12-28T20:14:14.226315300Z"
    }
   },
   "id": "a9b29f4932bdf009",
   "execution_count": 93
  },
  {
   "cell_type": "code",
   "source": [
    "from sklearn.preprocessing import MinMaxScaler\n",
    "scaler = MinMaxScaler()\n",
    "data1 = scaler.fit_transform(data1)"
   ],
   "metadata": {
    "execution": {
     "iopub.status.busy": "2023-12-28T17:45:36.344344Z",
     "iopub.execute_input": "2023-12-28T17:45:36.344910Z",
     "iopub.status.idle": "2023-12-28T17:45:37.524756Z",
     "shell.execute_reply.started": "2023-12-28T17:45:36.344878Z",
     "shell.execute_reply": "2023-12-28T17:45:37.523732Z"
    },
    "trusted": true,
    "ExecuteTime": {
     "end_time": "2023-12-28T20:14:14.682763300Z",
     "start_time": "2023-12-28T20:14:14.229407800Z"
    }
   },
   "execution_count": 94,
   "outputs": [],
   "id": "672f777895d6b39c"
  },
  {
   "cell_type": "markdown",
   "source": [
    "# *Phase 2*\n",
    "# Applying Fuzzy C-Means Clustering"
   ],
   "metadata": {},
   "id": "8bfe0ac36d355ddc"
  },
  {
   "cell_type": "code",
   "source": [
    "def fuzzy_c_means(data, num_clusters, fuzziness, max_iters=10, tol=1e-10):\n",
    "# Step 1: Initialize membership matrix\n",
    "    membership_matrix = np.random.rand(data.shape[0], num_clusters)\n",
    "    membership_matrix /= np.sum(membership_matrix, axis=1, keepdims=True)\n",
    "\n",
    "    for _ in range(max_iters):\n",
    "                                 # Step 2: Compute centroids\n",
    "        centroids = np.zeros((num_clusters, data.shape[1]))\n",
    "        denominator = np.zeros((num_clusters, 1))\n",
    "        for i in range(data.shape[0]):\n",
    "            for j in range(num_clusters):\n",
    "                centroids[j] += (membership_matrix[i, j] ** fuzziness) * data[i]\n",
    "                denominator[j] += membership_matrix[i, j] ** fuzziness\n",
    "        centroids /= denominator       # A / B\n",
    "# Step 3: Calculate Euclidean distance\n",
    "        distances = np.zeros((data.shape[0], num_clusters))\n",
    "        for i in range(data.shape[0]):\n",
    "             for j in range(num_clusters):\n",
    "                distance_ij = np.sqrt(np.sum((data[i] - centroids[j]) ** 2))\n",
    "                distances[i, j] = distance_ij\n",
    "\n",
    "                            # Step 4: Update membership matrix\n",
    "        updated_membership_matrix = np.zeros_like(membership_matrix)\n",
    "        for i in range(data.shape[0]):\n",
    "            for j in range(num_clusters):\n",
    "                if distances[i, j] > 0:\n",
    "                    updated_membership_matrix[i, j] = 1 / np.sum((distances[i, :] / distances[i, j]) ** (2 / (fuzziness - 1)))\n",
    "                else:\n",
    "                    updated_membership_matrix[i, j] = 1\n",
    "                                    # Step 5: Check convergence \n",
    "        if np.linalg.norm(updated_membership_matrix - membership_matrix) < tol:\n",
    "            break\n",
    "        membership_matrix = updated_membership_matrix\n",
    "        # Print intermediate results\n",
    "    return membership_matrix, centroids\n"
   ],
   "metadata": {
    "execution": {
     "iopub.status.busy": "2023-12-28T17:45:37.536150Z",
     "iopub.execute_input": "2023-12-28T17:45:37.536578Z",
     "iopub.status.idle": "2023-12-28T17:46:02.417174Z",
     "shell.execute_reply.started": "2023-12-28T17:45:37.536538Z",
     "shell.execute_reply": "2023-12-28T17:46:02.415953Z"
    },
    "trusted": true,
    "ExecuteTime": {
     "end_time": "2023-12-28T20:14:14.701280800Z",
     "start_time": "2023-12-28T20:14:14.357374200Z"
    }
   },
   "execution_count": 95,
   "outputs": [],
   "id": "76493520be08adef"
  },
  {
   "cell_type": "code",
   "outputs": [],
   "source": [
    "# # Define the data\n",
    "# data = np.array([[1, 2], [2, 3], [9, 4], [10, 1]])"
   ],
   "metadata": {
    "collapsed": false,
    "ExecuteTime": {
     "end_time": "2023-12-28T20:14:14.703280500Z",
     "start_time": "2023-12-28T20:14:14.360597600Z"
    }
   },
   "id": "34f490cf4a4ee27a",
   "execution_count": 96
  },
  {
   "cell_type": "code",
   "outputs": [],
   "source": [
    "num_clusters = 2\n",
    "fuzziness = 2\n",
    "membership_matrix, centroids = fuzzy_c_means(data1, num_clusters, fuzziness)"
   ],
   "metadata": {
    "collapsed": false,
    "ExecuteTime": {
     "end_time": "2023-12-28T20:14:55.880504200Z",
     "start_time": "2023-12-28T20:14:14.373112400Z"
    }
   },
   "id": "79b87a068a8bb00e",
   "execution_count": 97
  },
  {
   "cell_type": "code",
   "outputs": [
    {
     "data": {
      "text/plain": "array([[0.50001947, 0.49998053],\n       [0.49996966, 0.50003034],\n       [0.50002472, 0.49997528],\n       ...,\n       [0.50003135, 0.49996865],\n       [0.49998072, 0.50001928],\n       [0.49998721, 0.50001279]])"
     },
     "execution_count": 98,
     "metadata": {},
     "output_type": "execute_result"
    }
   ],
   "source": [
    "# Final Membership Matrix:\n",
    "membership_matrix"
   ],
   "metadata": {
    "collapsed": false,
    "ExecuteTime": {
     "end_time": "2023-12-28T20:14:55.886507900Z",
     "start_time": "2023-12-28T20:14:55.882508800Z"
    }
   },
   "id": "eae9a42474f982ca",
   "execution_count": 98
  },
  {
   "cell_type": "code",
   "outputs": [
    {
     "data": {
      "text/plain": "array([[0.19721686, 0.42087562, 0.06375416, 0.04421952, 0.12188625,\n        0.11970938, 0.16120095, 0.46778057, 0.52269785, 0.15552125,\n        0.76236549, 0.63545775, 0.26691533, 0.13006496, 0.04266058,\n        0.11122534, 0.01553683, 0.02143459, 0.07004058, 0.07389297,\n        0.03115031, 0.78794471],\n       [0.19722143, 0.4210555 , 0.06376494, 0.04423105, 0.12192114,\n        0.11973   , 0.16125852, 0.46776927, 0.52272654, 0.1555622 ,\n        0.7622857 , 0.63540745, 0.26691453, 0.13008827, 0.04267089,\n        0.11124058, 0.0155404 , 0.02143605, 0.07005359, 0.07390411,\n        0.03115593, 0.78790992]])"
     },
     "execution_count": 99,
     "metadata": {},
     "output_type": "execute_result"
    }
   ],
   "source": [
    "# Final Centroids:\n",
    "centroids"
   ],
   "metadata": {
    "collapsed": false,
    "ExecuteTime": {
     "end_time": "2023-12-28T20:14:55.911598600Z",
     "start_time": "2023-12-28T20:14:55.885508Z"
    }
   },
   "id": "e7a6ed4b8c0b4b0a",
   "execution_count": 99
  },
  {
   "cell_type": "code",
   "source": [
    "centroids.shape"
   ],
   "metadata": {
    "execution": {
     "iopub.status.busy": "2023-12-28T17:46:02.418750Z",
     "iopub.execute_input": "2023-12-28T17:46:02.419179Z",
     "iopub.status.idle": "2023-12-28T17:46:02.429040Z",
     "shell.execute_reply.started": "2023-12-28T17:46:02.419141Z",
     "shell.execute_reply": "2023-12-28T17:46:02.427794Z"
    },
    "trusted": true,
    "ExecuteTime": {
     "end_time": "2023-12-28T20:14:55.959669200Z",
     "start_time": "2023-12-28T20:14:55.898563100Z"
    }
   },
   "execution_count": 100,
   "outputs": [
    {
     "data": {
      "text/plain": "(2, 22)"
     },
     "execution_count": 100,
     "metadata": {},
     "output_type": "execute_result"
    }
   ],
   "id": "5b11072e4609594f"
  },
  {
   "cell_type": "code",
   "source": [
    "membership_matrix.shape"
   ],
   "metadata": {
    "execution": {
     "iopub.status.busy": "2023-12-28T17:46:02.445842Z",
     "iopub.execute_input": "2023-12-28T17:46:02.446661Z",
     "iopub.status.idle": "2023-12-28T17:46:02.453718Z",
     "shell.execute_reply.started": "2023-12-28T17:46:02.446608Z",
     "shell.execute_reply": "2023-12-28T17:46:02.452719Z"
    },
    "trusted": true,
    "ExecuteTime": {
     "end_time": "2023-12-28T20:14:55.962680300Z",
     "start_time": "2023-12-28T20:14:55.906080500Z"
    }
   },
   "execution_count": 101,
   "outputs": [
    {
     "data": {
      "text/plain": "(263537, 2)"
     },
     "execution_count": 101,
     "metadata": {},
     "output_type": "execute_result"
    }
   ],
   "id": "8819a3eaaab9bb52"
  },
  {
   "cell_type": "markdown",
   "source": [
    "# Vectorization"
   ],
   "metadata": {},
   "id": "86f2fda4f61dcfa"
  },
  {
   "cell_type": "code",
   "source": [
    "def fuzzy_c_means(data, num_clusters, fuzziness, max_iters=100, tol=1e-4):\n",
    "    # Step 1: Initialize membership matrix\n",
    "    membership_matrix = np.random.rand(data.shape[0], num_clusters)\n",
    "    membership_matrix /= np.sum(membership_matrix, axis=1, keepdims=True)\n",
    "\n",
    "    for _ in range(max_iters):\n",
    "        # Step 2: Compute centroids\n",
    "        centroids = np.dot(membership_matrix.T ** fuzziness, data) / (np.sum(membership_matrix ** fuzziness, axis=0, keepdims=True)).T\n",
    "\n",
    "        # Step 3: Calculate Euclidean distance\n",
    "        distances = np.linalg.norm(data[:, np.newaxis, :] - centroids, axis=2)\n",
    "\n",
    "        # Step 4: Update membership matrix\n",
    "        updated_membership_matrix = 1 / np.sum((distances[:, :, np.newaxis] / distances[:, np.newaxis, :]) ** (2 / (fuzziness - 1)), axis=2)\n",
    "\n",
    "        # Step 5: Check convergence\n",
    "        if np.linalg.norm(updated_membership_matrix - membership_matrix) < tol:\n",
    "            break\n",
    "        membership_matrix = updated_membership_matrix\n",
    "    return membership_matrix, centroids"
   ],
   "metadata": {
    "execution": {
     "iopub.status.busy": "2023-12-28T17:46:02.455269Z",
     "iopub.execute_input": "2023-12-28T17:46:02.455966Z",
     "iopub.status.idle": "2023-12-28T17:46:05.742237Z",
     "shell.execute_reply.started": "2023-12-28T17:46:02.455924Z",
     "shell.execute_reply": "2023-12-28T17:46:05.741154Z"
    },
    "trusted": true,
    "ExecuteTime": {
     "end_time": "2023-12-28T20:14:56.014479900Z",
     "start_time": "2023-12-28T20:14:55.909591400Z"
    }
   },
   "execution_count": 102,
   "outputs": [],
   "id": "603209a76891d50e"
  },
  {
   "cell_type": "code",
   "outputs": [],
   "source": [
    "num_clusters = 2\n",
    "fuzziness = 2\n",
    "membership_matrix, centroids = fuzzy_c_means(data1, num_clusters, fuzziness)"
   ],
   "metadata": {
    "collapsed": false,
    "ExecuteTime": {
     "end_time": "2023-12-28T20:14:57.118539100Z",
     "start_time": "2023-12-28T20:14:55.913632500Z"
    }
   },
   "id": "e230fd5896282e13",
   "execution_count": 103
  },
  {
   "cell_type": "code",
   "outputs": [
    {
     "data": {
      "text/plain": "array([[0.50000001, 0.49999999],\n       [0.49999955, 0.50000045],\n       [0.50000029, 0.49999971],\n       ...,\n       [0.50000025, 0.49999975],\n       [0.49999966, 0.50000034],\n       [0.4999997 , 0.5000003 ]])"
     },
     "execution_count": 104,
     "metadata": {},
     "output_type": "execute_result"
    }
   ],
   "source": [
    "# Final Membership Matrix:\n",
    "membership_matrix"
   ],
   "metadata": {
    "collapsed": false,
    "ExecuteTime": {
     "end_time": "2023-12-28T20:14:57.125044100Z",
     "start_time": "2023-12-28T20:14:57.120537100Z"
    }
   },
   "id": "48bd934af6a0b0f5",
   "execution_count": 104
  },
  {
   "cell_type": "code",
   "outputs": [
    {
     "data": {
      "text/plain": "array([[0.19721916, 0.42096609, 0.06375957, 0.04422531, 0.12190375,\n        0.1197197 , 0.16122981, 0.46777558, 0.52271222, 0.15554181,\n        0.76232547, 0.6354325 , 0.26691493, 0.13007663, 0.04266575,\n        0.11123299, 0.01553862, 0.02143532, 0.0700471 , 0.07389856,\n        0.03115313, 0.78792727],\n       [0.19721913, 0.42096502, 0.06375952, 0.04422527, 0.12190364,\n        0.11971968, 0.16122965, 0.46777427, 0.52271217, 0.15554165,\n        0.76232571, 0.63543269, 0.26691493, 0.13007659, 0.04266572,\n        0.11123292, 0.01553861, 0.02143532, 0.07004708, 0.07389853,\n        0.03115311, 0.78792736]])"
     },
     "execution_count": 105,
     "metadata": {},
     "output_type": "execute_result"
    }
   ],
   "source": [
    "# Final Centroids:\n",
    "centroids"
   ],
   "metadata": {
    "collapsed": false,
    "ExecuteTime": {
     "end_time": "2023-12-28T20:14:57.148471500Z",
     "start_time": "2023-12-28T20:14:57.124536600Z"
    }
   },
   "id": "d8d385e480c0cb99",
   "execution_count": 105
  },
  {
   "cell_type": "code",
   "source": [
    "membership_matrix.shape"
   ],
   "metadata": {
    "execution": {
     "iopub.status.busy": "2023-12-28T17:46:05.744080Z",
     "iopub.execute_input": "2023-12-28T17:46:05.744931Z",
     "iopub.status.idle": "2023-12-28T17:46:05.751870Z",
     "shell.execute_reply.started": "2023-12-28T17:46:05.744884Z",
     "shell.execute_reply": "2023-12-28T17:46:05.750863Z"
    },
    "trusted": true,
    "ExecuteTime": {
     "end_time": "2023-12-28T20:14:57.163211Z",
     "start_time": "2023-12-28T20:14:57.130267Z"
    }
   },
   "execution_count": 106,
   "outputs": [
    {
     "data": {
      "text/plain": "(263537, 2)"
     },
     "execution_count": 106,
     "metadata": {},
     "output_type": "execute_result"
    }
   ],
   "id": "21581576e222711b"
  },
  {
   "cell_type": "code",
   "source": [
    "centroids.shape"
   ],
   "metadata": {
    "execution": {
     "iopub.status.busy": "2023-12-28T17:46:05.753604Z",
     "iopub.execute_input": "2023-12-28T17:46:05.754358Z",
     "iopub.status.idle": "2023-12-28T17:46:05.768395Z",
     "shell.execute_reply.started": "2023-12-28T17:46:05.754298Z",
     "shell.execute_reply": "2023-12-28T17:46:05.767306Z"
    },
    "trusted": true,
    "ExecuteTime": {
     "end_time": "2023-12-28T20:14:57.186825200Z",
     "start_time": "2023-12-28T20:14:57.135781700Z"
    }
   },
   "execution_count": 107,
   "outputs": [
    {
     "data": {
      "text/plain": "(2, 22)"
     },
     "execution_count": 107,
     "metadata": {},
     "output_type": "execute_result"
    }
   ],
   "id": "5e87acc24b744933"
  },
  {
   "cell_type": "code",
   "outputs": [
    {
     "data": {
      "text/plain": "          RI     Na    Mg    Al     Si     K    Ca    Ba   Fe  Type\n0    1.52101  13.64  4.49  1.10  71.78  0.06  8.75  0.00  0.0     1\n1    1.51761  13.89  3.60  1.36  72.73  0.48  7.83  0.00  0.0     1\n2    1.51618  13.53  3.55  1.54  72.99  0.39  7.78  0.00  0.0     1\n3    1.51766  13.21  3.69  1.29  72.61  0.57  8.22  0.00  0.0     1\n4    1.51742  13.27  3.62  1.24  73.08  0.55  8.07  0.00  0.0     1\n..       ...    ...   ...   ...    ...   ...   ...   ...  ...   ...\n209  1.51623  14.14  0.00  2.88  72.61  0.08  9.18  1.06  0.0     7\n210  1.51685  14.92  0.00  1.99  73.06  0.00  8.40  1.59  0.0     7\n211  1.52065  14.36  0.00  2.02  73.42  0.00  8.44  1.64  0.0     7\n212  1.51651  14.38  0.00  1.94  73.61  0.00  8.48  1.57  0.0     7\n213  1.51711  14.23  0.00  2.08  73.36  0.00  8.62  1.67  0.0     7\n\n[214 rows x 10 columns]",
      "text/html": "<div>\n<style scoped>\n    .dataframe tbody tr th:only-of-type {\n        vertical-align: middle;\n    }\n\n    .dataframe tbody tr th {\n        vertical-align: top;\n    }\n\n    .dataframe thead th {\n        text-align: right;\n    }\n</style>\n<table border=\"1\" class=\"dataframe\">\n  <thead>\n    <tr style=\"text-align: right;\">\n      <th></th>\n      <th>RI</th>\n      <th>Na</th>\n      <th>Mg</th>\n      <th>Al</th>\n      <th>Si</th>\n      <th>K</th>\n      <th>Ca</th>\n      <th>Ba</th>\n      <th>Fe</th>\n      <th>Type</th>\n    </tr>\n  </thead>\n  <tbody>\n    <tr>\n      <th>0</th>\n      <td>1.52101</td>\n      <td>13.64</td>\n      <td>4.49</td>\n      <td>1.10</td>\n      <td>71.78</td>\n      <td>0.06</td>\n      <td>8.75</td>\n      <td>0.00</td>\n      <td>0.0</td>\n      <td>1</td>\n    </tr>\n    <tr>\n      <th>1</th>\n      <td>1.51761</td>\n      <td>13.89</td>\n      <td>3.60</td>\n      <td>1.36</td>\n      <td>72.73</td>\n      <td>0.48</td>\n      <td>7.83</td>\n      <td>0.00</td>\n      <td>0.0</td>\n      <td>1</td>\n    </tr>\n    <tr>\n      <th>2</th>\n      <td>1.51618</td>\n      <td>13.53</td>\n      <td>3.55</td>\n      <td>1.54</td>\n      <td>72.99</td>\n      <td>0.39</td>\n      <td>7.78</td>\n      <td>0.00</td>\n      <td>0.0</td>\n      <td>1</td>\n    </tr>\n    <tr>\n      <th>3</th>\n      <td>1.51766</td>\n      <td>13.21</td>\n      <td>3.69</td>\n      <td>1.29</td>\n      <td>72.61</td>\n      <td>0.57</td>\n      <td>8.22</td>\n      <td>0.00</td>\n      <td>0.0</td>\n      <td>1</td>\n    </tr>\n    <tr>\n      <th>4</th>\n      <td>1.51742</td>\n      <td>13.27</td>\n      <td>3.62</td>\n      <td>1.24</td>\n      <td>73.08</td>\n      <td>0.55</td>\n      <td>8.07</td>\n      <td>0.00</td>\n      <td>0.0</td>\n      <td>1</td>\n    </tr>\n    <tr>\n      <th>...</th>\n      <td>...</td>\n      <td>...</td>\n      <td>...</td>\n      <td>...</td>\n      <td>...</td>\n      <td>...</td>\n      <td>...</td>\n      <td>...</td>\n      <td>...</td>\n      <td>...</td>\n    </tr>\n    <tr>\n      <th>209</th>\n      <td>1.51623</td>\n      <td>14.14</td>\n      <td>0.00</td>\n      <td>2.88</td>\n      <td>72.61</td>\n      <td>0.08</td>\n      <td>9.18</td>\n      <td>1.06</td>\n      <td>0.0</td>\n      <td>7</td>\n    </tr>\n    <tr>\n      <th>210</th>\n      <td>1.51685</td>\n      <td>14.92</td>\n      <td>0.00</td>\n      <td>1.99</td>\n      <td>73.06</td>\n      <td>0.00</td>\n      <td>8.40</td>\n      <td>1.59</td>\n      <td>0.0</td>\n      <td>7</td>\n    </tr>\n    <tr>\n      <th>211</th>\n      <td>1.52065</td>\n      <td>14.36</td>\n      <td>0.00</td>\n      <td>2.02</td>\n      <td>73.42</td>\n      <td>0.00</td>\n      <td>8.44</td>\n      <td>1.64</td>\n      <td>0.0</td>\n      <td>7</td>\n    </tr>\n    <tr>\n      <th>212</th>\n      <td>1.51651</td>\n      <td>14.38</td>\n      <td>0.00</td>\n      <td>1.94</td>\n      <td>73.61</td>\n      <td>0.00</td>\n      <td>8.48</td>\n      <td>1.57</td>\n      <td>0.0</td>\n      <td>7</td>\n    </tr>\n    <tr>\n      <th>213</th>\n      <td>1.51711</td>\n      <td>14.23</td>\n      <td>0.00</td>\n      <td>2.08</td>\n      <td>73.36</td>\n      <td>0.00</td>\n      <td>8.62</td>\n      <td>1.67</td>\n      <td>0.0</td>\n      <td>7</td>\n    </tr>\n  </tbody>\n</table>\n<p>214 rows × 10 columns</p>\n</div>"
     },
     "execution_count": 108,
     "metadata": {},
     "output_type": "execute_result"
    }
   ],
   "source": [
    "data2 = pd.read_csv(Path2)\n",
    "data2"
   ],
   "metadata": {
    "collapsed": false,
    "ExecuteTime": {
     "end_time": "2023-12-28T20:14:57.675195100Z",
     "start_time": "2023-12-28T20:14:57.181810700Z"
    }
   },
   "id": "66c7089d4fe97917",
   "execution_count": 108
  },
  {
   "cell_type": "code",
   "outputs": [
    {
     "data": {
      "text/plain": "RI      0\nNa      0\nMg      0\nAl      0\nSi      0\nK       0\nCa      0\nBa      0\nFe      0\nType    0\ndtype: int64"
     },
     "execution_count": 109,
     "metadata": {},
     "output_type": "execute_result"
    }
   ],
   "source": [
    "data2.isnull().sum()"
   ],
   "metadata": {
    "collapsed": false,
    "ExecuteTime": {
     "end_time": "2023-12-28T20:14:57.677194900Z",
     "start_time": "2023-12-28T20:14:57.664628200Z"
    }
   },
   "id": "f81de06816ae52cf",
   "execution_count": 109
  },
  {
   "cell_type": "code",
   "outputs": [
    {
     "data": {
      "text/plain": "<Axes: >"
     },
     "execution_count": 110,
     "metadata": {},
     "output_type": "execute_result"
    },
    {
     "data": {
      "text/plain": "<Figure size 2000x2000 with 2 Axes>",
      "image/png": "[encoded data removed]"
     },
     "metadata": {},
     "output_type": "display_data"
    }
   ],
   "source": [
    "# check the correlation between features\n",
    "import seaborn as sns\n",
    "plt.figure(figsize=(20, 20))\n",
    "sns.heatmap(data2.corr(), annot=True, cmap='coolwarm')"
   ],
   "metadata": {
    "collapsed": false,
    "ExecuteTime": {
     "end_time": "2023-12-28T20:14:59.346165600Z",
     "start_time": "2023-12-28T20:14:57.666628500Z"
    }
   },
   "id": "6dfaaa835b4966b",
   "execution_count": 110
  },
  {
   "cell_type": "code",
   "outputs": [],
   "source": [
    "data2 = data2.drop('Type', axis=1)"
   ],
   "metadata": {
    "collapsed": false,
    "ExecuteTime": {
     "end_time": "2023-12-28T20:14:59.348165500Z",
     "start_time": "2023-12-28T20:14:57.890390700Z"
    }
   },
   "id": "5fbee8bc51da78d",
   "execution_count": 111
  },
  {
   "cell_type": "code",
   "outputs": [],
   "source": [
    "data2 = np.array(data2)"
   ],
   "metadata": {
    "collapsed": false,
    "ExecuteTime": {
     "end_time": "2023-12-28T20:14:59.350283700Z",
     "start_time": "2023-12-28T20:14:57.891399400Z"
    }
   },
   "id": "de21fa048449cef3",
   "execution_count": 112
  },
  {
   "cell_type": "code",
   "outputs": [
    {
     "data": {
      "text/plain": "(214, 9)"
     },
     "execution_count": 113,
     "metadata": {},
     "output_type": "execute_result"
    }
   ],
   "source": [
    "data2.shape"
   ],
   "metadata": {
    "collapsed": false,
    "ExecuteTime": {
     "end_time": "2023-12-28T20:14:59.371796600Z",
     "start_time": "2023-12-28T20:14:57.901394800Z"
    }
   },
   "id": "18c889f7fcfc5127",
   "execution_count": 113
  },
  {
   "cell_type": "code",
   "outputs": [],
   "source": [
    "from sklearn.preprocessing import MinMaxScaler\n",
    "scaler = MinMaxScaler()\n",
    "data2 = scaler.fit_transform(data2)"
   ],
   "metadata": {
    "collapsed": false,
    "ExecuteTime": {
     "end_time": "2023-12-28T20:14:59.711200200Z",
     "start_time": "2023-12-28T20:14:57.917457500Z"
    }
   },
   "id": "550d2baa30989592",
   "execution_count": 114
  },
  {
   "cell_type": "code",
   "outputs": [],
   "source": [
    "num_clusters = 7\n",
    "fuzziness = 2\n",
    "membership_matrix, centroids = fuzzy_c_means(data2, num_clusters, fuzziness)"
   ],
   "metadata": {
    "collapsed": false,
    "ExecuteTime": {
     "end_time": "2023-12-28T20:14:59.746978700Z",
     "start_time": "2023-12-28T20:14:57.918457700Z"
    }
   },
   "id": "8c450258b19aae3",
   "execution_count": 115
  },
  {
   "cell_type": "code",
   "outputs": [
    {
     "data": {
      "text/plain": "array([[0.17452245, 0.02414254, 0.01864439, ..., 0.04236672, 0.46127129,\n        0.0757446 ],\n       [0.35663869, 0.01004057, 0.00895009, ..., 0.02176014, 0.06924479,\n        0.03572368],\n       [0.48002378, 0.00962772, 0.0091312 , ..., 0.02087401, 0.0423297 ,\n        0.03560687],\n       ...,\n       [0.04783498, 0.10966731, 0.59074741, ..., 0.11989673, 0.04152743,\n        0.04103901],\n       [0.0358889 , 0.07360316, 0.71007943, ..., 0.08426444, 0.0290074 ,\n        0.03051609],\n       [0.03637844, 0.07592792, 0.70262226, ..., 0.08673462, 0.02988706,\n        0.03112956]])"
     },
     "execution_count": 116,
     "metadata": {},
     "output_type": "execute_result"
    }
   ],
   "source": [
    "# Final Membership Matrix:\n",
    "membership_matrix"
   ],
   "metadata": {
    "collapsed": false,
    "ExecuteTime": {
     "end_time": "2023-12-28T20:14:59.774158500Z",
     "start_time": "2023-12-28T20:14:57.928393100Z"
    }
   },
   "id": "fff685b1cf2800bd",
   "execution_count": 116
  },
  {
   "cell_type": "code",
   "outputs": [
    {
     "data": {
      "text/plain": "array([[0.26712918, 0.35044902, 0.77335491, 0.33580576, 0.55170947,\n        0.09341939, 0.27567523, 0.00463498, 0.01859975],\n       [0.46160112, 0.38846069, 0.05003959, 0.35611012, 0.50246502,\n        0.05953909, 0.5894781 , 0.02776318, 0.06231133],\n       [0.23925674, 0.57622466, 0.01207257, 0.60606455, 0.6024945 ,\n        0.01500157, 0.31066569, 0.32493444, 0.0352522 ],\n       [0.28277772, 0.38729701, 0.76406422, 0.34932404, 0.5014434 ,\n        0.09077848, 0.27978022, 0.00917169, 0.04162387],\n       [0.38324654, 0.42139797, 0.29473302, 0.41205794, 0.48165891,\n        0.08049756, 0.43596899, 0.07297642, 0.12299568],\n       [0.45768509, 0.45881908, 0.80378927, 0.1865639 , 0.36419387,\n        0.03077833, 0.38140132, 0.01045968, 0.06122841],\n       [0.27253141, 0.33872184, 0.75936421, 0.32870886, 0.54330176,\n        0.09323346, 0.28944172, 0.01089011, 0.42826493]])"
     },
     "execution_count": 117,
     "metadata": {},
     "output_type": "execute_result"
    }
   ],
   "source": [
    "# Final Centroids:\n",
    "centroids"
   ],
   "metadata": {
    "collapsed": false,
    "ExecuteTime": {
     "end_time": "2023-12-28T20:14:59.779190Z",
     "start_time": "2023-12-28T20:14:57.932394100Z"
    }
   },
   "id": "903919a0cb4faa04",
   "execution_count": 117
  },
  {
   "cell_type": "code",
   "outputs": [
    {
     "data": {
      "text/plain": "(214, 7)"
     },
     "execution_count": 118,
     "metadata": {},
     "output_type": "execute_result"
    }
   ],
   "source": [
    "membership_matrix.shape"
   ],
   "metadata": {
    "collapsed": false,
    "ExecuteTime": {
     "end_time": "2023-12-28T20:14:59.805394500Z",
     "start_time": "2023-12-28T20:14:57.935393300Z"
    }
   },
   "id": "2bdf4a5cbdb53b4f",
   "execution_count": 118
  },
  {
   "cell_type": "code",
   "outputs": [
    {
     "data": {
      "text/plain": "(7, 9)"
     },
     "execution_count": 119,
     "metadata": {},
     "output_type": "execute_result"
    }
   ],
   "source": [
    "centroids.shape"
   ],
   "metadata": {
    "collapsed": false,
    "ExecuteTime": {
     "end_time": "2023-12-28T20:14:59.808938400Z",
     "start_time": "2023-12-28T20:14:57.941427Z"
    }
   },
   "id": "bbb5a12419d38021",
   "execution_count": 119
  },
  {
   "cell_type": "markdown",
   "source": [
    "# Applying PCA from Scratch (Phase1)"
   ],
   "metadata": {},
   "id": "94cac4cb6b3df10f"
  },
  {
   "cell_type": "code",
   "source": [
    "def preprocess(Data):\n",
    "    return np.array(Data) - np.mean(np.array(Data), axis=0)"
   ],
   "metadata": {
    "collapsed": false,
    "execution": {
     "iopub.status.busy": "2023-12-28T17:46:05.770396Z",
     "iopub.execute_input": "2023-12-28T17:46:05.771919Z",
     "iopub.status.idle": "2023-12-28T17:46:05.778829Z",
     "shell.execute_reply.started": "2023-12-28T17:46:05.771780Z",
     "shell.execute_reply": "2023-12-28T17:46:05.777756Z"
    },
    "trusted": true,
    "ExecuteTime": {
     "end_time": "2023-12-28T20:14:59.833091100Z",
     "start_time": "2023-12-28T20:14:57.943939300Z"
    }
   },
   "execution_count": 120,
   "outputs": [],
   "id": "d18f2edbcaeb744d"
  },
  {
   "cell_type": "code",
   "source": [
    "def manual_covariance_matrix(data):\n",
    "    X_mean = np.mean(data, axis=0)\n",
    "    x_centered = (data - X_mean)\n",
    "    num_samples = data.shape[0]\n",
    "    num_features = data.shape[1]\n",
    "\n",
    "    covarianceMatrix = np.zeros((num_features, num_features))\n",
    "\n",
    "    for i in range(num_features):\n",
    "        for j in range(num_features):\n",
    "            covarianceMatrix[i, j] = np.sum((data[:, i] - X_mean[i]) * (data[:, j] - X_mean[j])) / (num_samples - 1)\n",
    "\n",
    "    return covarianceMatrix, x_centered"
   ],
   "metadata": {
    "collapsed": false,
    "execution": {
     "iopub.status.busy": "2023-12-28T17:46:05.780748Z",
     "iopub.execute_input": "2023-12-28T17:46:05.781562Z",
     "iopub.status.idle": "2023-12-28T17:46:05.790906Z",
     "shell.execute_reply.started": "2023-12-28T17:46:05.781515Z",
     "shell.execute_reply": "2023-12-28T17:46:05.789644Z"
    },
    "trusted": true,
    "ExecuteTime": {
     "end_time": "2023-12-28T20:14:59.836641900Z",
     "start_time": "2023-12-28T20:14:57.946939300Z"
    }
   },
   "execution_count": 121,
   "outputs": [],
   "id": "eb96f682026e5d44"
  },
  {
   "cell_type": "code",
   "source": [
    "X_centered1 = preprocess(data1)"
   ],
   "metadata": {
    "collapsed": false,
    "execution": {
     "iopub.status.busy": "2023-12-28T17:46:05.793090Z",
     "iopub.execute_input": "2023-12-28T17:46:05.794148Z",
     "iopub.status.idle": "2023-12-28T17:46:05.846192Z",
     "shell.execute_reply.started": "2023-12-28T17:46:05.794098Z",
     "shell.execute_reply": "2023-12-28T17:46:05.845064Z"
    },
    "trusted": true,
    "ExecuteTime": {
     "end_time": "2023-12-28T20:14:59.841247600Z",
     "start_time": "2023-12-28T20:14:57.950449700Z"
    }
   },
   "execution_count": 122,
   "outputs": [],
   "id": "d5595696945ea87c"
  },
  {
   "cell_type": "code",
   "source": [
    "covariance_matrix = np.dot(X_centered1.T, X_centered1) / len(X_centered1)"
   ],
   "metadata": {
    "collapsed": false,
    "execution": {
     "iopub.status.busy": "2023-12-28T17:46:05.848223Z",
     "iopub.execute_input": "2023-12-28T17:46:05.849062Z",
     "iopub.status.idle": "2023-12-28T17:46:05.868483Z",
     "shell.execute_reply.started": "2023-12-28T17:46:05.849015Z",
     "shell.execute_reply": "2023-12-28T17:46:05.867661Z"
    },
    "trusted": true,
    "ExecuteTime": {
     "end_time": "2023-12-28T20:14:59.843760Z",
     "start_time": "2023-12-28T20:14:57.961963800Z"
    }
   },
   "execution_count": 123,
   "outputs": [],
   "id": "6bf5f9168b3098df"
  },
  {
   "cell_type": "code",
   "source": [
    "X_centered1.shape"
   ],
   "metadata": {
    "collapsed": false,
    "execution": {
     "iopub.status.busy": "2023-12-28T17:46:05.875464Z",
     "iopub.execute_input": "2023-12-28T17:46:05.875985Z",
     "iopub.status.idle": "2023-12-28T17:46:05.890297Z",
     "shell.execute_reply.started": "2023-12-28T17:46:05.875955Z",
     "shell.execute_reply": "2023-12-28T17:46:05.889455Z"
    },
    "trusted": true,
    "ExecuteTime": {
     "end_time": "2023-12-28T20:14:59.865421300Z",
     "start_time": "2023-12-28T20:14:57.968468800Z"
    }
   },
   "execution_count": 124,
   "outputs": [
    {
     "data": {
      "text/plain": "(263537, 22)"
     },
     "execution_count": 124,
     "metadata": {},
     "output_type": "execute_result"
    }
   ],
   "id": "fdad840f74604751"
  },
  {
   "cell_type": "code",
   "source": [
    "plt.scatter(X_centered1[:, 0], X_centered1[:, 1])"
   ],
   "metadata": {
    "collapsed": false,
    "execution": {
     "iopub.status.busy": "2023-12-28T17:46:05.891615Z",
     "iopub.execute_input": "2023-12-28T17:46:05.892147Z",
     "iopub.status.idle": "2023-12-28T17:46:07.376486Z",
     "shell.execute_reply.started": "2023-12-28T17:46:05.892116Z",
     "shell.execute_reply": "2023-12-28T17:46:07.375382Z"
    },
    "trusted": true,
    "ExecuteTime": {
     "end_time": "2023-12-28T20:14:59.868442400Z",
     "start_time": "2023-12-28T20:14:57.996099300Z"
    }
   },
   "execution_count": 125,
   "outputs": [
    {
     "data": {
      "text/plain": "<matplotlib.collections.PathCollection at 0x7fd234010450>"
     },
     "execution_count": 125,
     "metadata": {},
     "output_type": "execute_result"
    },
    {
     "data": {
      "text/plain": "<Figure size 640x480 with 1 Axes>",
      "image/png": "[encoded data removed]"
     },
     "metadata": {},
     "output_type": "display_data"
    }
   ],
   "id": "b81ff36414fbff18"
  },
  {
   "cell_type": "code",
   "source": [
    "def calculate_eigenvalues_and_eigenvectors(A, tol=1e-10, max_iter=1000000):\n",
    "    if A.ndim != 2 or A.shape[0] != A.shape[1]: raise ValueError(\"Matrix A must be square.\")\n",
    "    lambdaMax = 0\n",
    "    # Initialize random vector\n",
    "    v = np.ones(A.shape[0])\n",
    "    for _ in range(max_iter):\n",
    "        # Update vector\n",
    "        v = A @ v\n",
    "        # Normalize\n",
    "        v_norm = np.linalg.norm(v)\n",
    "        v /= v_norm\n",
    "        # Calculate eigenvalue\n",
    "        lambda_new = np.dot(A @ v, v)\n",
    "        # Check convergence\n",
    "        if abs(lambda_new - lambdaMax) < tol: break\n",
    "        # Update dominant eigenvalue\n",
    "        lambdaMax = lambda_new\n",
    "    return lambdaMax, v"
   ],
   "metadata": {
    "collapsed": false,
    "execution": {
     "iopub.status.busy": "2023-12-28T17:46:07.377999Z",
     "iopub.execute_input": "2023-12-28T17:46:07.378438Z",
     "iopub.status.idle": "2023-12-28T17:46:07.386772Z",
     "shell.execute_reply.started": "2023-12-28T17:46:07.378397Z",
     "shell.execute_reply": "2023-12-28T17:46:07.385586Z"
    },
    "trusted": true,
    "ExecuteTime": {
     "end_time": "2023-12-28T20:14:59.870960300Z",
     "start_time": "2023-12-28T20:14:58.435708400Z"
    }
   },
   "execution_count": 126,
   "outputs": [],
   "id": "8c824106933d2e30"
  },
  {
   "cell_type": "code",
   "source": [
    "lambda_max, v_max = calculate_eigenvalues_and_eigenvectors(covariance_matrix)\n",
    "\n",
    "print(f\"eigenvalue: {lambda_max}\")\n",
    "print(f\"eigenvector: {v_max}\")"
   ],
   "metadata": {
    "collapsed": false,
    "execution": {
     "iopub.status.busy": "2023-12-28T17:46:07.388235Z",
     "iopub.execute_input": "2023-12-28T17:46:07.388756Z",
     "iopub.status.idle": "2023-12-28T17:46:07.400158Z",
     "shell.execute_reply.started": "2023-12-28T17:46:07.388716Z",
     "shell.execute_reply": "2023-12-28T17:46:07.399243Z"
    },
    "trusted": true,
    "ExecuteTime": {
     "end_time": "2023-12-28T20:14:59.898764500Z",
     "start_time": "2023-12-28T20:14:58.438708600Z"
    }
   },
   "execution_count": 127,
   "outputs": [
    {
     "name": "stdout",
     "output_type": "stream",
     "text": [
      "eigenvalue: 0.31016377217386304\n",
      "eigenvector: [ 0.02917259  0.55113468  0.00737279  0.07943536  0.26694897  0.12656906\n",
      "  0.42715499 -0.07403704  0.16105954  0.24822595 -0.46980378 -0.29074333\n",
      " -0.00421374  0.10831036  0.07356971  0.04643817  0.01173617 -0.01587921\n",
      "  0.02505268 -0.00383269  0.00745119 -0.02452813]\n"
     ]
    }
   ],
   "id": "f0c37394d40049b3"
  },
  {
   "cell_type": "code",
   "source": [
    "eigenvalues, eigenvectors = np.linalg.eig(covariance_matrix)\n",
    "eigenvalues.max()"
   ],
   "metadata": {
    "collapsed": false,
    "execution": {
     "iopub.status.busy": "2023-12-28T17:46:07.401345Z",
     "iopub.execute_input": "2023-12-28T17:46:07.402032Z",
     "iopub.status.idle": "2023-12-28T17:46:07.411248Z",
     "shell.execute_reply.started": "2023-12-28T17:46:07.402003Z",
     "shell.execute_reply": "2023-12-28T17:46:07.410432Z"
    },
    "trusted": true,
    "ExecuteTime": {
     "end_time": "2023-12-28T20:14:59.901772100Z",
     "start_time": "2023-12-28T20:14:58.451266800Z"
    }
   },
   "execution_count": 128,
   "outputs": [
    {
     "data": {
      "text/plain": "0.31016377252658334"
     },
     "execution_count": 128,
     "metadata": {},
     "output_type": "execute_result"
    }
   ],
   "id": "5969be8f5d911021"
  },
  {
   "cell_type": "code",
   "source": [
    "eigenvectors[eigenvalues.argmax()]"
   ],
   "metadata": {
    "collapsed": false,
    "execution": {
     "iopub.status.busy": "2023-12-28T17:46:07.412245Z",
     "iopub.execute_input": "2023-12-28T17:46:07.412981Z",
     "iopub.status.idle": "2023-12-28T17:46:07.419331Z",
     "shell.execute_reply.started": "2023-12-28T17:46:07.412950Z",
     "shell.execute_reply": "2023-12-28T17:46:07.418524Z"
    },
    "trusted": true,
    "ExecuteTime": {
     "end_time": "2023-12-28T20:14:59.903280400Z",
     "start_time": "2023-12-28T20:14:58.461430300Z"
    }
   },
   "execution_count": 129,
   "outputs": [
    {
     "data": {
      "text/plain": "array([-2.91731262e-02, -6.62392985e-03, -2.08239642e-02, -2.05246187e-02,\n       -1.37239871e-02,  8.43817297e-03,  2.69483986e-02,  9.18863766e-03,\n        9.91129190e-01,  9.35854942e-02, -3.12404314e-04, -5.58237085e-03,\n        1.50974773e-07, -2.52839579e-02, -4.00243453e-02, -1.71573744e-02,\n       -2.41568729e-02,  4.50734585e-02, -1.83173992e-02,  5.62350106e-03,\n        2.26493704e-02, -4.73934561e-03])"
     },
     "execution_count": 129,
     "metadata": {},
     "output_type": "execute_result"
    }
   ],
   "id": "24e203ae2fd8888b"
  },
  {
   "cell_type": "code",
   "source": [
    "# Normalize eigenvectors\n",
    "#normalized_eigenvectors = eigenvectors / np.linalg.norm(eigenvectors, axis=0)\n",
    "normalized_eigenvectors = eigenvectors / np.sqrt(np.sum(eigenvectors ** 2, axis=0))\n",
    "\n",
    "# Construct matrix Q\n",
    "Q = normalized_eigenvectors\n",
    "\n",
    "# Print the resulting matrix Q\n",
    "print(f\"Matrix Q:\\n{Q.shape}\")"
   ],
   "metadata": {
    "collapsed": false,
    "execution": {
     "iopub.status.busy": "2023-12-28T17:46:07.420849Z",
     "iopub.execute_input": "2023-12-28T17:46:07.421159Z",
     "iopub.status.idle": "2023-12-28T17:46:07.428164Z",
     "shell.execute_reply.started": "2023-12-28T17:46:07.421131Z",
     "shell.execute_reply": "2023-12-28T17:46:07.427055Z"
    },
    "trusted": true,
    "ExecuteTime": {
     "end_time": "2023-12-28T20:14:59.906793500Z",
     "start_time": "2023-12-28T20:14:58.473430900Z"
    }
   },
   "execution_count": 130,
   "outputs": [
    {
     "name": "stdout",
     "output_type": "stream",
     "text": [
      "Matrix Q:\n",
      "(22, 22)\n"
     ]
    }
   ],
   "id": "658d76bda8fce36e"
  },
  {
   "cell_type": "code",
   "source": [
    "def transform_data(F, Q, num_components):\n",
    "    return F @ Q[:, :num_components]"
   ],
   "metadata": {
    "collapsed": false,
    "execution": {
     "iopub.status.busy": "2023-12-28T17:46:07.429402Z",
     "iopub.execute_input": "2023-12-28T17:46:07.429714Z",
     "iopub.status.idle": "2023-12-28T17:46:07.437668Z",
     "shell.execute_reply.started": "2023-12-28T17:46:07.429685Z",
     "shell.execute_reply": "2023-12-28T17:46:07.436677Z"
    },
    "trusted": true,
    "ExecuteTime": {
     "end_time": "2023-12-28T20:14:59.909311500Z",
     "start_time": "2023-12-28T20:14:58.481492500Z"
    }
   },
   "execution_count": 131,
   "outputs": [],
   "id": "62790e3959e95b32"
  },
  {
   "cell_type": "code",
   "source": [
    "def inverse_transform(x_transformed, Q, num_components):\n",
    "    return x_transformed @ Q[:, :num_components].T + np.mean(x_transformed, axis=0)"
   ],
   "metadata": {
    "collapsed": false,
    "execution": {
     "iopub.status.busy": "2023-12-28T17:46:07.438897Z",
     "iopub.execute_input": "2023-12-28T17:46:07.439206Z",
     "iopub.status.idle": "2023-12-28T17:46:07.448236Z",
     "shell.execute_reply.started": "2023-12-28T17:46:07.439178Z",
     "shell.execute_reply": "2023-12-28T17:46:07.447195Z"
    },
    "trusted": true,
    "ExecuteTime": {
     "end_time": "2023-12-28T20:14:59.934525Z",
     "start_time": "2023-12-28T20:14:58.482497300Z"
    }
   },
   "execution_count": 132,
   "outputs": [],
   "id": "41e3335e3c24e781"
  },
  {
   "cell_type": "code",
   "source": [
    "X_transformed = transform_data(X_centered1, Q, X_centered1.shape[1])"
   ],
   "metadata": {
    "collapsed": false,
    "execution": {
     "iopub.status.busy": "2023-12-28T17:46:07.449520Z",
     "iopub.execute_input": "2023-12-28T17:46:07.449909Z",
     "iopub.status.idle": "2023-12-28T17:46:07.514122Z",
     "shell.execute_reply.started": "2023-12-28T17:46:07.449877Z",
     "shell.execute_reply": "2023-12-28T17:46:07.512812Z"
    },
    "trusted": true,
    "ExecuteTime": {
     "end_time": "2023-12-28T20:14:59.938045300Z",
     "start_time": "2023-12-28T20:14:58.485500800Z"
    }
   },
   "execution_count": 133,
   "outputs": [],
   "id": "2217f8d00ab49ac1"
  },
  {
   "cell_type": "code",
   "source": [
    "X_transformed.shape"
   ],
   "metadata": {
    "collapsed": false,
    "execution": {
     "iopub.status.busy": "2023-12-28T17:46:07.520014Z",
     "iopub.execute_input": "2023-12-28T17:46:07.520615Z",
     "iopub.status.idle": "2023-12-28T17:46:07.536086Z",
     "shell.execute_reply.started": "2023-12-28T17:46:07.520569Z",
     "shell.execute_reply": "2023-12-28T17:46:07.534641Z"
    },
    "trusted": true,
    "ExecuteTime": {
     "end_time": "2023-12-28T20:14:59.960129900Z",
     "start_time": "2023-12-28T20:14:58.505512700Z"
    }
   },
   "execution_count": 134,
   "outputs": [
    {
     "data": {
      "text/plain": "(263537, 22)"
     },
     "execution_count": 134,
     "metadata": {},
     "output_type": "execute_result"
    }
   ],
   "id": "cc517fa12c1d47e5"
  },
  {
   "cell_type": "code",
   "source": [
    "plt.scatter(X_transformed[:, 0], X_transformed[:, 1])"
   ],
   "metadata": {
    "collapsed": false,
    "execution": {
     "iopub.status.busy": "2023-12-28T17:46:07.560615Z",
     "iopub.execute_input": "2023-12-28T17:46:07.561307Z",
     "iopub.status.idle": "2023-12-28T17:46:08.959146Z",
     "shell.execute_reply.started": "2023-12-28T17:46:07.561263Z",
     "shell.execute_reply": "2023-12-28T17:46:08.958396Z"
    },
    "trusted": true,
    "ExecuteTime": {
     "end_time": "2023-12-28T20:14:59.964661500Z",
     "start_time": "2023-12-28T20:14:58.515553200Z"
    }
   },
   "execution_count": 135,
   "outputs": [
    {
     "data": {
      "text/plain": "<matplotlib.collections.PathCollection at 0x7fd2340c6510>"
     },
     "execution_count": 135,
     "metadata": {},
     "output_type": "execute_result"
    },
    {
     "data": {
      "text/plain": "<Figure size 640x480 with 1 Axes>",
      "image/png": "[encoded data removed]"
     },
     "metadata": {},
     "output_type": "display_data"
    }
   ],
   "id": "6832553b0c615d73"
  },
  {
   "cell_type": "code",
   "source": [
    "X_reconstructed = inverse_transform(X_transformed, Q, X_transformed.shape[1])"
   ],
   "metadata": {
    "collapsed": false,
    "execution": {
     "iopub.status.busy": "2023-12-28T17:46:08.960498Z",
     "iopub.execute_input": "2023-12-28T17:46:08.961042Z",
     "iopub.status.idle": "2023-12-28T17:46:09.040862Z",
     "shell.execute_reply.started": "2023-12-28T17:46:08.961010Z",
     "shell.execute_reply": "2023-12-28T17:46:09.039701Z"
    },
    "trusted": true,
    "ExecuteTime": {
     "end_time": "2023-12-28T20:14:59.968187100Z",
     "start_time": "2023-12-28T20:14:58.980693600Z"
    }
   },
   "execution_count": 136,
   "outputs": [],
   "id": "cd83c5ca7c4e1b3"
  },
  {
   "cell_type": "code",
   "source": [
    "X_reconstructed.shape"
   ],
   "metadata": {
    "collapsed": false,
    "execution": {
     "iopub.status.busy": "2023-12-28T17:46:09.042731Z",
     "iopub.execute_input": "2023-12-28T17:46:09.043534Z",
     "iopub.status.idle": "2023-12-28T17:46:09.050820Z",
     "shell.execute_reply.started": "2023-12-28T17:46:09.043486Z",
     "shell.execute_reply": "2023-12-28T17:46:09.049595Z"
    },
    "trusted": true,
    "ExecuteTime": {
     "end_time": "2023-12-28T20:14:59.971707900Z",
     "start_time": "2023-12-28T20:14:59.008411700Z"
    }
   },
   "execution_count": 137,
   "outputs": [
    {
     "data": {
      "text/plain": "(263537, 22)"
     },
     "execution_count": 137,
     "metadata": {},
     "output_type": "execute_result"
    }
   ],
   "id": "9dbd0e23470affb4"
  },
  {
   "cell_type": "code",
   "source": [
    "plt.scatter(X_reconstructed[:, 0], X_reconstructed[:, 1])"
   ],
   "metadata": {
    "collapsed": false,
    "execution": {
     "iopub.status.busy": "2023-12-28T17:46:09.052357Z",
     "iopub.execute_input": "2023-12-28T17:46:09.052881Z",
     "iopub.status.idle": "2023-12-28T17:46:10.413706Z",
     "shell.execute_reply.started": "2023-12-28T17:46:09.052839Z",
     "shell.execute_reply": "2023-12-28T17:46:10.412921Z"
    },
    "trusted": true,
    "ExecuteTime": {
     "end_time": "2023-12-28T20:15:00.034177900Z",
     "start_time": "2023-12-28T20:14:59.012409700Z"
    }
   },
   "execution_count": 138,
   "outputs": [
    {
     "data": {
      "text/plain": "<matplotlib.collections.PathCollection at 0x7fd233f40190>"
     },
     "execution_count": 138,
     "metadata": {},
     "output_type": "execute_result"
    },
    {
     "data": {
      "text/plain": "<Figure size 640x480 with 1 Axes>",
      "image/png": "[encoded data removed]"
     },
     "metadata": {},
     "output_type": "display_data"
    }
   ],
   "id": "fe9597cdf6bcc2d6"
  },
  {
   "cell_type": "code",
   "source": [
    "k_values = range(1, 22)\n",
    "\n",
    "# Initialize variables for tracking the best result\n",
    "best_reconstruction_error = np.inf\n",
    "best_Q_matrix = None\n",
    "best_k = None\n",
    "\n",
    "# Experiment with different numbers of retained components\n",
    "for k in k_values:\n",
    "    # Select the top 'k' normalized eigenvectors\n",
    "    selected_eigenvectors_Q_matrix = normalized_eigenvectors[:, :k]\n",
    "    F_prime1 = np.dot(selected_eigenvectors_Q_matrix.T, X_centered1.T).T\n",
    "\n",
    "    # Compute the inverse of Q (Q^-1)\n",
    "    Q_inverse = selected_eigenvectors_Q_matrix  # Because Q^-1 = Q^T for an orthogonal matrix\n",
    "\n",
    "    reconstructed_F = np.dot(Q_inverse, F_prime1.T) + np.mean(X_centered1, axis=1, keepdims=True).T\n",
    "    reconstructed_F = reconstructed_F.T\n",
    "    # Compute the reconstruction error\n",
    "    reconstruction_error = np.linalg.norm(X_centered1 - reconstructed_F, 'fro')\n",
    "\n",
    "    # Update the best result if needed\n",
    "    if reconstruction_error < best_reconstruction_error:\n",
    "        best_reconstruction_error = reconstruction_error\n",
    "        best_Q_matrix = selected_eigenvectors_Q_matrix\n",
    "        best_k = k\n",
    "        print(f'k:{k}, reconstruction_error:{reconstruction_error}')\n",
    "\n",
    "# Report the best Q matrix, best k, and reconstruction error\n",
    "print(\"Best Q matrix (for the best k={0}):\".format(best_k))\n",
    "#print(best_Q_matrix)\n",
    "\n",
    "print(\"\\nReconstruction Error with the Best Q matrix:\")\n",
    "print(best_reconstruction_error)"
   ],
   "metadata": {
    "collapsed": false,
    "execution": {
     "iopub.status.busy": "2023-12-28T17:46:10.414691Z",
     "iopub.execute_input": "2023-12-28T17:46:10.415524Z",
     "iopub.status.idle": "2023-12-28T17:46:12.865433Z",
     "shell.execute_reply.started": "2023-12-28T17:46:10.415492Z",
     "shell.execute_reply": "2023-12-28T17:46:12.864109Z"
    },
    "trusted": true,
    "ExecuteTime": {
     "end_time": "2023-12-28T20:15:00.765025100Z",
     "start_time": "2023-12-28T20:14:59.488945200Z"
    }
   },
   "execution_count": 139,
   "outputs": [
    {
     "name": "stdout",
     "output_type": "stream",
     "text": [
      "k:1, reconstruction_error:655.4170518321434\n",
      "k:2, reconstruction_error:605.87405280422\n",
      "k:3, reconstruction_error:553.323031472281\n",
      "k:4, reconstruction_error:506.08866280781604\n",
      "k:5, reconstruction_error:483.75947546988255\n",
      "k:6, reconstruction_error:450.1440472091328\n",
      "k:7, reconstruction_error:418.59088173627885\n",
      "k:8, reconstruction_error:387.47660737127717\n",
      "k:9, reconstruction_error:385.91918043064544\n",
      "k:10, reconstruction_error:384.7443918907483\n",
      "k:11, reconstruction_error:357.1283822758431\n",
      "k:12, reconstruction_error:330.18588782241386\n",
      "k:14, reconstruction_error:323.36242505532897\n",
      "k:15, reconstruction_error:313.25520041562004\n",
      "k:16, reconstruction_error:288.0654809570353\n",
      "k:17, reconstruction_error:263.03048003310937\n",
      "k:18, reconstruction_error:250.49256473952207\n",
      "k:19, reconstruction_error:227.53811795649722\n",
      "k:20, reconstruction_error:204.86861180662765\n",
      "k:21, reconstruction_error:177.58004993512958\n",
      "Best Q matrix (for the best k=21):\n",
      "\n",
      "Reconstruction Error with the Best Q matrix:\n",
      "177.58004993512958\n"
     ]
    }
   ],
   "id": "ea6f89be8f92c26c"
  },
  {
   "cell_type": "code",
   "source": [
    "best_Q_matrix.shape"
   ],
   "metadata": {
    "collapsed": false,
    "execution": {
     "iopub.status.busy": "2023-12-28T17:46:12.867447Z",
     "iopub.execute_input": "2023-12-28T17:46:12.868178Z",
     "iopub.status.idle": "2023-12-28T17:46:12.875750Z",
     "shell.execute_reply.started": "2023-12-28T17:46:12.868124Z",
     "shell.execute_reply": "2023-12-28T17:46:12.874719Z"
    },
    "trusted": true,
    "ExecuteTime": {
     "end_time": "2023-12-28T20:15:00.787505900Z",
     "start_time": "2023-12-28T20:15:00.550640400Z"
    }
   },
   "execution_count": 140,
   "outputs": [
    {
     "data": {
      "text/plain": "(22, 21)"
     },
     "execution_count": 140,
     "metadata": {},
     "output_type": "execute_result"
    }
   ],
   "id": "3bb3bad396aafef2"
  },
  {
   "cell_type": "code",
   "source": [
    "# Specify the number of components to retain\n",
    "k = 21  # Set the desired number of components here\n",
    "\n",
    "# Select the top 'k' normalized eigenvectors\n",
    "selected_eigenvectors_Q_matrix = normalized_eigenvectors[:, :k]\n",
    "\n",
    "# Step 3: Compute the transformed matrix Q^T * F_c\n",
    "F_prime1 = np.dot(selected_eigenvectors_Q_matrix.T, X_centered1.T).T\n",
    "\n",
    "# F_prime now contains the transformed data"
   ],
   "metadata": {
    "collapsed": false,
    "execution": {
     "iopub.status.busy": "2023-12-28T17:46:12.877616Z",
     "iopub.execute_input": "2023-12-28T17:46:12.878452Z",
     "iopub.status.idle": "2023-12-28T17:46:12.936702Z",
     "shell.execute_reply.started": "2023-12-28T17:46:12.878411Z",
     "shell.execute_reply": "2023-12-28T17:46:12.935542Z"
    },
    "trusted": true,
    "ExecuteTime": {
     "end_time": "2023-12-28T20:15:00.790094100Z",
     "start_time": "2023-12-28T20:15:00.554687400Z"
    }
   },
   "execution_count": 141,
   "outputs": [],
   "id": "1f34516756fc6639"
  },
  {
   "cell_type": "code",
   "source": [
    "F_prime1.shape"
   ],
   "metadata": {
    "collapsed": false,
    "execution": {
     "iopub.status.busy": "2023-12-28T17:46:12.938530Z",
     "iopub.execute_input": "2023-12-28T17:46:12.939282Z",
     "iopub.status.idle": "2023-12-28T17:46:12.946703Z",
     "shell.execute_reply.started": "2023-12-28T17:46:12.939240Z",
     "shell.execute_reply": "2023-12-28T17:46:12.945523Z"
    },
    "trusted": true,
    "ExecuteTime": {
     "end_time": "2023-12-28T20:15:00.792604900Z",
     "start_time": "2023-12-28T20:15:00.583492Z"
    }
   },
   "execution_count": 142,
   "outputs": [
    {
     "data": {
      "text/plain": "(263537, 21)"
     },
     "execution_count": 142,
     "metadata": {},
     "output_type": "execute_result"
    }
   ],
   "id": "645791fe28b31a23"
  },
  {
   "cell_type": "code",
   "source": [
    "Q_inverse = selected_eigenvectors_Q_matrix  # Because Q^-1 = Q^T for an orthogonal matrix\n",
    "\n",
    "# Step 2: Reconstruct the original matrix F\n",
    "reconstructed_F = np.dot(Q_inverse, F_prime1.T) + np.mean(X_centered1, axis=1, keepdims=True).T\n",
    "reconstructed_F = reconstructed_F.T\n",
    "# reconstructed_F now contains the reconstructed original matrix"
   ],
   "metadata": {
    "collapsed": false,
    "execution": {
     "iopub.status.busy": "2023-12-28T17:46:12.948503Z",
     "iopub.execute_input": "2023-12-28T17:46:12.948992Z",
     "iopub.status.idle": "2023-12-28T17:46:13.016259Z",
     "shell.execute_reply.started": "2023-12-28T17:46:12.948953Z",
     "shell.execute_reply": "2023-12-28T17:46:13.014923Z"
    },
    "trusted": true,
    "ExecuteTime": {
     "end_time": "2023-12-28T20:15:00.818933700Z",
     "start_time": "2023-12-28T20:15:00.587523100Z"
    }
   },
   "execution_count": 143,
   "outputs": [],
   "id": "831970e6e8c589fb"
  },
  {
   "cell_type": "code",
   "source": [
    "Q_inverse.shape"
   ],
   "metadata": {
    "collapsed": false,
    "execution": {
     "iopub.status.busy": "2023-12-28T17:46:13.017922Z",
     "iopub.execute_input": "2023-12-28T17:46:13.018803Z",
     "iopub.status.idle": "2023-12-28T17:46:13.026052Z",
     "shell.execute_reply.started": "2023-12-28T17:46:13.018760Z",
     "shell.execute_reply": "2023-12-28T17:46:13.024869Z"
    },
    "trusted": true,
    "ExecuteTime": {
     "end_time": "2023-12-28T20:15:00.821940Z",
     "start_time": "2023-12-28T20:15:00.614648600Z"
    }
   },
   "execution_count": 144,
   "outputs": [
    {
     "data": {
      "text/plain": "(22, 21)"
     },
     "execution_count": 144,
     "metadata": {},
     "output_type": "execute_result"
    }
   ],
   "id": "e82f29cfe1ae2b0"
  },
  {
   "cell_type": "code",
   "source": [
    "reconstructed_F.shape"
   ],
   "metadata": {
    "collapsed": false,
    "execution": {
     "iopub.status.busy": "2023-12-28T17:46:13.027766Z",
     "iopub.execute_input": "2023-12-28T17:46:13.028661Z",
     "iopub.status.idle": "2023-12-28T17:46:13.037752Z",
     "shell.execute_reply.started": "2023-12-28T17:46:13.028621Z",
     "shell.execute_reply": "2023-12-28T17:46:13.036656Z"
    },
    "trusted": true,
    "ExecuteTime": {
     "end_time": "2023-12-28T20:15:00.840291400Z",
     "start_time": "2023-12-28T20:15:00.618667100Z"
    }
   },
   "execution_count": 145,
   "outputs": [
    {
     "data": {
      "text/plain": "(263537, 22)"
     },
     "execution_count": 145,
     "metadata": {},
     "output_type": "execute_result"
    }
   ],
   "id": "583e61fa3f59edb1"
  },
  {
   "cell_type": "markdown",
   "source": [
    "# Fuzzy C-Means Clustering after Applying PCA with Best Q_matrix"
   ],
   "metadata": {},
   "id": "1dab11deab81ba9d"
  },
  {
   "cell_type": "code",
   "source": [
    "num_clusters = 2\n",
    "fuzziness = 2\n",
    "membership_matrix, centroids = fuzzy_c_means(F_prime1, num_clusters, fuzziness)"
   ],
   "metadata": {
    "execution": {
     "iopub.status.busy": "2023-12-28T17:58:20.375269Z",
     "iopub.execute_input": "2023-12-28T17:58:20.375780Z",
     "iopub.status.idle": "2023-12-28T17:58:23.224213Z",
     "shell.execute_reply.started": "2023-12-28T17:58:20.375734Z",
     "shell.execute_reply": "2023-12-28T17:58:23.223016Z"
    },
    "trusted": true,
    "ExecuteTime": {
     "end_time": "2023-12-28T20:15:01.964368400Z",
     "start_time": "2023-12-28T20:15:00.622689300Z"
    }
   },
   "execution_count": 146,
   "outputs": [],
   "id": "81b0b4cc403f72e8"
  },
  {
   "cell_type": "code",
   "outputs": [
    {
     "data": {
      "text/plain": "array([[0.50000006, 0.49999994],\n       [0.49999938, 0.50000062],\n       [0.5000003 , 0.4999997 ],\n       ...,\n       [0.50000028, 0.49999972],\n       [0.49999969, 0.50000031],\n       [0.49999973, 0.50000027]])"
     },
     "execution_count": 147,
     "metadata": {},
     "output_type": "execute_result"
    }
   ],
   "source": [
    "# Final Membership Matrix:\n",
    "membership_matrix"
   ],
   "metadata": {
    "collapsed": false,
    "ExecuteTime": {
     "end_time": "2023-12-28T20:15:01.970920200Z",
     "start_time": "2023-12-28T20:15:01.966893600Z"
    }
   },
   "id": "1e6815d17fa0244c",
   "execution_count": 147
  },
  {
   "cell_type": "code",
   "outputs": [
    {
     "data": {
      "text/plain": "array([[-5.37245069e-07,  5.89350704e-07, -2.39365851e-07,\n         1.22814515e-07, -5.14607067e-09, -1.03999574e-08,\n        -1.90992506e-08, -5.07837852e-08,  1.05493110e-08,\n         5.69210759e-08, -3.95120533e-09,  1.39589554e-10,\n        -5.57570664e-09,  3.06541698e-09,  5.90267752e-09,\n         1.19447297e-08,  1.20409408e-08, -2.30832446e-09,\n        -2.86516996e-09,  7.28721373e-10,  2.76228206e-10],\n       [ 5.19512866e-07, -5.98785789e-07,  2.29098199e-07,\n        -1.10714285e-07, -1.84203389e-08, -1.57958444e-08,\n        -2.35662710e-08,  5.42804777e-08,  4.45396557e-09,\n         5.64064650e-08, -1.21665966e-08,  2.16375716e-09,\n        -5.57577762e-09, -5.87877146e-09, -4.66563070e-09,\n         2.32985083e-08,  1.27623116e-08, -1.73619691e-08,\n        -1.94753414e-08, -3.21244395e-09, -9.86094896e-09]])"
     },
     "execution_count": 148,
     "metadata": {},
     "output_type": "execute_result"
    }
   ],
   "source": [
    "# Final Centroids:\n",
    "centroids"
   ],
   "metadata": {
    "collapsed": false,
    "ExecuteTime": {
     "end_time": "2023-12-28T20:15:01.992044300Z",
     "start_time": "2023-12-28T20:15:01.969915500Z"
    }
   },
   "id": "28e960b9b05031eb",
   "execution_count": 148
  },
  {
   "cell_type": "code",
   "source": [
    "centroids.shape"
   ],
   "metadata": {
    "execution": {
     "iopub.status.busy": "2023-12-28T17:46:15.895345Z",
     "iopub.execute_input": "2023-12-28T17:46:15.896180Z",
     "iopub.status.idle": "2023-12-28T17:46:15.906631Z",
     "shell.execute_reply.started": "2023-12-28T17:46:15.896132Z",
     "shell.execute_reply": "2023-12-28T17:46:15.905198Z"
    },
    "trusted": true,
    "ExecuteTime": {
     "end_time": "2023-12-28T20:15:02.030503500Z",
     "start_time": "2023-12-28T20:15:01.977940Z"
    }
   },
   "execution_count": 149,
   "outputs": [
    {
     "data": {
      "text/plain": "(2, 21)"
     },
     "execution_count": 149,
     "metadata": {},
     "output_type": "execute_result"
    }
   ],
   "id": "a6b2295128fbace0"
  },
  {
   "cell_type": "code",
   "source": [
    "membership_matrix.shape "
   ],
   "metadata": {
    "execution": {
     "iopub.status.busy": "2023-12-28T17:46:15.909212Z",
     "iopub.execute_input": "2023-12-28T17:46:15.910950Z",
     "iopub.status.idle": "2023-12-28T17:46:15.924775Z",
     "shell.execute_reply.started": "2023-12-28T17:46:15.910901Z",
     "shell.execute_reply": "2023-12-28T17:46:15.923629Z"
    },
    "trusted": true,
    "ExecuteTime": {
     "end_time": "2023-12-28T20:15:02.065029200Z",
     "start_time": "2023-12-28T20:15:01.989019100Z"
    }
   },
   "execution_count": 150,
   "outputs": [
    {
     "data": {
      "text/plain": "(263537, 2)"
     },
     "execution_count": 150,
     "metadata": {},
     "output_type": "execute_result"
    }
   ],
   "id": "186d0b25c7b0a108"
  },
  {
   "cell_type": "markdown",
   "source": [
    "# data2"
   ],
   "metadata": {
    "collapsed": false
   },
   "id": "2c403f78743e1193"
  },
  {
   "cell_type": "code",
   "outputs": [],
   "source": [
    "X_centered2 = preprocess(data2)"
   ],
   "metadata": {
    "collapsed": false,
    "ExecuteTime": {
     "end_time": "2023-12-28T20:15:02.082333600Z",
     "start_time": "2023-12-28T20:15:02.006631200Z"
    }
   },
   "id": "ac61ff2875935403",
   "execution_count": 151
  },
  {
   "cell_type": "code",
   "outputs": [],
   "source": [
    "covariance_matrix = np.dot(X_centered2.T, X_centered2) / len(X_centered2)"
   ],
   "metadata": {
    "collapsed": false,
    "ExecuteTime": {
     "end_time": "2023-12-28T20:15:02.084330400Z",
     "start_time": "2023-12-28T20:15:02.009147400Z"
    }
   },
   "id": "ff605304a702b192",
   "execution_count": 152
  },
  {
   "cell_type": "code",
   "outputs": [
    {
     "data": {
      "text/plain": "<matplotlib.collections.PathCollection at 0x7fd2340e8810>"
     },
     "execution_count": 153,
     "metadata": {},
     "output_type": "execute_result"
    },
    {
     "data": {
      "text/plain": "<Figure size 640x480 with 1 Axes>",
      "image/png": "[encoded data removed]"
     },
     "metadata": {},
     "output_type": "display_data"
    }
   ],
   "source": [
    "plt.scatter(X_centered2[:, 0], X_centered2[:, 1])"
   ],
   "metadata": {
    "collapsed": false,
    "ExecuteTime": {
     "end_time": "2023-12-28T20:15:02.206571700Z",
     "start_time": "2023-12-28T20:15:02.018212500Z"
    }
   },
   "id": "a7472e3e03a316ae",
   "execution_count": 153
  },
  {
   "cell_type": "code",
   "outputs": [],
   "source": [
    "eigenvalues, eigenvectors = np.linalg.eig(covariance_matrix)"
   ],
   "metadata": {
    "collapsed": false,
    "ExecuteTime": {
     "end_time": "2023-12-28T20:15:02.209585Z",
     "start_time": "2023-12-28T20:15:02.126343100Z"
    }
   },
   "id": "fbe69deb6918fe44",
   "execution_count": 154
  },
  {
   "cell_type": "code",
   "outputs": [
    {
     "name": "stdout",
     "output_type": "stream",
     "text": [
      "Matrix Q:\n",
      "(9, 9)\n"
     ]
    }
   ],
   "source": [
    "# Normalize eigenvectors\n",
    "#normalized_eigenvectors = eigenvectors / np.linalg.norm(eigenvectors, axis=0)\n",
    "normalized_eigenvectors = eigenvectors / np.sqrt(np.sum(eigenvectors ** 2, axis=0))\n",
    "\n",
    "# Construct matrix Q\n",
    "Q = normalized_eigenvectors\n",
    "\n",
    "# Print the resulting matrix Q\n",
    "print(f\"Matrix Q:\\n{Q.shape}\")"
   ],
   "metadata": {
    "collapsed": false,
    "ExecuteTime": {
     "end_time": "2023-12-28T20:15:02.226624100Z",
     "start_time": "2023-12-28T20:15:02.129873800Z"
    }
   },
   "id": "afcca06a8e5e8b2c",
   "execution_count": 155
  },
  {
   "cell_type": "code",
   "outputs": [],
   "source": [
    "X_transformed = transform_data(X_centered2, Q, X_centered2.shape[1])"
   ],
   "metadata": {
    "collapsed": false,
    "ExecuteTime": {
     "end_time": "2023-12-28T20:15:02.229133500Z",
     "start_time": "2023-12-28T20:15:02.134392600Z"
    }
   },
   "id": "e6e241a8666edfcf",
   "execution_count": 156
  },
  {
   "cell_type": "code",
   "outputs": [
    {
     "data": {
      "text/plain": "(214, 9)"
     },
     "execution_count": 157,
     "metadata": {},
     "output_type": "execute_result"
    }
   ],
   "source": [
    "X_transformed.shape"
   ],
   "metadata": {
    "collapsed": false,
    "ExecuteTime": {
     "end_time": "2023-12-28T20:15:02.231133600Z",
     "start_time": "2023-12-28T20:15:02.140429900Z"
    }
   },
   "id": "a2612d1c6625554a",
   "execution_count": 157
  },
  {
   "cell_type": "code",
   "outputs": [
    {
     "data": {
      "text/plain": "<matplotlib.collections.PathCollection at 0x7fd20ef0b3d0>"
     },
     "execution_count": 158,
     "metadata": {},
     "output_type": "execute_result"
    },
    {
     "data": {
      "text/plain": "<Figure size 640x480 with 1 Axes>",
      "image/png": "[encoded data removed]"
     },
     "metadata": {},
     "output_type": "display_data"
    }
   ],
   "source": [
    "plt.scatter(X_transformed[:, 0], X_transformed[:, 1])"
   ],
   "metadata": {
    "collapsed": false,
    "ExecuteTime": {
     "end_time": "2023-12-28T20:15:02.356908100Z",
     "start_time": "2023-12-28T20:15:02.152088800Z"
    }
   },
   "id": "2246b6a9e188f767",
   "execution_count": 158
  },
  {
   "cell_type": "code",
   "outputs": [],
   "source": [
    "X_reconstructed = inverse_transform(X_transformed, Q, X_transformed.shape[1])"
   ],
   "metadata": {
    "collapsed": false,
    "ExecuteTime": {
     "end_time": "2023-12-28T20:15:02.359422400Z",
     "start_time": "2023-12-28T20:15:02.258181Z"
    }
   },
   "id": "23e71fea7606f2b3",
   "execution_count": 159
  },
  {
   "cell_type": "code",
   "outputs": [
    {
     "data": {
      "text/plain": "(214, 9)"
     },
     "execution_count": 160,
     "metadata": {},
     "output_type": "execute_result"
    }
   ],
   "source": [
    "X_reconstructed.shape"
   ],
   "metadata": {
    "collapsed": false,
    "ExecuteTime": {
     "end_time": "2023-12-28T20:15:02.373427900Z",
     "start_time": "2023-12-28T20:15:02.259691400Z"
    }
   },
   "id": "218555e41f934597",
   "execution_count": 160
  },
  {
   "cell_type": "code",
   "outputs": [
    {
     "data": {
      "text/plain": "<matplotlib.collections.PathCollection at 0x7fd20ef98a10>"
     },
     "execution_count": 161,
     "metadata": {},
     "output_type": "execute_result"
    },
    {
     "data": {
      "text/plain": "<Figure size 640x480 with 1 Axes>",
      "image/png": "[encoded data removed]"
     },
     "metadata": {},
     "output_type": "display_data"
    }
   ],
   "source": [
    "plt.scatter(X_reconstructed[:, 0], X_reconstructed[:, 1])"
   ],
   "metadata": {
    "collapsed": false,
    "ExecuteTime": {
     "end_time": "2023-12-28T20:15:02.440998300Z",
     "start_time": "2023-12-28T20:15:02.272202400Z"
    }
   },
   "id": "a0e3248234bdb7a8",
   "execution_count": 161
  },
  {
   "cell_type": "code",
   "outputs": [
    {
     "name": "stdout",
     "output_type": "stream",
     "text": [
      "k:1, reconstruction_error:5.4867494987585514\n",
      "k:2, reconstruction_error:4.472894019953367\n",
      "k:3, reconstruction_error:3.7966566821862218\n",
      "k:4, reconstruction_error:3.02376690796303\n",
      "k:5, reconstruction_error:2.996845748169827\n",
      "k:7, reconstruction_error:2.737042963688759\n",
      "k:8, reconstruction_error:2.267845329714804\n",
      "Best Q matrix (for the best k=8):\n",
      "\n",
      "Reconstruction Error with the Best Q matrix:\n",
      "2.267845329714804\n"
     ]
    }
   ],
   "source": [
    "k_values = range(1, data2.shape[1])\n",
    "\n",
    "# Initialize variables for tracking the best result\n",
    "best_reconstruction_error = np.inf\n",
    "best_Q_matrix = None\n",
    "best_k = None\n",
    "\n",
    "# Experiment with different numbers of retained components\n",
    "for k in k_values:\n",
    "    # Select the top 'k' normalized eigenvectors\n",
    "    selected_eigenvectors_Q_matrix = normalized_eigenvectors[:, :k]\n",
    "    F_prime2 = np.dot(selected_eigenvectors_Q_matrix.T, X_centered2.T).T\n",
    "\n",
    "    # Compute the inverse of Q (Q^-1)\n",
    "    Q_inverse = selected_eigenvectors_Q_matrix  # Because Q^-1 = Q^T for an orthogonal matrix\n",
    "\n",
    "    reconstructed_F = np.dot(Q_inverse, F_prime2.T) + np.mean(X_centered2, axis=1, keepdims=True).T\n",
    "    reconstructed_F = reconstructed_F.T\n",
    "    # Compute the reconstruction error\n",
    "    reconstruction_error = np.linalg.norm(X_centered2 - reconstructed_F, 'fro')\n",
    "\n",
    "    # Update the best result if needed\n",
    "    if reconstruction_error < best_reconstruction_error:\n",
    "        best_reconstruction_error = reconstruction_error\n",
    "        best_Q_matrix = selected_eigenvectors_Q_matrix\n",
    "        best_k = k\n",
    "        print(f'k:{k}, reconstruction_error:{reconstruction_error}')\n",
    "\n",
    "# Report the best Q matrix, best k, and reconstruction error\n",
    "print(\"Best Q matrix (for the best k={0}):\".format(best_k))\n",
    "#print(best_Q_matrix)\n",
    "\n",
    "print(\"\\nReconstruction Error with the Best Q matrix:\")\n",
    "print(best_reconstruction_error)"
   ],
   "metadata": {
    "collapsed": false,
    "ExecuteTime": {
     "end_time": "2023-12-28T20:18:29.359446200Z",
     "start_time": "2023-12-28T20:18:29.069640300Z"
    }
   },
   "id": "991e1ab3b7dc8a5f",
   "execution_count": 174
  },
  {
   "cell_type": "code",
   "outputs": [
    {
     "data": {
      "text/plain": "(9, 8)"
     },
     "execution_count": 175,
     "metadata": {},
     "output_type": "execute_result"
    }
   ],
   "source": [
    "best_Q_matrix.shape"
   ],
   "metadata": {
    "collapsed": false,
    "ExecuteTime": {
     "end_time": "2023-12-28T20:19:14.333986900Z",
     "start_time": "2023-12-28T20:19:14.320473600Z"
    }
   },
   "id": "867cafb39421a489",
   "execution_count": 175
  },
  {
   "cell_type": "code",
   "outputs": [],
   "source": [
    "# Specify the number of components to retain\n",
    "k = 8  # Set the desired number of components here\n",
    "\n",
    "# Select the top 'k' normalized eigenvectors\n",
    "selected_eigenvectors_Q_matrix = normalized_eigenvectors[:, :k]\n",
    "\n",
    "# Step 3: Compute the transformed matrix Q^T * F_c\n",
    "F_prime2 = np.dot(selected_eigenvectors_Q_matrix.T, X_centered2.T).T"
   ],
   "metadata": {
    "collapsed": false,
    "ExecuteTime": {
     "end_time": "2023-12-28T20:19:29.136415800Z",
     "start_time": "2023-12-28T20:19:29.064210700Z"
    }
   },
   "id": "6b0f0769f2e57f22",
   "execution_count": 176
  },
  {
   "cell_type": "code",
   "outputs": [
    {
     "data": {
      "text/plain": "(214, 8)"
     },
     "execution_count": 177,
     "metadata": {},
     "output_type": "execute_result"
    }
   ],
   "source": [
    "F_prime2.shape # number of samples x reduced festure"
   ],
   "metadata": {
    "collapsed": false,
    "ExecuteTime": {
     "end_time": "2023-12-28T20:19:30.245514900Z",
     "start_time": "2023-12-28T20:19:30.213489600Z"
    }
   },
   "id": "efd1f80ed3eda608",
   "execution_count": 177
  },
  {
   "cell_type": "code",
   "outputs": [],
   "source": [
    "Q_inverse = selected_eigenvectors_Q_matrix  # Because Q^-1 = Q^T for an orthogonal matrix\n",
    "\n",
    "# Step 2: Reconstruct the original matrix F\n",
    "reconstructed_F = np.dot(Q_inverse, F_prime2.T) + np.mean(X_centered2, axis=1, keepdims=True).T\n",
    "reconstructed_F = reconstructed_F.T"
   ],
   "metadata": {
    "collapsed": false,
    "ExecuteTime": {
     "end_time": "2023-12-28T20:20:17.510898400Z",
     "start_time": "2023-12-28T20:20:17.406763200Z"
    }
   },
   "id": "d134cf0dcbddbdc3",
   "execution_count": 179
  },
  {
   "cell_type": "code",
   "outputs": [
    {
     "data": {
      "text/plain": "(9, 8)"
     },
     "execution_count": 180,
     "metadata": {},
     "output_type": "execute_result"
    }
   ],
   "source": [
    "Q_inverse.shape"
   ],
   "metadata": {
    "collapsed": false,
    "ExecuteTime": {
     "end_time": "2023-12-28T20:20:17.562627900Z",
     "start_time": "2023-12-28T20:20:17.510898400Z"
    }
   },
   "id": "a1995515b789bf1b",
   "execution_count": 180
  },
  {
   "cell_type": "code",
   "outputs": [
    {
     "data": {
      "text/plain": "(214, 9)"
     },
     "execution_count": 181,
     "metadata": {},
     "output_type": "execute_result"
    }
   ],
   "source": [
    "reconstructed_F.shape"
   ],
   "metadata": {
    "collapsed": false,
    "ExecuteTime": {
     "end_time": "2023-12-28T20:20:17.613259400Z",
     "start_time": "2023-12-28T20:20:17.561622300Z"
    }
   },
   "id": "23911068dd0357d7",
   "execution_count": 181
  },
  {
   "cell_type": "code",
   "outputs": [],
   "source": [
    "num_clusters = 7\n",
    "fuzziness = 2\n",
    "membership_matrix, centroids = fuzzy_c_means(F_prime2, num_clusters, fuzziness)"
   ],
   "metadata": {
    "collapsed": false,
    "ExecuteTime": {
     "end_time": "2023-12-28T20:20:45.628700800Z",
     "start_time": "2023-12-28T20:20:44.688575300Z"
    }
   },
   "id": "3bc8fb3c56870ec0",
   "execution_count": 187
  },
  {
   "cell_type": "code",
   "outputs": [
    {
     "data": {
      "text/plain": "array([[0.16446144, 0.47862181, 0.18453457, ..., 0.06797413, 0.01797337,\n        0.06334001],\n       [0.17661595, 0.07838286, 0.64296762, ..., 0.03545279, 0.00978559,\n        0.04595722],\n       [0.15458805, 0.04865109, 0.6962995 , ..., 0.03614122, 0.0102045 ,\n        0.04369823],\n       ...,\n       [0.04616461, 0.03895382, 0.04644136, ..., 0.03839846, 0.61166202,\n        0.09964802],\n       [0.03023154, 0.02400521, 0.030951  , ..., 0.02524479, 0.75460599,\n        0.0643408 ],\n       [0.03389396, 0.02735633, 0.03435186, ..., 0.02843791, 0.72800851,\n        0.07074761]])"
     },
     "execution_count": 188,
     "metadata": {},
     "output_type": "execute_result"
    }
   ],
   "source": [
    "# Final Membership Matrix:\n",
    "membership_matrix"
   ],
   "metadata": {
    "collapsed": false,
    "ExecuteTime": {
     "end_time": "2023-12-28T20:20:45.710763600Z",
     "start_time": "2023-12-28T20:20:45.629700900Z"
    }
   },
   "id": "349bca305024242a",
   "execution_count": 188
  },
  {
   "cell_type": "code",
   "outputs": [
    {
     "data": {
      "text/plain": "array([[-0.18183423,  0.00238083,  0.06672313, -0.0034398 , -0.00222611,\n         0.00235364,  0.00706746,  0.00665435],\n       [-0.22908944, -0.13415461, -0.17710108,  0.14340403, -0.00387464,\n         0.00203917, -0.02322952,  0.0455647 ],\n       [-0.19231725,  0.10945818, -0.0695647 , -0.03182184,  0.00282797,\n        -0.00167308,  0.00510627, -0.03710371],\n       [ 0.53849923, -0.27095838, -0.17420581, -0.10004993,  0.01844495,\n        -0.00147401, -0.01412694,  0.05530766],\n       [-0.19751767, -0.11769546,  0.29918363, -0.09003457,  0.00657646,\n         0.00090661, -0.01355762,  0.00112878],\n       [ 0.69327921,  0.19257699,  0.05227072,  0.01797685, -0.0016161 ,\n         0.00162612,  0.04843298, -0.00332356],\n       [ 0.17161727, -0.03295176, -0.05782196,  0.00505096, -0.00079816,\n         0.00092224,  0.03606454,  0.03362367]])"
     },
     "execution_count": 189,
     "metadata": {},
     "output_type": "execute_result"
    }
   ],
   "source": [
    "# Final Centroids:\n",
    "centroids   "
   ],
   "metadata": {
    "collapsed": false,
    "ExecuteTime": {
     "end_time": "2023-12-28T20:20:45.754300700Z",
     "start_time": "2023-12-28T20:20:45.682748100Z"
    }
   },
   "id": "8b806e89dcf80c94",
   "execution_count": 189
  },
  {
   "cell_type": "code",
   "outputs": [
    {
     "data": {
      "text/plain": "(7, 8)"
     },
     "execution_count": 190,
     "metadata": {},
     "output_type": "execute_result"
    }
   ],
   "source": [
    "centroids.shape"
   ],
   "metadata": {
    "collapsed": false,
    "ExecuteTime": {
     "end_time": "2023-12-28T20:20:45.812946500Z",
     "start_time": "2023-12-28T20:20:45.732283600Z"
    }
   },
   "id": "ae10df164ec97a35",
   "execution_count": 190
  },
  {
   "cell_type": "code",
   "outputs": [
    {
     "data": {
      "text/plain": "(214, 7)"
     },
     "execution_count": 191,
     "metadata": {},
     "output_type": "execute_result"
    }
   ],
   "source": [
    "membership_matrix.shape"
   ],
   "metadata": {
    "collapsed": false,
    "ExecuteTime": {
     "end_time": "2023-12-28T20:20:45.855525200Z",
     "start_time": "2023-12-28T20:20:45.780917600Z"
    }
   },
   "id": "59dab52ceb6eafef",
   "execution_count": 191
  },
  {
   "cell_type": "markdown",
   "source": [
    "\n",
    "# Report for Phase 1\n",
    "- Input Data is 22 features and 319,795 samples\n",
    "- The Output of covariance matrix is 22x22 features (We used two different methods to compute the covariance matrix, and we obtained the same results)\n",
    "- eigenvalues are 22 eigenvalues and eigenvectors are 22x22 features (We used the built-in method and from scratch method to compute the eigenvalues and eigenvectors, and we obtained the same results)\n",
    "- We created the matrix Q by sorting the normalized eigenvectors in descending order of eigenvalues.\n",
    "- We tried different numbers of components (k), and the best result is 21. Because the reconstruction error is the lowest.\n",
    "- Best reconstruction error 1625.209 (From 5171.140 to 1625.209)\n",
    "- We transformed the original matrix [ F' = Q (F - m)] to the transformed matrix and reconstructed the transformed matrix (inverse) [F = (Q - 1 * F') + m].\n",
    "- We truncated matrix Q (take some values) from Q, then the new F length is smaller than old (Reduce dimensionality).\n",
    "- The code iterates over different numbers of retained components (k_values) and reconstructs the data using the selected principal components. The reconstruction error is computed for each iteration.\n",
    "- Best Results The best results are reported based on the minimum reconstruction error. The optimal number of retained components (best_k), the corresponding Q matrix (best_Q_matrix), and the minimum reconstruction error are printed.\n",
    "- This report provides insights into the analysis, including the sorted eigenvalues and eigenvectors, the normalization of eigenvectors, and the determination of the best reconstruction using PCA. The output will show the best Q matrix, the optimal number of retained components, and the associated reconstruction error.\n",
    "---\n"
   ],
   "metadata": {},
   "id": "d5a3fa6fb5cb4a2f"
  },
  {
   "cell_type": "markdown",
   "source": [
    "* # Report for phase 2\n",
    "\n",
    "\n",
    "* \"When employing PCA in conjunction with Fuzzy C-means clustering, it appears that the algorithm converges more efficiently, displaying a notable improvement in convergence quality compared to using the entire (all) dataset. This observation is particularly evident when the dataset is smaller and simpler than our own.\"\n",
    "\n",
    "\n",
    "\n",
    " \n",
    "\n",
    "\n",
    "* Fuzzy C-mean (FCM): \n",
    "* Dividing the data points to set of clusters using membership function between each point in the dataset and all clusters centroids.\n",
    "* A particular data of the set may be the member of several clusters with different values of membership.\n",
    "* Input for FCM: Data , C (number of clusters)\n",
    "* Output for FCM: Mij(Membership matrix) , Cj (cluster centroid) [1 <=j<= C], [1<=i<=n]\n",
    "  \n",
    "\n",
    "* steps for Fuzzy C-mean (FCM):\n",
    "1. Assume the number of clusters to be made C. Such that: 2<=C<=N (N: # of samples)\n",
    "2. Choose an appropriate level of cluster fuzziness g  Such that: g > 1\n",
    "3. Initialize the NxC sized membership matrix [M] at random such that: (a) Mij∈ [0.0 ,1.0] and there sum should be 1\n",
    "4. Compute centroids\n",
    "5. Calculate the Euclidean distance between each data point i-th and j-th cluster center dij\n",
    "6. Update fuzzy membership matrix[M] according to dij\n",
    "7. Repeat until the changes in [M] come out to be less than some pre-specified values.\n",
    "\n",
    "\n",
    " \n",
    "\n",
    "\n",
    "\n",
    "\n"
   ],
   "metadata": {},
   "id": "b94b8d62a69d466"
  },
  {
   "cell_type": "markdown",
   "source": [
    "## We used two datasets\n",
    "### the first one has a low correlation, so the updated membership matrix was converging very slowly (more iterations).\n",
    "### the second one has a high relative correlation, so the updated membership matrix was converging relatively fast."
   ],
   "metadata": {
    "collapsed": false
   },
   "id": "b4845eccd5bc79c3"
  },
  {
   "cell_type": "markdown",
   "source": [
    "Team Member: Abdelrahman Amin (20200311) / Mohamed Hisham (20200483) / Abdelrahman Mostafa (20200827) / Yossef Mohamed (20200669) / Esraa Abdelmoneam (20201015)"
   ],
   "metadata": {},
   "id": "b2fe5ab52d0addeb"
  }
 ]
}
